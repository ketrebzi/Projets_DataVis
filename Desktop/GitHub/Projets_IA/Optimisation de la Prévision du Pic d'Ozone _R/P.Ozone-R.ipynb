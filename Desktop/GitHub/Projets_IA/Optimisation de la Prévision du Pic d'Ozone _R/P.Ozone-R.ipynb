{
 "cells": [
  {
   "cell_type": "markdown",
   "metadata": {},
   "source": [
    "# <FONT COLOR=\"Red\">Partie 1 : Introduction </font>      "
   ]
  },
  {
   "cell_type": "markdown",
   "metadata": {},
   "source": [
    "## <FONT COLOR=\"green\">Introduction </font>"
   ]
  },
  {
   "cell_type": "markdown",
   "metadata": {},
   "source": [
    "L'objectif, sur ces données, est d'améliorer la prévision déterministe (MOCAGE), calculée par les services de MétéoFrance,  de la concentration d'ozone dans certaines stations de prélèvement.  Il s'agit d'un problème dit d'*adaptation statistique* d'une prévision locale de modèles à trop grande échelle en s'aidant d'autres variables également gérées par MétéoFrance, mais à plus petite échelle (température, force du vent...). C'est une première façon de concevoir de l'*IA hybride* entre un modèle déterministe et un algorithme d'apprentissage automatique. Plus précisément, deux variables peuvent être prévues : soit la concentration quantitative d'ozone, soit le dépassement (qualitatif) d'un certain seuil fixé à 150 $\\mu g$. Dans chaque cas, deux approches sont considérées : soit prévoir la *concentration quantitative* puis en déduire l'éventuel dépassement ou bien prévoir directement le *dépassement*. Dans le premier cas, il s'agit d'abord d'une *régression* tandis que dans le deuxième il s'agit d'un problème de *discrimination* à deux classes ou de régression logistique. \n",
    "\n",
    "La question posée est donc: quelles sont les meilleures méthodes et stratégies pour prévoir la concentration d'ozone du lendemain d'une part et l'occurrence d'un pic de pollution d'autre part.\n",
    "\n",
    "On se propose de tester différentes méthodes : régression [logistique](http://wikistat.fr/pdf/st-m-app-rlogit.pdf), [analyse discriminante](http://wikistat.fr/pdf/st-m-app-add.pdf), [réseau de neurones](http://wikistat.fr/pdf/st-m-app-rn.pdf), [arbre de décision](http://wikistat.fr/pdf/st-m-app-cart.pdf), [agrégation d'arbres](http://wikistat.fr/pdf/st-m-app-agreg.pdf) (bagging, boosting, random forest), [SVM](http://wikistat.fr/pdf/st-m-app-svm.pdf).  L'objectif final, à ne pas perdre de vue, est la comparaison de ces méthodes afin de déterminer la plus efficace pour répondre au problème de prévision. Ceci passe par la mise en place d'un protocole très strict afin de s'assurer d'un minimum d'objectivité pour cette comparaison."
   ]
  },
  {
   "cell_type": "markdown",
   "metadata": {},
   "source": [
    "Toutes les opérations sont réalisées dans R avec l'appui de bibliothèques complémentaires éventuellement à télécharger : \n",
    "* Episode 1 : ggplot2, tidyverse, gridExtra, corrplot, FactoMineR, factoextra, glmnet, ggfortify, pROC, \n",
    "* Pour les autres épisodes : mlbench, MASS, boot, class, e1071, rpart, partykit, nnet, ipred, gbm, randomForest, caret, doParallel, xgboost, missForest, Rlof, dbscan, kernlab. "
   ]
  },
  {
   "cell_type": "code",
   "execution_count": null,
   "metadata": {},
   "outputs": [],
   "source": [
    "# Chargement des librairies nécessaires\n",
    "library(ggplot2)\n",
    "library(tidyverse)\n",
    "library(gridExtra)\n",
    "library(GGally)\n",
    "library(plotly)\n",
    "library(corrplot)\n",
    "library(reshape2)\n",
    "library(FactoMineR) \n",
    "library(factoextra)\n",
    "library(glmnet) \n",
    "library(ggfortify)\n",
    "library(pROC)\n",
    "library(ROCR)"
   ]
  },
  {
   "cell_type": "markdown",
   "metadata": {},
   "source": [
    "## <FONT COLOR=\"green\">Prise en charge des données</font>"
   ]
  },
  {
   "cell_type": "markdown",
   "metadata": {},
   "source": [
    "Les données ont été extraites et mises en forme par le service concerné de Météo France. Elles sont décrites par les variables suivantes :\n",
    "\n",
    "* **JOUR** : type de jour ; férié (1) ou pas (0) ;\n",
    "* **O3obs** : concentration d'ozone effectivement observée le lendemain à 17h locales correspondant souvent au maximum de pollution observée ;\n",
    "* **MOCAGE** : prévision de cette pollution obtenue par un modèle déterministe de mécanique des fluides (équation de Navier et Stockes);\n",
    "* **TEMPE** : température prévue par MétéoFrance pour le lendemain 17h ;\n",
    "* **RMH2O** : rapport d'humidité ;\n",
    "* **NO2** : concentration en dioxyde d'azote ;\n",
    "* **NO** : concentration en monoxyde d'azote ;\n",
    "* **STATION** : lieu de l'observation : Aix-en-Provence, Rambouillet, Munchhausen, Cadarache et Plan de Cuques ;\n",
    "* **VentMOD** : force du vent ;\n",
    "* **VentANG** : orientation du vent. \n",
    "\n",
    "Ce sont des données \"propres\", sans trous, bien codées et de petites tailles. Elles présentent donc avant tout un caractère pédagogique car permettant de décliner puis comparer toutes les approches de régression et classification supervisée.\n",
    "\n",
    "**Attention**: Même si les données sont de qualité, une étude exploratoire préalable est toujours nécessaire pour se familiariser avec les données et les préparer à la phase de modélisation."
   ]
  },
  {
   "cell_type": "code",
   "execution_count": 2,
   "metadata": {
    "ExecuteTime": {
     "end_time": "2019-11-22T09:48:06.646161Z",
     "start_time": "2019-11-22T09:48:06.591Z"
    }
   },
   "outputs": [
    {
     "data": {
      "text/html": [
       "<table>\n",
       "<thead><tr><th scope=col>JOUR</th><th scope=col>O3obs</th><th scope=col>MOCAGE</th><th scope=col>TEMPE</th><th scope=col>RMH2O</th><th scope=col>NO2</th><th scope=col>NO</th><th scope=col>STATION</th><th scope=col>VentMOD</th><th scope=col>VentANG</th></tr></thead>\n",
       "<tbody>\n",
       "\t<tr><td>1       </td><td> 91     </td><td> 93.2   </td><td>21.5    </td><td>0.00847 </td><td>1.602   </td><td>0.424   </td><td>Aix     </td><td>9.5000  </td><td>-0.64350</td></tr>\n",
       "\t<tr><td>1       </td><td>100     </td><td>104.6   </td><td>20.2    </td><td>0.00881 </td><td>2.121   </td><td>0.531   </td><td>Aix     </td><td>8.0100  </td><td>-0.04996</td></tr>\n",
       "\t<tr><td>0       </td><td> 82     </td><td>103.6   </td><td>17.4    </td><td>0.00951 </td><td>1.657   </td><td>0.467   </td><td>Aix     </td><td>9.3771  </td><td>-0.12832</td></tr>\n",
       "\t<tr><td>0       </td><td> 94     </td><td> 94.8   </td><td>18.8    </td><td>0.00855 </td><td>2.350   </td><td>0.701   </td><td>Aix     </td><td>9.4578  </td><td>-0.34516</td></tr>\n",
       "\t<tr><td>0       </td><td>107     </td><td> 99.0   </td><td>23.7    </td><td>0.00731 </td><td>1.653   </td><td>0.452   </td><td>Aix     </td><td>7.8791  </td><td>-0.41822</td></tr>\n",
       "\t<tr><td>0       </td><td>150     </td><td>114.3   </td><td>23.6    </td><td>0.01182 </td><td>5.316   </td><td>1.343   </td><td>Aix     </td><td>6.3127  </td><td> 0.06341</td></tr>\n",
       "</tbody>\n",
       "</table>\n"
      ],
      "text/latex": [
       "\\begin{tabular}{r|llllllllll}\n",
       " JOUR & O3obs & MOCAGE & TEMPE & RMH2O & NO2 & NO & STATION & VentMOD & VentANG\\\\\n",
       "\\hline\n",
       "\t 1        &  91      &  93.2    & 21.5     & 0.00847  & 1.602    & 0.424    & Aix      & 9.5000   & -0.64350\\\\\n",
       "\t 1        & 100      & 104.6    & 20.2     & 0.00881  & 2.121    & 0.531    & Aix      & 8.0100   & -0.04996\\\\\n",
       "\t 0        &  82      & 103.6    & 17.4     & 0.00951  & 1.657    & 0.467    & Aix      & 9.3771   & -0.12832\\\\\n",
       "\t 0        &  94      &  94.8    & 18.8     & 0.00855  & 2.350    & 0.701    & Aix      & 9.4578   & -0.34516\\\\\n",
       "\t 0        & 107      &  99.0    & 23.7     & 0.00731  & 1.653    & 0.452    & Aix      & 7.8791   & -0.41822\\\\\n",
       "\t 0        & 150      & 114.3    & 23.6     & 0.01182  & 5.316    & 1.343    & Aix      & 6.3127   &  0.06341\\\\\n",
       "\\end{tabular}\n"
      ],
      "text/markdown": [
       "\n",
       "| JOUR | O3obs | MOCAGE | TEMPE | RMH2O | NO2 | NO | STATION | VentMOD | VentANG |\n",
       "|---|---|---|---|---|---|---|---|---|---|\n",
       "| 1        |  91      |  93.2    | 21.5     | 0.00847  | 1.602    | 0.424    | Aix      | 9.5000   | -0.64350 |\n",
       "| 1        | 100      | 104.6    | 20.2     | 0.00881  | 2.121    | 0.531    | Aix      | 8.0100   | -0.04996 |\n",
       "| 0        |  82      | 103.6    | 17.4     | 0.00951  | 1.657    | 0.467    | Aix      | 9.3771   | -0.12832 |\n",
       "| 0        |  94      |  94.8    | 18.8     | 0.00855  | 2.350    | 0.701    | Aix      | 9.4578   | -0.34516 |\n",
       "| 0        | 107      |  99.0    | 23.7     | 0.00731  | 1.653    | 0.452    | Aix      | 7.8791   | -0.41822 |\n",
       "| 0        | 150      | 114.3    | 23.6     | 0.01182  | 5.316    | 1.343    | Aix      | 6.3127   |  0.06341 |\n",
       "\n"
      ],
      "text/plain": [
       "  JOUR O3obs MOCAGE TEMPE RMH2O   NO2   NO    STATION VentMOD VentANG \n",
       "1 1     91    93.2  21.5  0.00847 1.602 0.424 Aix     9.5000  -0.64350\n",
       "2 1    100   104.6  20.2  0.00881 2.121 0.531 Aix     8.0100  -0.04996\n",
       "3 0     82   103.6  17.4  0.00951 1.657 0.467 Aix     9.3771  -0.12832\n",
       "4 0     94    94.8  18.8  0.00855 2.350 0.701 Aix     9.4578  -0.34516\n",
       "5 0    107    99.0  23.7  0.00731 1.653 0.452 Aix     7.8791  -0.41822\n",
       "6 0    150   114.3  23.6  0.01182 5.316 1.343 Aix     6.3127   0.06341"
      ]
     },
     "metadata": {},
     "output_type": "display_data"
    },
    {
     "data": {
      "text/plain": [
       "      JOUR            O3obs           MOCAGE          TEMPE      \n",
       " Min.   :0.0000   Min.   : 19.0   Min.   : 46.4   Min.   :10.40  \n",
       " 1st Qu.:0.0000   1st Qu.: 87.0   1st Qu.: 97.5   1st Qu.:20.20  \n",
       " Median :0.0000   Median :109.0   Median :125.6   Median :23.80  \n",
       " Mean   :0.3045   Mean   :115.4   Mean   :127.2   Mean   :23.88  \n",
       " 3rd Qu.:1.0000   3rd Qu.:135.0   3rd Qu.:153.6   3rd Qu.:27.60  \n",
       " Max.   :1.0000   Max.   :319.0   Max.   :284.7   Max.   :38.00  \n",
       "     RMH2O              NO2               NO         STATION  \n",
       " Min.   :0.00285   Min.   : 0.258   Min.   :0.0010   Aix:199  \n",
       " 1st Qu.:0.00763   1st Qu.: 1.248   1st Qu.:0.2360   Als:222  \n",
       " Median :0.00985   Median : 2.109   Median :0.3880   Cad:202  \n",
       " Mean   :0.01025   Mean   : 3.505   Mean   :0.6574   Pla:208  \n",
       " 3rd Qu.:0.01244   3rd Qu.: 4.062   3rd Qu.:0.7440   Ram:210  \n",
       " Max.   :0.02753   Max.   :44.396   Max.   :9.4290            \n",
       "    VentMOD           VentANG       \n",
       " Min.   : 0.1414   Min.   :-1.5708  \n",
       " 1st Qu.: 3.9623   1st Qu.:-0.3948  \n",
       " Median : 5.5973   Median : 0.2783  \n",
       " Mean   : 5.9072   Mean   : 0.1631  \n",
       " 3rd Qu.: 7.1063   3rd Qu.: 0.6926  \n",
       " Max.   :19.8910   Max.   : 1.5708  "
      ]
     },
     "metadata": {},
     "output_type": "display_data"
    }
   ],
   "source": [
    "# Lecture des données\n",
    "# path=\"http://www.math.univ-toulouse.fr/~besse/Wikistat/data/\"\n",
    "path <- \"http://www.math.univ-toulouse.fr/~besse/Wikistat/data/\"\n",
    "ozone <- read.table(paste(path, \"depSeuil.dat\", sep = \"\"),\n",
    "                    sep = \",\", header = TRUE)\n",
    "# Premières lignes du jeu de données\n",
    "head(ozone)\n",
    "# Vérification du contenu\n",
    "summary(ozone)"
   ]
  },
  {
   "cell_type": "code",
   "execution_count": 3,
   "metadata": {
    "ExecuteTime": {
     "end_time": "2019-11-18T09:23:37.832339Z",
     "start_time": "2019-11-18T09:21:59.889Z"
    }
   },
   "outputs": [],
   "source": [
    "# Changement du type des variables qualitatives en facteur\n",
    "ozone[, \"JOUR\"] <- as.factor(ozone[, \"JOUR\"])\n",
    "ozone[, \"STATION\"] <- as.factor(ozone[, \"STATION\"])"
   ]
  },
  {
   "cell_type": "code",
   "execution_count": 5,
   "metadata": {},
   "outputs": [
    {
     "data": {
      "text/plain": [
       " JOUR        O3obs           MOCAGE          TEMPE           RMH2O        \n",
       " 0:724   Min.   : 19.0   Min.   : 46.4   Min.   :10.40   Min.   :0.00285  \n",
       " 1:317   1st Qu.: 87.0   1st Qu.: 97.5   1st Qu.:20.20   1st Qu.:0.00763  \n",
       "         Median :109.0   Median :125.6   Median :23.80   Median :0.00985  \n",
       "         Mean   :115.4   Mean   :127.2   Mean   :23.88   Mean   :0.01025  \n",
       "         3rd Qu.:135.0   3rd Qu.:153.6   3rd Qu.:27.60   3rd Qu.:0.01244  \n",
       "         Max.   :319.0   Max.   :284.7   Max.   :38.00   Max.   :0.02753  \n",
       "      NO2               NO         STATION      VentMOD       \n",
       " Min.   : 0.258   Min.   :0.0010   Aix:199   Min.   : 0.1414  \n",
       " 1st Qu.: 1.248   1st Qu.:0.2360   Als:222   1st Qu.: 3.9623  \n",
       " Median : 2.109   Median :0.3880   Cad:202   Median : 5.5973  \n",
       " Mean   : 3.505   Mean   :0.6574   Pla:208   Mean   : 5.9072  \n",
       " 3rd Qu.: 4.062   3rd Qu.:0.7440   Ram:210   3rd Qu.: 7.1063  \n",
       " Max.   :44.396   Max.   :9.4290             Max.   :19.8910  \n",
       "    VentANG       \n",
       " Min.   :-1.5708  \n",
       " 1st Qu.:-0.3948  \n",
       " Median : 0.2783  \n",
       " Mean   : 0.1631  \n",
       " 3rd Qu.: 0.6926  \n",
       " Max.   : 1.5708  "
      ]
     },
     "metadata": {},
     "output_type": "display_data"
    }
   ],
   "source": [
    "# Vérification dans le summary\n",
    "summary(ozone)"
   ]
  },
  {
   "cell_type": "markdown",
   "metadata": {},
   "source": [
    "## <FONT COLOR=\"green\">Exploration élémentaire</font>"
   ]
  },
  {
   "cell_type": "markdown",
   "metadata": {},
   "source": [
    "### Statistiques unidimensionnelles"
   ]
  },
  {
   "cell_type": "markdown",
   "metadata": {},
   "source": [
    "**Question** Précisez la nature des différentes variables. \n",
    "Il est nécessaire d'en étudier la distribution. \n",
    "Notez la symétrie ou non de celles-ci."
   ]
  },
  {
   "cell_type": "markdown",
   "metadata": {},
   "source": [
    "**Reponse:**<br>\n",
    "**O3obs :** Variable quantitative continue représentant les concentration d'ozone effectivement observée. La moyenne est d'environ 115,4, la médiane est à 109, et la plage va de 19 à 319. La distribution pourrait être légèrement asymétrique vers la droite, étant donné que la moyenne est légèrement supérieure à la médiane.<br>\n",
    "**NO2 :** Variable quantitative continue représentant les concentrations de dioxyde d'azote. La moyenne est d'environ 3.505, avec une médiane à 2.109. La distribution semble être fortement asymétrique vers la droite en raison de la présence de valeurs élevées (max : 44.396).<br>\n",
    "**MOCAGE :** Variable quantitative continue représentant la pollution obtenue. La moyenne est d'environ 127,2, avec une médiane à 125,6. La distribution semble globalement symétrique.<br>\n",
    "**TEMPE :** Variable quantitative continue représentant la température prévue. La moyenne est d'environ 23,88, avec une médiane à 23,80. La distribution semble symétrique.<br>\n",
    "**RMH2O :** Variable quantitative continue représentant le rapport d'humidité. La moyenne est d'environ 0,01025, avec une médiane à 0,00985. La distribution semble symétrique(légèrement asymétrique vers la droite).<br>\n",
    "**NO :** Variable quantitative continue représentant la concentration en monoxyde d'azote. Les statistiques indiquent une distribution asymétrique vers la droite en raison de la présence de valeurs élevées (max : 9.429).<br>\n",
    "**VentMOD :** Variable quantitative continue représentant la force du vent. La moyenne est d'environ 5.9072, avec une médiane à 5.5973. La distribution semble symétrique.<br>\n",
    "**VentANG :** Variable quantitative continue représentant l'orientation du vent. La moyenne est d'environ 0,1631, avec une médiane à 0,2783. La distribution semble légèrement asymétrique vers la gauche."
   ]
  },
  {
   "cell_type": "code",
   "execution_count": null,
   "metadata": {},
   "outputs": [],
   "source": [
    "library(ggplot2)\n",
    "library(gridExtra)\n",
    "g1<-ggplot(ozone,aes(x=O3obs))+\n",
    "  geom_histogram(aes(y=after_stat(density)))+\n",
    "  geom_density(alpha=.2, col=\"blue\") \n",
    "g2<-ggplot(ozone,aes(x=NO2))+\n",
    "  geom_histogram(aes(y=..density..))+\n",
    "  geom_density(alpha=.2, col=\"blue\") \n",
    "\n",
    "grid.arrange(g1,g2,ncol=2)"
   ]
  },
  {
   "attachments": {
    "Rplot01.png": {
     "image/png": "[encoded data removed]"
    }
   },
   "cell_type": "markdown",
   "metadata": {},
   "source": [
    " ![Rplot01.png](attachment:Rplot01.png)"
   ]
  },
  {
   "cell_type": "code",
   "execution_count": null,
   "metadata": {},
   "outputs": [],
   "source": [
    "# Même chose pour les autres variables\n",
    "g3<-ggplot(ozone,aes(x=MOCAGE))+geom_histogram(aes(y=..density..))+geom_density(alpha=.2, col=\"blue\") \n",
    "g4<-ggplot(ozone,aes(x=TEMPE))+geom_histogram(aes(y=..density..))+geom_density(alpha=.2, col=\"blue\") \n",
    "g5<-ggplot(ozone,aes(x=RMH2O))+geom_histogram(aes(y=..density..))+geom_density(alpha=.2, col=\"blue\") \n",
    "g6<-ggplot(ozone,aes(x=NO))+geom_histogram(aes(y=..density..))+geom_density(alpha=.2, col=\"blue\") \n",
    "g7<-ggplot(ozone,aes(x=VentMOD))+geom_histogram(aes(y=..density..))+geom_density(alpha=.2, col=\"blue\") \n",
    "g8<-ggplot(ozone,aes(x=VentANG))+geom_histogram(aes(y=..density..))+geom_density(alpha=.2, col=\"blue\") \n",
    "\n",
    "grid.arrange(g3,g4,g5,g6,g7,g8,ncol=3)\n",
    "rm(g1,g2,g3,g4,g5,g6,g7,g8)"
   ]
  },
  {
   "attachments": {
    "Rplot02.png": {
     "image/png": "[encoded data removed]"
    }
   },
   "cell_type": "markdown",
   "metadata": {},
   "source": [
    "![Rplot02.png](attachment:Rplot02.png)"
   ]
  },
  {
   "cell_type": "markdown",
   "metadata": {},
   "source": [
    "#### Transformations de variables"
   ]
  },
  {
   "cell_type": "markdown",
   "metadata": {},
   "source": [
    "Des transformations sont proposées pour rendre certaines distributions plus symétriques et ainsi plus \"gaussiennes\". C'est nécessaire pour certaines méthodes à venir de modélisation (linéaires), pas pour toutes (arbres)."
   ]
  },
  {
   "cell_type": "code",
   "execution_count": 8,
   "metadata": {},
   "outputs": [],
   "source": [
    "ozone[, \"SRMH2O\"] <- sqrt(ozone[, \"RMH2O\"])\n",
    "ozone[, \"LNO2\"] <- log(ozone[, \"NO2\"])\n",
    "ozone[, \"LNO\"] <- log(ozone[, \"NO\"])"
   ]
  },
  {
   "cell_type": "markdown",
   "metadata": {},
   "source": [
    "**Question** Vérifiez l'opportunité de ces transformations puis retirez les variables initiales"
   ]
  },
  {
   "cell_type": "markdown",
   "metadata": {},
   "source": [
    "**Réponse:**<br>\n",
    "**SRMH2O (Racine carrée de RMH2O) :** La création de cette variable vise probablement à rendre la distribution plus symétrique. La plage de valeurs semble plus étendue que celle de RMH2O, ce qui peut faciliter l'interprétation.<br>\n",
    "**LNO2 (Logarithme de NO2) :** La transformation logarithmique est souvent utilisée pour atténuer les effets des valeurs extrêmes. Cela est particulièrement utile lorsque la distribution d'une variable est fortement asymétrique vers la droite, comme c'est le cas pour NO2. La plage de valeurs transformées semble plus resserrée.<br>\n",
    "**LNO (Logarithme de NO) :** La transformation logarithmique est également appliquée à la variable NO, probablement pour des raisons similaires à LNO2."
   ]
  },
  {
   "cell_type": "code",
   "execution_count": 9,
   "metadata": {},
   "outputs": [],
   "source": [
    "ozone <- ozone[, c(1:4, 8:13)]"
   ]
  },
  {
   "cell_type": "markdown",
   "metadata": {},
   "source": [
    "On construit maintenant la variable de dépassement de seuil `DepSeuil` pour obtenir le fichier qui sera effectivement utilisé."
   ]
  },
  {
   "cell_type": "code",
   "execution_count": 10,
   "metadata": {},
   "outputs": [
    {
     "data": {
      "text/plain": [
       " JOUR        O3obs           MOCAGE          TEMPE       STATION  \n",
       " 0:724   Min.   : 19.0   Min.   : 46.4   Min.   :10.40   Aix:199  \n",
       " 1:317   1st Qu.: 87.0   1st Qu.: 97.5   1st Qu.:20.20   Als:222  \n",
       "         Median :109.0   Median :125.6   Median :23.80   Cad:202  \n",
       "         Mean   :115.4   Mean   :127.2   Mean   :23.88   Pla:208  \n",
       "         3rd Qu.:135.0   3rd Qu.:153.6   3rd Qu.:27.60   Ram:210  \n",
       "         Max.   :319.0   Max.   :284.7   Max.   :38.00            \n",
       "    VentMOD           VentANG            SRMH2O             LNO2        \n",
       " Min.   : 0.1414   Min.   :-1.5708   Min.   :0.05339   Min.   :-1.3548  \n",
       " 1st Qu.: 3.9623   1st Qu.:-0.3948   1st Qu.:0.08735   1st Qu.: 0.2215  \n",
       " Median : 5.5973   Median : 0.2783   Median :0.09925   Median : 0.7462  \n",
       " Mean   : 5.9072   Mean   : 0.1631   Mean   :0.09957   Mean   : 0.8440  \n",
       " 3rd Qu.: 7.1063   3rd Qu.: 0.6926   3rd Qu.:0.11153   3rd Qu.: 1.4017  \n",
       " Max.   :19.8910   Max.   : 1.5708   Max.   :0.16592   Max.   : 3.7931  \n",
       "      LNO           DepSeuil  \n",
       " Min.   :-6.9078   FALSE:863  \n",
       " 1st Qu.:-1.4439   TRUE :178  \n",
       " Median :-0.9467              \n",
       " Mean   :-0.8399              \n",
       " 3rd Qu.:-0.2957              \n",
       " Max.   : 2.2438              "
      ]
     },
     "metadata": {},
     "output_type": "display_data"
    }
   ],
   "source": [
    "ozone[, \"DepSeuil\"] <- as.factor(ozone[, \"O3obs\"] > 150)\n",
    "summary(ozone)"
   ]
  },
  {
   "cell_type": "markdown",
   "metadata": {},
   "source": [
    "### Corrélations des variables"
   ]
  },
  {
   "cell_type": "markdown",
   "metadata": {},
   "source": [
    "**Question** Que dire sur les relations des variables 2 à 2 ? "
   ]
  },
  {
   "cell_type": "markdown",
   "metadata": {},
   "source": [
    "**Réponse:**<br>\n",
    "**NO2 contre NO:** r=0.919 indique une corrélation positive très forte entre les deux variables associées.,lorsque la valeur de l'une des variable augmente, la valeur de l'autre variable a tendance à augmenter également.<br>\n",
    "**O3obs contre TEMPE :**  r=0.609  indique une corrélation positive modérée entre les deux variables.<br>\n",
    "**O3obs contre MOCAGE :** r=0.593  indique une corrélation positive modérée entre les deux variables<br>\n",
    "**MOCAGE contre TEMPE,RMH2O, NO2:** r=0.423,r=0.237,0.302 corrélation positive modérée,faible,faible.<br>\n",
    "**O3obs contre NO2 :** r=0.175 indique une corrélation positive faible<br>\n",
    "**TEMPE contre RMH2O, TEMPE contre NO2 :** r=0.238, r=0.151 corrélations positives faibles<br>\n",
    "**RMH2O contre NO2:** r=0.026 orrélation positive faible."
   ]
  },
  {
   "cell_type": "code",
   "execution_count": null,
   "metadata": {},
   "outputs": [],
   "source": [
    "library(GGally)\n",
    "ggpairs(ozone[, c(2:4, 6:10)])"
   ]
  },
  {
   "attachments": {
    "Rplot3.png": {
     "image/png": "[encoded data removed]"
    }
   },
   "cell_type": "markdown",
   "metadata": {},
   "source": [
    "![Rplot3.png](attachment:Rplot3.png)"
   ]
  },
  {
   "cell_type": "markdown",
   "metadata": {},
   "source": [
    "**Question** Complétez en visualisant les corrélations avec la fonction `corrplot()` (package `corrplot`). Quelle est la limite de ce type de diagnostic numérique : quel type de corrélation est mesuré ? "
   ]
  },
  {
   "cell_type": "markdown",
   "metadata": {},
   "source": [
    "**Réponse:**<br>\n",
    "**VentMODE contre VentANG,SRMH2O:** Indique une corrélation négative modérée entre les deux variables.Lorsque la valeur de l'une variable augmente, la valeur de l'autre variable a tendance à diminuer, et vice versa.<br>\n",
    "**La limite principale:** la corrélation ne capture que les relations linéaires, et certaines relations non linéaires peuvent ne pas être détectées par cette méthode.<br>\n",
    "Le type de corrélation mesuré :La fonction corrplotavec la méthode par défaut, c'est-à-dire sans préciser une méthode, utilise généralement le coefficient de corrélation de Pearson pour mesurer la corrélation entre les variables.<br>\n",
    "Le coefficient de corrélation de Pearson mesure la force et la direction d'une relation linéaire entre deux variables continue. Il varie de -1 à 1, où -1 indique une corrélation parfaite négative, 1 indique une corrélation positive parfaite, et 0 indique aucune corrélation linéaire."
   ]
  },
  {
   "cell_type": "code",
   "execution_count": 15,
   "metadata": {
    "scrolled": true
   },
   "outputs": [
    {
     "data": {
      "image/png": "[encoded data removed]",
      "text/plain": [
       "Plot with title \"\""
      ]
     },
     "metadata": {},
     "output_type": "display_data"
    }
   ],
   "source": [
    "library(corrplot)\n",
    "corrplot(cor(ozone[, c(2:4, 6:10)]),method=\"ellipse\")"
   ]
  },
  {
   "cell_type": "markdown",
   "metadata": {},
   "source": [
    "### Analyse en composantes principales"
   ]
  },
  {
   "cell_type": "markdown",
   "metadata": {},
   "source": [
    "Les commandes suivantes permettent de réaliser une [analyse en composantes principales](http://wikistat.fr/pdf/st-m-explo-acp.pdf) (ACP) sur les seules variables quantitatives. Par ailleurs la variable à modéliser (O3obs, concentration observée) n'est pas utilisée."
   ]
  },
  {
   "cell_type": "code",
   "execution_count": null,
   "metadata": {},
   "outputs": [],
   "source": [
    "# ACP réduite\n",
    "library(FactoMineR)\n",
    "acp <- PCA(ozone[, c(11,2:4, 6:10)], scale.unit = TRUE,\n",
    "           graph = FALSE, quali.sup = 1, quanti.sup = 2, ncp = 7)\n",
    "# Décroissance des valeurs propres\n",
    "library(factoextra)\n",
    "g1<-fviz_eig(acp, addlabels = TRUE, ylim = c(0, 40))\n",
    "library(reshape2)\n",
    "g2<-ggplot(melt(acp$ind$coord),aes(x=Var2,y=value))+\n",
    "  geom_boxplot()+\n",
    "  xlab(\"\")\n",
    "grid.arrange(g1,g2,ncol=2)\n",
    "# \n",
    "library(corrplot)\n",
    "corrplot(acp$var$cor, is.corr=FALSE,method=\"ellipse\")"
   ]
  },
  {
   "attachments": {
    "fb1d3a22-0315-4743-8ac6-0fc1eff0433b.png": {
     "image/png": "[encoded data removed]"
    }
   },
   "cell_type": "markdown",
   "metadata": {},
   "source": [
    "![Rplot.png](attachment:fb1d3a22-0315-4743-8ac6-0fc1eff0433b.png)"
   ]
  },
  {
   "attachments": {
    "1055285a-d210-4809-ac20-b8c1a8c1dbac.png": {
     "image/png": "[encoded data removed]"
    }
   },
   "cell_type": "markdown",
   "metadata": {},
   "source": [
    "![Rplot4.png](attachment:1055285a-d210-4809-ac20-b8c1a8c1dbac.png)"
   ]
  },
  {
   "cell_type": "code",
   "execution_count": null,
   "metadata": {},
   "outputs": [],
   "source": [
    "help(PCA)"
   ]
  },
  {
   "cell_type": "markdown",
   "metadata": {},
   "source": [
    "PCA {FactoMineR}\tR Documentation <br>\n",
    "Principal Component Analysis (PCA) <br>\n",
    "Description <br>\n",
    "Performs Principal Component Analysis (PCA) with supplementary individuals, supplementary quantitative variables and supplementary categorical variables.<br>\n",
    "Missing values are replaced by the column mean."
   ]
  },
  {
   "cell_type": "code",
   "execution_count": null,
   "metadata": {},
   "outputs": [],
   "source": [
    "fviz_pca_var(acp)\n",
    "fviz_pca_ind(acp,col.ind=\"contrib\",label=\"none\",gradient.cols = c(\"white\", \"#2E9FDF\", \"#FC4E07\" ))\n",
    "fviz_pca_var(acp,axes=c(1,3))\n",
    "fviz_pca_ind(acp,col.ind=\"contrib\",label=\"none\",gradient.cols = c(\"white\", \"#2E9FDF\", \"#FC4E07\" ),axes=c(1,3))"
   ]
  },
  {
   "attachments": {
    "b0321596-84bf-4067-b826-069db81362ed.png": {
     "image/png": "[encoded data removed]"
    }
   },
   "cell_type": "markdown",
   "metadata": {},
   "source": [
    "![Rplot05.png](attachment:b0321596-84bf-4067-b826-069db81362ed.png)"
   ]
  },
  {
   "attachments": {
    "de02ce93-8906-410b-a6ee-89705d4f9007.png": {
     "image/png": "[encoded data removed]"
    }
   },
   "cell_type": "markdown",
   "metadata": {},
   "source": [
    "![Rplot005.png](attachment:de02ce93-8906-410b-a6ee-89705d4f9007.png)"
   ]
  },
  {
   "attachments": {
    "e5188368-e27b-4c92-a7cd-1ceebdcccd8b.png": {
     "image/png": "[encoded data removed]"
    }
   },
   "cell_type": "markdown",
   "metadata": {},
   "source": [
    "![Rplot0005.png](attachment:e5188368-e27b-4c92-a7cd-1ceebdcccd8b.png)"
   ]
  },
  {
   "attachments": {
    "c04732fe-9f43-4acc-a789-20587338fce6.png": {
     "image/png": "[encoded data removed]"
    }
   },
   "cell_type": "markdown",
   "metadata": {},
   "source": [
    "![Rplot5.png](attachment:c04732fe-9f43-4acc-a789-20587338fce6.png)"
   ]
  },
  {
   "cell_type": "markdown",
   "metadata": {},
   "source": [
    "**Question** Que représentent ces différents graphiques?\n",
    "\n",
    "**Question** Que dire du choix du nombre de dimensions, des valeurs atypiques?\n",
    "\n",
    "**Question** Que dire de la structure de corrélation des variables ? Est-elle intuitive ?"
   ]
  },
  {
   "cell_type": "markdown",
   "metadata": {},
   "source": [
    "**Réponses:** <br>\n",
    "**1- Voici ce que représentent ces graphiques :** <br>\n",
    "**A- Décroissance des valeurs propres :** <br>\n",
    "Le graphique en barres (g1) représentant la décroissance des valeurs propres montre la contribution de chaque composante principale à la variabilité totale des données. Chaque barre représente une composante principale, et la hauteur de la barre indique l'importance de la composante dans la capture de la variabilité des données. <br>\n",
    "**B- Boxplot des coordonnées des individus sur les composantes principales :** <br>\n",
    "Le graphique de boîte (g2) montre la distribution des coordonnées des individus sur les composantes principales. Chaque boîte représente une composante principale, et les points à l'intérieur de la boîte représentent la répartition des coordonnées des individus sur cette composante.<br>\n",
    "**C- Corrélations entre variables et composantes principales :** <br>\n",
    "La matrice de corrélation (corrplot) illustre les corrélations entre les variables initiales et les composantes principales. Cette matrice indique comment chaque variable contribue à chaque composante principale.<br>\n",
    "**D-Graphiques de contribution des individus et variables :** <br>\n",
    "Les graphiques fviz_pca_var et fviz_pca_ind montrent respectivement la contribution des variables et des individus aux composantes principales. Les couleurs et tailles des points sur les graphiques peuvent indiquer l'importance de la contribution."
   ]
  },
  {
   "cell_type": "markdown",
   "metadata": {},
   "source": [
    "2- les deux premières dimensions, qui représentent respectivement 30,1 % et 23,2 % de la variance totale, semblent être suffisantes pour représenter les données. En effet, les individus sont bien répartis dans le plan formé par ces deux dimensions. <br>\n",
    "il semble y avoir aussi quelques valeurs atypiques."
   ]
  },
  {
   "cell_type": "markdown",
   "metadata": {},
   "source": [
    "3- La structure de corrélation des variables dans notre étude révèle des relations significatives entre plusieurs facteurs clés. Nous observons une corrélation positive trés forte entre NO2 et NO et une corrélation positive modérée entre O3obs et TEMPE,et entre O3obs et MOCAGE.\n",
    "En revanche,une corrélation négative modérée entre VentMODE et VentANG,et entre VentMODE et SRMH2O <br>\n",
    "oui la structure de corrélation est intuitive."
   ]
  },
  {
   "cell_type": "markdown",
   "metadata": {},
   "source": [
    "Même graphe en coloriant selon le dépassement de seuil."
   ]
  },
  {
   "cell_type": "code",
   "execution_count": null,
   "metadata": {},
   "outputs": [],
   "source": [
    "fviz_pca_ind(acp, label=\"none\", habillage=1)"
   ]
  },
  {
   "attachments": {
    "18209e10-e796-4007-845a-32bde0747407.png": {
     "image/png": "[encoded data removed]"
    }
   },
   "cell_type": "markdown",
   "metadata": {},
   "source": [
    "![Rplot6.png](attachment:18209e10-e796-4007-845a-32bde0747407.png)"
   ]
  },
  {
   "cell_type": "markdown",
   "metadata": {},
   "source": [
    "L'objectif est donc de définir une surface séparant les deux classes. \n",
    "\n",
    "**Question** Une discrimination linéaire (hyperplan) semble-t-elle possible ? "
   ]
  },
  {
   "cell_type": "markdown",
   "metadata": {},
   "source": [
    "**Réponse:** <br>\n",
    "**Non**,Une discrimination linéaire n'est pas possible car les individus des deux classes sont pas bien séparés et se chevauchent de manière significative"
   ]
  },
  {
   "cell_type": "markdown",
   "metadata": {},
   "source": [
    "### Clustering"
   ]
  },
  {
   "cell_type": "markdown",
   "metadata": {},
   "source": [
    "Ce n'est pas utile ici mais une classification non supervisée est facile à obtenir. Par exemple en 2 classes, par l'algorithme des K-means. Donne-t-elle la même information ?"
   ]
  },
  {
   "cell_type": "markdown",
   "metadata": {},
   "source": [
    "**Réponse:** <br>\n",
    "Le clustering par l'algorithme des K-means **fourni des informations complémentaires à celles obtenues précédemment**"
   ]
  },
  {
   "cell_type": "code",
   "execution_count": null,
   "metadata": {},
   "outputs": [],
   "source": [
    "km.ozone <- kmeans(ozone[, c(3:4, 6:10)], centers = 2)\n",
    "# Représentation dans les coordonnées de l'acp\n",
    "acp2 <- PCA(cbind(clus = as.factor(km.ozone$cluster),\n",
    "          ozone[, c(11, 3:4, 6:10)]), scale.unit = TRUE,\n",
    "          graph = FALSE, quali.sup = 1:2, ncp = 7)\n",
    "fviz_pca_ind(acp2, label=\"none\", habillage=\"clus\")"
   ]
  },
  {
   "attachments": {
    "42a5724d-e516-4c5f-b782-e176019b8c4a.png": {
     "image/png": "[encoded data removed]"
    }
   },
   "cell_type": "markdown",
   "metadata": {},
   "source": [
    "![Rplot7.png](attachment:42a5724d-e516-4c5f-b782-e176019b8c4a.png)"
   ]
  },
  {
   "cell_type": "markdown",
   "metadata": {},
   "source": [
    "   "
   ]
  },
  {
   "cell_type": "markdown",
   "metadata": {},
   "source": [
    "## <FONT COLOR=\"green\">Protocole de comparaison</font>"
   ]
  },
  {
   "cell_type": "markdown",
   "metadata": {},
   "source": [
    "### Stratégie"
   ]
  },
  {
   "cell_type": "markdown",
   "metadata": {},
   "source": [
    "La recherche  d'une meilleure méthode de prévision suit le protocole suivant.\n",
    "\n",
    "1. Étapes descriptives préliminaires uni- et multidimensionnelle visant à repérer les incohérences, les variables non significatives ou de distribution exotique, les individus non concernés ou atypiques... et à étudier les structures des données. Ce peut être aussi la longue étape de construction de variables, attributs ou *features* spécifiques des données. \n",
    "2. Procéder à un tirage aléatoire d'un échantillon *test* qui ne sera utilisé que lors de la *dernière étape* de comparaison des méthodes.\n",
    "3. La partie restante est l'échantillon d'*apprentissage* pour l'estimation des paramètres des modèles.\n",
    "4. Pour chacune des méthodes, optimiser la complexité des modèles en minimisant une estimation \"sans biais\" de l'erreur de prévision, par exemple par [*validation croisée*](http://wikistat.fr/pdf/st-m-app-risque-estim.pdf):\n",
    "    - Variables et interactions à prendre en compte dans la régression linéaire ou logistique;\n",
    "    - variables et méthode pour l'analyse discriminante;\n",
    "    - nombre de feuilles dans l'arbre de régression ou de classification;\n",
    "    - architecture (nombre de neurones, pénalisation) du perceptron;\n",
    "    - algorithme d'agrégation, \n",
    "    - noyau et pénalisation des SVMs.\n",
    "5.  Comparaison des qualités de prévision sur la base du taux de mal classés pour le seul échantillon test qui est resté à l'écart de tout effort ou \"acharnement\" pour l'optimisation des modèles.\n",
    "\n"
   ]
  },
  {
   "cell_type": "markdown",
   "metadata": {},
   "source": [
    "### Remarques"
   ]
  },
  {
   "cell_type": "markdown",
   "metadata": {},
   "source": [
    "* En cas d'échantillon relativement \"petit\" il est recommandé d'itérer la procédure de découpage apprentissage / test, afin de réduire la variance (moyenne) des estimations des erreurs de prévision.\n",
    "\n",
    "**Question** Comment appelle-t-on cette procédure spécifique de validation croisée ?\n",
    "**Réponse:** <br>\n",
    "Cette procédure de validation croisée est appelée **validation croisée k-fold**\n",
    "\n",
    "* *Attention* : ne pas \"tricher\" en modifiant le modèle obtenu lors de l'étape précédente afin d'améliorer le résultat sur l'échantillon test!\n",
    "* Le critère utilisé dépend du problème : erreur quadratique, taux de mauvais classement, entropie, AUC (aire sous la courbe ROC), indice de Pierce, *log loss function*..."
   ]
  },
  {
   "cell_type": "markdown",
   "metadata": {},
   "source": [
    "### Extraction des échantillons"
   ]
  },
  {
   "cell_type": "markdown",
   "metadata": {},
   "source": [
    "Les commandes ci-dessous réalisent l'extraction du sous-ensemble des données d'apprentissage et de test. \n",
    "\n",
    "Utilisez trois chiffres au hasard, et **remplacez** \"111\" ci-dessous, comme initialisation du générateur de nombres aléatoires. Attention, chaque participant tire un échantillon différent ; il est donc \"normal\" de ne pas obtenir les mêmes modèles, les mêmes résultats!"
   ]
  },
  {
   "cell_type": "markdown",
   "metadata": {},
   "source": [
    "Construction des échantillons pour la régression: prévision de la concentration en ozone."
   ]
  },
  {
   "cell_type": "code",
   "execution_count": 19,
   "metadata": {},
   "outputs": [],
   "source": [
    "set.seed(111) # initialisation du générateur\n",
    "# Extraction des échantillons\n",
    "test.ratio <- .2   # part de l'échantillon test\n",
    "npop <- nrow(ozone) # nombre de lignes dans les données\n",
    "nvar <- ncol(ozone) # nombre de colonnes\n",
    "# taille de l'échantillon test\n",
    "ntest <- ceiling(npop * test.ratio) \n",
    "# indices de l'échantillon test\n",
    "testi <- sample(1:npop, ntest)\n",
    "# indices de l'échantillon d'apprentissage\n",
    "appri <- setdiff(1:npop, testi) "
   ]
  },
  {
   "cell_type": "code",
   "execution_count": 20,
   "metadata": {},
   "outputs": [
    {
     "name": "stdout",
     "output_type": "stream",
     "text": [
      "'data.frame':\t832 obs. of  10 variables:\n",
      " $ JOUR   : Factor w/ 2 levels \"0\",\"1\": 2 2 1 1 1 1 1 2 2 1 ...\n",
      " $ O3obs  : int  91 100 82 94 107 150 164 135 121 129 ...\n",
      " $ MOCAGE : num  93.2 104.6 103.6 94.8 99 ...\n",
      " $ TEMPE  : num  21.5 20.2 17.4 18.8 23.7 23.6 26.6 23.5 23.3 23.7 ...\n",
      " $ STATION: Factor w/ 5 levels \"Aix\",\"Als\",\"Cad\",..: 1 1 1 1 1 1 1 1 1 1 ...\n",
      " $ VentMOD: num  9.5 8.01 9.38 9.46 7.88 ...\n",
      " $ VentANG: num  -0.643 -0.05 -0.128 -0.345 -0.418 ...\n",
      " $ SRMH2O : num  0.092 0.0939 0.0975 0.0925 0.0855 ...\n",
      " $ LNO2   : num  0.471 0.752 0.505 0.854 0.503 ...\n",
      " $ LNO    : num  -0.858 -0.633 -0.761 -0.355 -0.794 ...\n",
      "'data.frame':\t209 obs. of  10 variables:\n",
      " $ JOUR   : Factor w/ 2 levels \"0\",\"1\": 1 1 1 2 1 1 1 2 2 2 ...\n",
      " $ O3obs  : int  135 143 71 77 79 155 101 75 114 156 ...\n",
      " $ MOCAGE : num  127.8 189.7 103.9 73 87.8 ...\n",
      " $ TEMPE  : num  18.8 21 25.9 23.5 12.3 32.2 19.4 27.6 24.9 27 ...\n",
      " $ STATION: Factor w/ 5 levels \"Aix\",\"Als\",\"Cad\",..: 3 4 1 5 5 1 2 3 4 2 ...\n",
      " $ VentMOD: num  2.1 3.14 10.68 4.3 4.6 ...\n",
      " $ VentANG: num  -0.0476 0.6499 -0.7523 0.0232 -0.77 ...\n",
      " $ SRMH2O : num  0.0865 0.1155 0.068 0.0782 0.0906 ...\n",
      " $ LNO2   : num  0.331 -0.456 1.043 0.178 1.028 ...\n",
      " $ LNO    : num  -1.411 -2.551 -0.428 -1.238 -0.272 ...\n"
     ]
    }
   ],
   "source": [
    "# construction de l'échantillon d'apprentissage\n",
    "datappr <- ozone[appri, -11] \n",
    "# construction de l'échantillon test\n",
    "datestr <- ozone[testi, -11] \n",
    "# vérification\n",
    "str(datappr)\n",
    "str(datestr)\n",
    "#summary(datappr) "
   ]
  },
  {
   "cell_type": "markdown",
   "metadata": {},
   "source": [
    "Construction des échantillons pour la discrimination: prévision de dépassement."
   ]
  },
  {
   "cell_type": "code",
   "execution_count": 21,
   "metadata": {
    "ExecuteTime": {
     "end_time": "2019-11-18T09:23:40.000864Z",
     "start_time": "2019-11-18T09:22:02.905Z"
    }
   },
   "outputs": [
    {
     "name": "stdout",
     "output_type": "stream",
     "text": [
      "'data.frame':\t832 obs. of  10 variables:\n",
      " $ JOUR    : Factor w/ 2 levels \"0\",\"1\": 2 2 1 1 1 1 1 2 2 1 ...\n",
      " $ MOCAGE  : num  93.2 104.6 103.6 94.8 99 ...\n",
      " $ TEMPE   : num  21.5 20.2 17.4 18.8 23.7 23.6 26.6 23.5 23.3 23.7 ...\n",
      " $ STATION : Factor w/ 5 levels \"Aix\",\"Als\",\"Cad\",..: 1 1 1 1 1 1 1 1 1 1 ...\n",
      " $ VentMOD : num  9.5 8.01 9.38 9.46 7.88 ...\n",
      " $ VentANG : num  -0.643 -0.05 -0.128 -0.345 -0.418 ...\n",
      " $ SRMH2O  : num  0.092 0.0939 0.0975 0.0925 0.0855 ...\n",
      " $ LNO2    : num  0.471 0.752 0.505 0.854 0.503 ...\n",
      " $ LNO     : num  -0.858 -0.633 -0.761 -0.355 -0.794 ...\n",
      " $ DepSeuil: Factor w/ 2 levels \"FALSE\",\"TRUE\": 1 1 1 1 1 1 2 1 1 1 ...\n",
      "'data.frame':\t209 obs. of  10 variables:\n",
      " $ JOUR    : Factor w/ 2 levels \"0\",\"1\": 1 1 1 2 1 1 1 2 2 2 ...\n",
      " $ MOCAGE  : num  127.8 189.7 103.9 73 87.8 ...\n",
      " $ TEMPE   : num  18.8 21 25.9 23.5 12.3 32.2 19.4 27.6 24.9 27 ...\n",
      " $ STATION : Factor w/ 5 levels \"Aix\",\"Als\",\"Cad\",..: 3 4 1 5 5 1 2 3 4 2 ...\n",
      " $ VentMOD : num  2.1 3.14 10.68 4.3 4.6 ...\n",
      " $ VentANG : num  -0.0476 0.6499 -0.7523 0.0232 -0.77 ...\n",
      " $ SRMH2O  : num  0.0865 0.1155 0.068 0.0782 0.0906 ...\n",
      " $ LNO2    : num  0.331 -0.456 1.043 0.178 1.028 ...\n",
      " $ LNO     : num  -1.411 -2.551 -0.428 -1.238 -0.272 ...\n",
      " $ DepSeuil: Factor w/ 2 levels \"FALSE\",\"TRUE\": 1 1 1 1 1 2 1 1 1 2 ...\n"
     ]
    }
   ],
   "source": [
    "# construction de l'échantillon d'apprentissage\n",
    "datappq <- ozone[appri,-2]\n",
    "# construction de l'échantillon test \n",
    "datestq <- ozone[testi,-2] \n",
    "\n",
    "# vérification\n",
    "str(datappq)\n",
    "str(datestq)\n",
    "#summary(datappq)"
   ]
  },
  {
   "cell_type": "markdown",
   "metadata": {},
   "source": [
    "**Remarque** : Nous avons ici \"manuellement\" fait la construction des échantillons à des fins pédagogiques. En pratique, on peut utiliser des fonctions de R qui font ce travail, en particulier la fonction `createDataPartition` de la librairie `caret`. "
   ]
  },
  {
   "cell_type": "markdown",
   "metadata": {},
   "source": [
    "Enfin, avant de passer aux différents algorithmes, définissons une fonction traçant le graphe des résidus avec des couleurs et des échelles fixes sur les axes. "
   ]
  },
  {
   "cell_type": "code",
   "execution_count": null,
   "metadata": {},
   "outputs": [],
   "source": [
    "gplot.res <- function(x, y, titre = \"titre\"){\n",
    "    ggplot(data.frame(x=x, y=y),aes(x,y))+\n",
    "    geom_point(col = \"blue\")+xlim(0, 250)+ylim(-150, 150)+\n",
    "    ylab(\"Résidus\")+ xlab(\"Valeurs prédites\")+\n",
    "    ggtitle(titre)+\n",
    "    geom_hline(yintercept = 0,col=\"green\")\n",
    "}\n",
    "# Exemple d'utilisation\n",
    "x <- c(50, 100, 150, 200)\n",
    "y <- c(-30, 10, 5, 20)\n",
    "\n",
    "gplot.res(x, y, \"Graphique de Résidus\")"
   ]
  },
  {
   "attachments": {
    "3392dffc-9baf-49a5-8568-13697857dffb.png": {
     "image/png": "[encoded data removed]"
    }
   },
   "cell_type": "markdown",
   "metadata": {},
   "source": [
    "![Rplot8.png](attachment:3392dffc-9baf-49a5-8568-13697857dffb.png)"
   ]
  },
  {
   "cell_type": "markdown",
   "metadata": {},
   "source": [
    "# <FONT COLOR=\"Red\">Partie 2 : Prévision par modèle gaussien </font>"
   ]
  },
  {
   "cell_type": "markdown",
   "metadata": {},
   "source": [
    "Le premier modèle à tester est un simple modèle linéaire Gaussien mais, comme certaines variables sont qualitatives, il s'agit d'une analyse de covariance. D'autre part, on s'intéresse à savoir si des interactions sont à prendre en compte. Le modèle devient alors polynomial d'ordre 2 ou quadratique."
   ]
  },
  {
   "cell_type": "markdown",
   "metadata": {},
   "source": [
    "## <FONT COLOR=\"green\">Modèle linéaire</font>"
   ]
  },
  {
   "cell_type": "markdown",
   "metadata": {},
   "source": [
    "#### Sans sélection de variables"
   ]
  },
  {
   "cell_type": "markdown",
   "metadata": {},
   "source": [
    "Le modèle linéaire intégre ici des variables qualitatives; c'est dans ce cas une *analyse de covariance*  estimée par la fonction `aov` mieux adaptée à ce modèle."
   ]
  },
  {
   "cell_type": "code",
   "execution_count": null,
   "metadata": {},
   "outputs": [],
   "source": [
    "# estimation du modèle sans interaction\n",
    "reg.lm <-aov(O3obs ~ . , data = datappr)\n",
    "# Extraction des résidus et des valeurs ajustées de ce modèle\n",
    "res.lm <- reg.lm$residuals\n",
    "fit.lm <- reg.lm$fitted.values\n",
    "# Graphe des résidus. \n",
    "gplot.res(fit.lm,res.lm,\"ANCOVA sans sélection de variables\")"
   ]
  },
  {
   "attachments": {
    "c723fa50-6ec1-48c5-85a8-1299e43f2668.png": {
     "image/png": "[encoded data removed]"
    }
   },
   "cell_type": "markdown",
   "metadata": {},
   "source": [
    "![Rplot9.png](attachment:c723fa50-6ec1-48c5-85a8-1299e43f2668.png)"
   ]
  },
  {
   "cell_type": "markdown",
   "metadata": {},
   "source": [
    "**Question** Que dire de la distribution de ces résidus ? \n",
    "\n",
    "**Question** La forme du nuage renseigne sur les hypothèses de linéarité du modèle et d'homoscédasticité. Que dire de la validité de ce modèle ?\n",
    "\n",
    "Appréciez néanmoins sa significativité par la commande suivante.\n"
   ]
  },
  {
   "cell_type": "markdown",
   "metadata": {},
   "source": [
    "**Réponses:** <br>\n",
    "1- La distribution des résidus **semble être normale**. En effet, les résidus sont distribués autour de la ligne de référence (y = 0) avec une forme gaussienne. La plupart des résidus sont concentrés autour de la ligne de référence, avec quelques résidus plus éloignés. <br>\n",
    "Cependant, il y a quelques points à noter :<br>\n",
    "Il y a une légère tendance des résidus à être plus négatifs que positifs.<br>\n",
    "Il y a quelques résidus qui sont plus éloignés de la ligne de référence que les autres.<br>\n",
    "2-la forme du nuage de points suggère que **le modèle est valide**, mais qu'il existe quelques limites. L'hypothèse de linéarité est probablement respectée, mais l'hypothèse d'homoscédasticité pourrait ne pas être respectée."
   ]
  },
  {
   "cell_type": "code",
   "execution_count": 23,
   "metadata": {},
   "outputs": [
    {
     "data": {
      "text/plain": [
       "             Df Sum Sq Mean Sq F value   Pr(>F)    \n",
       "JOUR          1    106     106   0.134 0.714791    \n",
       "MOCAGE        1 470173  470173 590.680  < 2e-16 ***\n",
       "TEMPE         1 225427  225427 283.204  < 2e-16 ***\n",
       "STATION       4  10163    2541   3.192 0.012926 *  \n",
       "VentMOD       1  13846   13846  17.395 3.36e-05 ***\n",
       "VentANG       1  10088   10088  12.673 0.000392 ***\n",
       "SRMH2O        1    273     273   0.343 0.558101    \n",
       "LNO2          1   3337    3337   4.193 0.040918 *  \n",
       "LNO           1   9006    9006  11.314 0.000805 ***\n",
       "Residuals   819 651913     796                     \n",
       "---\n",
       "Signif. codes:  0 '***' 0.001 '**' 0.01 '*' 0.05 '.' 0.1 ' ' 1"
      ]
     },
     "metadata": {},
     "output_type": "display_data"
    }
   ],
   "source": [
    "summary(reg.lm)"
   ]
  },
  {
   "cell_type": "code",
   "execution_count": 24,
   "metadata": {},
   "outputs": [
    {
     "data": {
      "text/html": [
       "<dl class=dl-horizontal>\n",
       "\t<dt>(Intercept)</dt>\n",
       "\t\t<dd>-16.0273450980118</dd>\n",
       "\t<dt>JOUR1</dt>\n",
       "\t\t<dd>1.21444628791876</dd>\n",
       "\t<dt>MOCAGE</dt>\n",
       "\t\t<dd>0.384981448178631</dd>\n",
       "\t<dt>TEMPE</dt>\n",
       "\t\t<dd>4.32704535988957</dd>\n",
       "\t<dt>STATIONAls</dt>\n",
       "\t\t<dd>2.14259575252117</dd>\n",
       "\t<dt>STATIONCad</dt>\n",
       "\t\t<dd>8.81157992073353</dd>\n",
       "\t<dt>STATIONPla</dt>\n",
       "\t\t<dd>21.0287163608663</dd>\n",
       "\t<dt>STATIONRam</dt>\n",
       "\t\t<dd>3.46281508807016</dd>\n",
       "\t<dt>VentMOD</dt>\n",
       "\t\t<dd>-1.375691793879</dd>\n",
       "\t<dt>VentANG</dt>\n",
       "\t\t<dd>4.50706767978911</dd>\n",
       "\t<dt>SRMH2O</dt>\n",
       "\t\t<dd>52.5682991119587</dd>\n",
       "\t<dt>LNO2</dt>\n",
       "\t\t<dd>-14.2991137044367</dd>\n",
       "\t<dt>LNO</dt>\n",
       "\t\t<dd>16.9322029309928</dd>\n",
       "</dl>\n"
      ],
      "text/latex": [
       "\\begin{description*}\n",
       "\\item[(Intercept)] -16.0273450980118\n",
       "\\item[JOUR1] 1.21444628791876\n",
       "\\item[MOCAGE] 0.384981448178631\n",
       "\\item[TEMPE] 4.32704535988957\n",
       "\\item[STATIONAls] 2.14259575252117\n",
       "\\item[STATIONCad] 8.81157992073353\n",
       "\\item[STATIONPla] 21.0287163608663\n",
       "\\item[STATIONRam] 3.46281508807016\n",
       "\\item[VentMOD] -1.375691793879\n",
       "\\item[VentANG] 4.50706767978911\n",
       "\\item[SRMH2O] 52.5682991119587\n",
       "\\item[LNO2] -14.2991137044367\n",
       "\\item[LNO] 16.9322029309928\n",
       "\\end{description*}\n"
      ],
      "text/markdown": [
       "(Intercept)\n",
       ":   -16.0273450980118JOUR1\n",
       ":   1.21444628791876MOCAGE\n",
       ":   0.384981448178631TEMPE\n",
       ":   4.32704535988957STATIONAls\n",
       ":   2.14259575252117STATIONCad\n",
       ":   8.81157992073353STATIONPla\n",
       ":   21.0287163608663STATIONRam\n",
       ":   3.46281508807016VentMOD\n",
       ":   -1.375691793879VentANG\n",
       ":   4.50706767978911SRMH2O\n",
       ":   52.5682991119587LNO2\n",
       ":   -14.2991137044367LNO\n",
       ":   16.9322029309928\n",
       "\n"
      ],
      "text/plain": [
       "(Intercept)       JOUR1      MOCAGE       TEMPE  STATIONAls  STATIONCad \n",
       "-16.0273451   1.2144463   0.3849814   4.3270454   2.1425958   8.8115799 \n",
       " STATIONPla  STATIONRam     VentMOD     VentANG      SRMH2O        LNO2 \n",
       " 21.0287164   3.4628151  -1.3756918   4.5070677  52.5682991 -14.2991137 \n",
       "        LNO \n",
       " 16.9322029 "
      ]
     },
     "metadata": {},
     "output_type": "display_data"
    }
   ],
   "source": [
    "coef(reg.lm)"
   ]
  },
  {
   "cell_type": "markdown",
   "metadata": {},
   "source": [
    "**Question** Ce premier modèle est comparé avec celui de la seule prévision déterministe MOCAGE. Qu'en conclure?"
   ]
  },
  {
   "cell_type": "markdown",
   "metadata": {},
   "source": [
    "**Réponse:** <br>\n",
    "En comparant les deux graphiques des résidus, **on peut voir que le modèle linéaire avec sélection de variables présente une amélioration significative par rapport au modèle déterministe MOCAGE.**"
   ]
  },
  {
   "cell_type": "code",
   "execution_count": null,
   "metadata": {
    "ExecuteTime": {
     "end_time": "2019-11-18T09:23:40.226000Z",
     "start_time": "2019-11-18T09:22:04.102Z"
    }
   },
   "outputs": [],
   "source": [
    "# Graphe des résidus du modèle déterministe MOCAGE\n",
    "g1<-gplot.res(datappr[, \"MOCAGE\"],datappr[, \"O3obs\"]-datappr[, \"MOCAGE\"], \"linéaire, MOCAGE seul\")\n",
    "\n",
    "g2<-gplot.res(fit.lm, res.lm, \"Linéaire, sans sélection\")\n",
    "grid.arrange(g1,g2,ncol=2)"
   ]
  },
  {
   "attachments": {
    "c610b30d-e6a3-4118-b857-18ce95b6e475.png": {
     "image/png": "[encoded data removed]"
    }
   },
   "cell_type": "markdown",
   "metadata": {},
   "source": [
    "Messages d'avis :\n",
    "1: Removed 6 rows containing missing values (`geom_point()`). \n",
    "2: Removed 1 rows containing missing values (`geom_point()`).\n",
    "![Rplot10.png](attachment:c610b30d-e6a3-4118-b857-18ce95b6e475.png)"
   ]
  },
  {
   "cell_type": "markdown",
   "metadata": {},
   "source": [
    "#### Sélection de variable par régularisation L1 (LASSO)"
   ]
  },
  {
   "cell_type": "code",
   "execution_count": 2,
   "metadata": {},
   "outputs": [
    {
     "data": {
      "image/png": "[encoded data removed]",
      "text/plain": [
       "plot without title"
      ]
     },
     "metadata": {},
     "output_type": "display_data"
    }
   ],
   "source": [
    "library(glmnet)\n",
    "# avec des variables quantitatives seulement\n",
    "reg.lasso.quanti <- glmnet(y = datappr[, 2],\n",
    "                           x = as.matrix(datappr[, -c(1, 2, 5)]))\n",
    "# avec toutes les variables, créer d'abord la matrice d'expériences \n",
    "# avec 'model.matrix' (penser à retirer l'intercept du modèle)\n",
    "x.mat <- model.matrix(O3obs ~ . - 1, data = datappr)\n",
    "reg.lasso <- glmnet(y = datappr$O3obs, x = x.mat)\n",
    "options(repr.plot.width = 12, repr.plot.height = 10)\n",
    "plot(reg.lasso, xvar = \"lambda\", label = TRUE)\n",
    "legend(\"topright\", \n",
    "       legend = paste(1:ncol(x.mat), \" - \", colnames(x.mat)))"
   ]
  },
  {
   "cell_type": "markdown",
   "metadata": {},
   "source": [
    "**Question** Que fait la commande model.matrix ? Comment sont gérées les variables catégorielles ?"
   ]
  },
  {
   "cell_type": "markdown",
   "metadata": {},
   "source": [
    "**Réponse:** <br>\n",
    "1-La commande model.matrix() crée une matrice d'expériences à partir d'un modèle de régression. Cette matrice est composée des variables explicatives du modèle, qu'elles soient quantitatives ou qualitatives. <br>\n",
    "2- Pour les variables qualitatives(catégorielles), model.matrix() crée une colonne par niveau de la variable. Les valeurs des colonnes sont des indicateurs binaires. Un indicateur binaire vaut 1 si la valeur de la variable explicative est égale au niveau correspondant, et 0 sinon"
   ]
  },
  {
   "cell_type": "code",
   "execution_count": 26,
   "metadata": {},
   "outputs": [
    {
     "data": {
      "text/html": [
       "<table>\n",
       "<thead><tr><th scope=col>JOUR0</th><th scope=col>JOUR1</th><th scope=col>MOCAGE</th><th scope=col>TEMPE</th><th scope=col>STATIONAls</th><th scope=col>STATIONCad</th><th scope=col>STATIONPla</th><th scope=col>STATIONRam</th><th scope=col>VentMOD</th><th scope=col>VentANG</th><th scope=col>SRMH2O</th><th scope=col>LNO2</th><th scope=col>LNO</th></tr></thead>\n",
       "<tbody>\n",
       "\t<tr><td>0         </td><td>1         </td><td> 93.2     </td><td>21.5      </td><td>0         </td><td>0         </td><td>0         </td><td>0         </td><td>9.5000    </td><td>-0.64350  </td><td>0.09203260</td><td>0.4712528 </td><td>-0.8580218</td></tr>\n",
       "\t<tr><td>0         </td><td>1         </td><td>104.6     </td><td>20.2      </td><td>0         </td><td>0         </td><td>0         </td><td>0         </td><td>8.0100    </td><td>-0.04996  </td><td>0.09386160</td><td>0.7518877 </td><td>-0.6329933</td></tr>\n",
       "\t<tr><td>1         </td><td>0         </td><td>103.6     </td><td>17.4      </td><td>0         </td><td>0         </td><td>0         </td><td>0         </td><td>9.3771    </td><td>-0.12832  </td><td>0.09751923</td><td>0.5050087 </td><td>-0.7614260</td></tr>\n",
       "\t<tr><td>1         </td><td>0         </td><td> 94.8     </td><td>18.8      </td><td>0         </td><td>0         </td><td>0         </td><td>0         </td><td>9.4578    </td><td>-0.34516  </td><td>0.09246621</td><td>0.8544153 </td><td>-0.3552474</td></tr>\n",
       "\t<tr><td>1         </td><td>0         </td><td> 99.0     </td><td>23.7      </td><td>0         </td><td>0         </td><td>0         </td><td>0         </td><td>7.8791    </td><td>-0.41822  </td><td>0.08549854</td><td>0.5025918 </td><td>-0.7940731</td></tr>\n",
       "\t<tr><td>1         </td><td>0         </td><td>114.3     </td><td>23.6      </td><td>0         </td><td>0         </td><td>0         </td><td>0         </td><td>6.3127    </td><td> 0.06341  </td><td>0.10871982</td><td>1.6707211 </td><td> 0.2949059</td></tr>\n",
       "</tbody>\n",
       "</table>\n"
      ],
      "text/latex": [
       "\\begin{tabular}{r|lllllllllllll}\n",
       " JOUR0 & JOUR1 & MOCAGE & TEMPE & STATIONAls & STATIONCad & STATIONPla & STATIONRam & VentMOD & VentANG & SRMH2O & LNO2 & LNO\\\\\n",
       "\\hline\n",
       "\t 0          & 1          &  93.2      & 21.5       & 0          & 0          & 0          & 0          & 9.5000     & -0.64350   & 0.09203260 & 0.4712528  & -0.8580218\\\\\n",
       "\t 0          & 1          & 104.6      & 20.2       & 0          & 0          & 0          & 0          & 8.0100     & -0.04996   & 0.09386160 & 0.7518877  & -0.6329933\\\\\n",
       "\t 1          & 0          & 103.6      & 17.4       & 0          & 0          & 0          & 0          & 9.3771     & -0.12832   & 0.09751923 & 0.5050087  & -0.7614260\\\\\n",
       "\t 1          & 0          &  94.8      & 18.8       & 0          & 0          & 0          & 0          & 9.4578     & -0.34516   & 0.09246621 & 0.8544153  & -0.3552474\\\\\n",
       "\t 1          & 0          &  99.0      & 23.7       & 0          & 0          & 0          & 0          & 7.8791     & -0.41822   & 0.08549854 & 0.5025918  & -0.7940731\\\\\n",
       "\t 1          & 0          & 114.3      & 23.6       & 0          & 0          & 0          & 0          & 6.3127     &  0.06341   & 0.10871982 & 1.6707211  &  0.2949059\\\\\n",
       "\\end{tabular}\n"
      ],
      "text/markdown": [
       "\n",
       "| JOUR0 | JOUR1 | MOCAGE | TEMPE | STATIONAls | STATIONCad | STATIONPla | STATIONRam | VentMOD | VentANG | SRMH2O | LNO2 | LNO |\n",
       "|---|---|---|---|---|---|---|---|---|---|---|---|---|\n",
       "| 0          | 1          |  93.2      | 21.5       | 0          | 0          | 0          | 0          | 9.5000     | -0.64350   | 0.09203260 | 0.4712528  | -0.8580218 |\n",
       "| 0          | 1          | 104.6      | 20.2       | 0          | 0          | 0          | 0          | 8.0100     | -0.04996   | 0.09386160 | 0.7518877  | -0.6329933 |\n",
       "| 1          | 0          | 103.6      | 17.4       | 0          | 0          | 0          | 0          | 9.3771     | -0.12832   | 0.09751923 | 0.5050087  | -0.7614260 |\n",
       "| 1          | 0          |  94.8      | 18.8       | 0          | 0          | 0          | 0          | 9.4578     | -0.34516   | 0.09246621 | 0.8544153  | -0.3552474 |\n",
       "| 1          | 0          |  99.0      | 23.7       | 0          | 0          | 0          | 0          | 7.8791     | -0.41822   | 0.08549854 | 0.5025918  | -0.7940731 |\n",
       "| 1          | 0          | 114.3      | 23.6       | 0          | 0          | 0          | 0          | 6.3127     |  0.06341   | 0.10871982 | 1.6707211  |  0.2949059 |\n",
       "\n"
      ],
      "text/plain": [
       "  JOUR0 JOUR1 MOCAGE TEMPE STATIONAls STATIONCad STATIONPla STATIONRam VentMOD\n",
       "1 0     1      93.2  21.5  0          0          0          0          9.5000 \n",
       "2 0     1     104.6  20.2  0          0          0          0          8.0100 \n",
       "3 1     0     103.6  17.4  0          0          0          0          9.3771 \n",
       "4 1     0      94.8  18.8  0          0          0          0          9.4578 \n",
       "5 1     0      99.0  23.7  0          0          0          0          7.8791 \n",
       "6 1     0     114.3  23.6  0          0          0          0          6.3127 \n",
       "  VentANG  SRMH2O     LNO2      LNO       \n",
       "1 -0.64350 0.09203260 0.4712528 -0.8580218\n",
       "2 -0.04996 0.09386160 0.7518877 -0.6329933\n",
       "3 -0.12832 0.09751923 0.5050087 -0.7614260\n",
       "4 -0.34516 0.09246621 0.8544153 -0.3552474\n",
       "5 -0.41822 0.08549854 0.5025918 -0.7940731\n",
       "6  0.06341 0.10871982 1.6707211  0.2949059"
      ]
     },
     "metadata": {},
     "output_type": "display_data"
    }
   ],
   "source": [
    "#help(model.matrix)\n",
    "head(x.mat)"
   ]
  },
  {
   "cell_type": "markdown",
   "metadata": {},
   "source": [
    "**Question** Que représentent les courbes ci-dessus, appelées \"chemins de régularisation\"?"
   ]
  },
  {
   "cell_type": "markdown",
   "metadata": {},
   "source": [
    "**Réponse:** <br>\n",
    "Les courbes appelées \"chemins de régularisation\" représentent les coefficients des variables explicatives du modèle de régression linéaire en fonction de la valeur du paramètre de régularisation. La régularisation est une technique qui permet de réduire le sur-apprentissage d'un modèle de machine learning.\n",
    "<br>"
   ]
  },
  {
   "cell_type": "markdown",
   "metadata": {},
   "source": [
    "On s'intéresse ensuite au choix du paramètre de régularisation par validation croisée: "
   ]
  },
  {
   "cell_type": "code",
   "execution_count": 5,
   "metadata": {},
   "outputs": [
    {
     "ename": "ERROR",
     "evalue": "Error in autoplot(reg.lasso.cv): impossible de trouver la fonction \"autoplot\"\n",
     "output_type": "error",
     "traceback": [
      "Error in autoplot(reg.lasso.cv): impossible de trouver la fonction \"autoplot\"\nTraceback:\n"
     ]
    },
    {
     "data": {
      "image/png": "[encoded data removed]",
      "text/plain": [
       "plot without title"
      ]
     },
     "metadata": {},
     "output_type": "display_data"
    }
   ],
   "source": [
    "reg.lasso.cv <- cv.glmnet(y = datappr[, 2], x = x.mat)\n",
    "plot(reg.lasso.cv)\n",
    "autoplot(reg.lasso.cv)"
   ]
  },
  {
   "cell_type": "code",
   "execution_count": 29,
   "metadata": {},
   "outputs": [
    {
     "data": {
      "text/html": [
       "\n",
       "<table width=\"100%\" summary=\"page for cv.glmnet {glmnet}\"><tr><td>cv.glmnet {glmnet}</td><td style=\"text-align: right;\">R Documentation</td></tr></table>\n",
       "\n",
       "<h2>Cross-validation for glmnet</h2>\n",
       "\n",
       "<h3>Description</h3>\n",
       "\n",
       "<p>Does k-fold cross-validation for glmnet, produces a plot, and returns a\n",
       "value for <code>lambda</code> (and <code>gamma</code> if <code>relax=TRUE</code>)\n",
       "</p>\n",
       "\n",
       "\n",
       "<h3>Usage</h3>\n",
       "\n",
       "<pre>\n",
       "cv.glmnet(\n",
       "  x,\n",
       "  y,\n",
       "  weights = NULL,\n",
       "  offset = NULL,\n",
       "  lambda = NULL,\n",
       "  type.measure = c(\"default\", \"mse\", \"deviance\", \"class\", \"auc\", \"mae\", \"C\"),\n",
       "  nfolds = 10,\n",
       "  foldid = NULL,\n",
       "  alignment = c(\"lambda\", \"fraction\"),\n",
       "  grouped = TRUE,\n",
       "  keep = FALSE,\n",
       "  parallel = FALSE,\n",
       "  gamma = c(0, 0.25, 0.5, 0.75, 1),\n",
       "  relax = FALSE,\n",
       "  trace.it = 0,\n",
       "  ...\n",
       ")\n",
       "</pre>\n",
       "\n",
       "\n",
       "<h3>Arguments</h3>\n",
       "\n",
       "<table summary=\"R argblock\">\n",
       "<tr valign=\"top\"><td><code>x</code></td>\n",
       "<td>\n",
       "<p><code>x</code> matrix as in <code>glmnet</code>.</p>\n",
       "</td></tr>\n",
       "<tr valign=\"top\"><td><code>y</code></td>\n",
       "<td>\n",
       "<p>response <code>y</code> as in <code>glmnet</code>.</p>\n",
       "</td></tr>\n",
       "<tr valign=\"top\"><td><code>weights</code></td>\n",
       "<td>\n",
       "<p>Observation weights; defaults to 1 per observation</p>\n",
       "</td></tr>\n",
       "<tr valign=\"top\"><td><code>offset</code></td>\n",
       "<td>\n",
       "<p>Offset vector (matrix) as in <code>glmnet</code></p>\n",
       "</td></tr>\n",
       "<tr valign=\"top\"><td><code>lambda</code></td>\n",
       "<td>\n",
       "<p>Optional user-supplied lambda sequence; default is\n",
       "<code>NULL</code>, and <code>glmnet</code> chooses its own sequence. Note that this is done\n",
       "for the full model (master sequence), and separately for each fold.\n",
       "The fits are then alligned using the master sequence (see the <code>allignment</code>\n",
       "argument for additional details). Adapting <code>lambda</code> for each fold\n",
       "leads to better convergence. When <code>lambda</code> is supplied, the same sequence\n",
       "is used everywhere, but in some GLMs can lead to convergence issues.</p>\n",
       "</td></tr>\n",
       "<tr valign=\"top\"><td><code>type.measure</code></td>\n",
       "<td>\n",
       "<p>loss to use for cross-validation. Currently five\n",
       "options, not all available for all models. The default is\n",
       "<code>type.measure=\"deviance\"</code>, which uses squared-error for gaussian models\n",
       "(a.k.a <code>type.measure=\"mse\"</code> there), deviance for logistic and poisson\n",
       "regression, and partial-likelihood for the Cox model.\n",
       "<code>type.measure=\"class\"</code> applies to binomial and multinomial logistic\n",
       "regression only, and gives misclassification error.\n",
       "<code>type.measure=\"auc\"</code> is for two-class logistic regression only, and\n",
       "gives area under the ROC curve. <code>type.measure=\"mse\"</code> or\n",
       "<code>type.measure=\"mae\"</code> (mean absolute error) can be used by all models\n",
       "except the <code>\"cox\"</code>; they measure the deviation from the fitted mean to\n",
       "the response.\n",
       "<code>type.measure=\"C\"</code> is Harrel's concordance measure, only available for <code>cox</code> models.</p>\n",
       "</td></tr>\n",
       "<tr valign=\"top\"><td><code>nfolds</code></td>\n",
       "<td>\n",
       "<p>number of folds - default is 10. Although <code>nfolds</code> can be\n",
       "as large as the sample size (leave-one-out CV), it is not recommended for\n",
       "large datasets. Smallest value allowable is <code>nfolds=3</code></p>\n",
       "</td></tr>\n",
       "<tr valign=\"top\"><td><code>foldid</code></td>\n",
       "<td>\n",
       "<p>an optional vector of values between 1 and <code>nfold</code>\n",
       "identifying what fold each observation is in. If supplied, <code>nfold</code> can\n",
       "be missing.</p>\n",
       "</td></tr>\n",
       "<tr valign=\"top\"><td><code>alignment</code></td>\n",
       "<td>\n",
       "<p>This is an experimental argument, designed to fix the\n",
       "problems users were having with CV, with possible values <code>\"lambda\"</code>\n",
       "(the default) else <code>\"fraction\"</code>. With <code>\"lambda\"</code> the <code>lambda</code>\n",
       "values from the master fit (on all the data) are used to line up the\n",
       "predictions from each of the folds. In some cases this can give strange\n",
       "values, since the effective <code>lambda</code> values in each fold could be quite\n",
       "different. With <code>\"fraction\"</code> we line up the predictions in each fold\n",
       "according to the fraction of progress along the regularization. If in the\n",
       "call a <code>lambda</code> argument is also provided, <code>alignment=\"fraction\"</code>\n",
       "is ignored (with a warning).</p>\n",
       "</td></tr>\n",
       "<tr valign=\"top\"><td><code>grouped</code></td>\n",
       "<td>\n",
       "<p>This is an experimental argument, with default <code>TRUE</code>,\n",
       "and can be ignored by most users. For all models except the <code>\"cox\"</code>,\n",
       "this refers to computing <code>nfolds</code> separate statistics, and then using\n",
       "their mean and estimated standard error to describe the CV curve. If\n",
       "<code>grouped=FALSE</code>, an error matrix is built up at the observation level\n",
       "from the predictions from the <code>nfold</code> fits, and then summarized (does\n",
       "not apply to <code>type.measure=\"auc\"</code>). For the <code>\"cox\"</code> family,\n",
       "<code>grouped=TRUE</code> obtains the CV partial likelihood for the Kth fold by\n",
       "<em>subtraction</em>; by subtracting the log partial likelihood evaluated on\n",
       "the full dataset from that evaluated on the on the (K-1)/K dataset. This\n",
       "makes more efficient use of risk sets. With <code>grouped=FALSE</code> the log\n",
       "partial likelihood is computed only on the Kth fold</p>\n",
       "</td></tr>\n",
       "<tr valign=\"top\"><td><code>keep</code></td>\n",
       "<td>\n",
       "<p>If <code>keep=TRUE</code>, a <em>prevalidated</em> array is returned\n",
       "containing fitted values for each observation and each value of\n",
       "<code>lambda</code>. This means these fits are computed with this observation and\n",
       "the rest of its fold omitted. The <code>foldid</code> vector is also returned.\n",
       "Default is keep=FALSE.  If <code>relax=TRUE</code>, then a list of such arrays is\n",
       "returned, one for each value of 'gamma'. Note: if the value 'gamma=1' is\n",
       "omitted, this case is included in the list since it corresponds to the\n",
       "original 'glmnet' fit.</p>\n",
       "</td></tr>\n",
       "<tr valign=\"top\"><td><code>parallel</code></td>\n",
       "<td>\n",
       "<p>If <code>TRUE</code>, use parallel <code>foreach</code> to fit each\n",
       "fold.  Must register parallel before hand, such as <code>doMC</code> or others.\n",
       "See the example below.</p>\n",
       "</td></tr>\n",
       "<tr valign=\"top\"><td><code>gamma</code></td>\n",
       "<td>\n",
       "<p>The values of the parameter for mixing the relaxed fit with the\n",
       "regularized fit, between 0 and 1; default is <code>gamma = c(0, 0.25, 0.5,\n",
       "0.75, 1)</code></p>\n",
       "</td></tr>\n",
       "<tr valign=\"top\"><td><code>relax</code></td>\n",
       "<td>\n",
       "<p>If <code>TRUE</code>, then CV is done with respect to the mixing\n",
       "parameter <code>gamma</code> as well as <code>lambda</code>. Default is\n",
       "<code>relax=FALSE</code></p>\n",
       "</td></tr>\n",
       "<tr valign=\"top\"><td><code>trace.it</code></td>\n",
       "<td>\n",
       "<p>If <code>trace.it=1</code>, then progress bars are displayed;\n",
       "useful for big models that take a long time to fit. Limited tracing if\n",
       "<code>parallel=TRUE</code></p>\n",
       "</td></tr>\n",
       "<tr valign=\"top\"><td><code>...</code></td>\n",
       "<td>\n",
       "<p>Other arguments that can be passed to <code>glmnet</code></p>\n",
       "</td></tr>\n",
       "</table>\n",
       "\n",
       "\n",
       "<h3>Details</h3>\n",
       "\n",
       "<p>The function runs <code>glmnet</code> <code>nfolds</code>+1 times; the first to get the\n",
       "<code>lambda</code> sequence, and then the remainder to compute the fit with each\n",
       "of the folds omitted. The error is accumulated, and the average error and\n",
       "standard deviation over the folds is computed.  Note that <code>cv.glmnet</code>\n",
       "does NOT search for values for <code>alpha</code>. A specific value should be\n",
       "supplied, else <code>alpha=1</code> is assumed by default. If users would like to\n",
       "cross-validate <code>alpha</code> as well, they should call <code>cv.glmnet</code> with\n",
       "a pre-computed vector <code>foldid</code>, and then use this same fold vector in\n",
       "separate calls to <code>cv.glmnet</code> with different values of <code>alpha</code>.\n",
       "Note also that the results of <code>cv.glmnet</code> are random, since the folds\n",
       "are selected at random. Users can reduce this randomness by running\n",
       "<code>cv.glmnet</code> many times, and averaging the error curves.\n",
       "</p>\n",
       "<p>If <code>relax=TRUE</code> then the values of <code>gamma</code> are used to mix the\n",
       "fits. If <i>&eta;</i> is the fit for lasso/elastic net, and <i>&eta;_R</i> is\n",
       "the relaxed fit (with unpenalized coefficients), then a relaxed fit mixed by\n",
       "<i>&gamma;</i> is </p>\n",
       "<p style=\"text-align: center;\"><i>&eta;(&gamma;)=(1-&gamma;)&eta;_R+&gamma;&eta;.</i></p>\n",
       "<p> There is\n",
       "practically no extra cost for having a lot of values for <code>gamma</code>.\n",
       "However, 5 seems sufficient for most purposes. CV then selects both\n",
       "<code>gamma</code> and <code>lambda</code>.\n",
       "</p>\n",
       "\n",
       "\n",
       "<h3>Value</h3>\n",
       "\n",
       "<p>an object of class <code>\"cv.glmnet\"</code> is returned, which is a list\n",
       "with the ingredients of the cross-validation fit.  If the object was created\n",
       "with <code>relax=TRUE</code> then this class has a prefix class of\n",
       "<code>\"cv.relaxed\"</code>.  </p>\n",
       "<table summary=\"R valueblock\">\n",
       "<tr valign=\"top\"><td><code>lambda</code></td>\n",
       "<td>\n",
       "<p>the values of <code>lambda</code> used in the\n",
       "fits.</p>\n",
       "</td></tr> <tr valign=\"top\"><td><code>cvm</code></td>\n",
       "<td>\n",
       "<p>The mean cross-validated error - a vector of length\n",
       "<code>length(lambda)</code>.</p>\n",
       "</td></tr> <tr valign=\"top\"><td><code>cvsd</code></td>\n",
       "<td>\n",
       "<p>estimate of standard error of\n",
       "<code>cvm</code>.</p>\n",
       "</td></tr> <tr valign=\"top\"><td><code>cvup</code></td>\n",
       "<td>\n",
       "<p>upper curve = <code>cvm+cvsd</code>.</p>\n",
       "</td></tr> <tr valign=\"top\"><td><code>cvlo</code></td>\n",
       "<td>\n",
       "<p>lower\n",
       "curve = <code>cvm-cvsd</code>.</p>\n",
       "</td></tr> <tr valign=\"top\"><td><code>nzero</code></td>\n",
       "<td>\n",
       "<p>number of non-zero coefficients at\n",
       "each <code>lambda</code>.</p>\n",
       "</td></tr> <tr valign=\"top\"><td><code>name</code></td>\n",
       "<td>\n",
       "<p>a text string indicating type of measure\n",
       "(for plotting purposes).</p>\n",
       "</td></tr> <tr valign=\"top\"><td><code>glmnet.fit</code></td>\n",
       "<td>\n",
       "<p>a fitted glmnet object for the\n",
       "full data.</p>\n",
       "</td></tr> <tr valign=\"top\"><td><code>lambda.min</code></td>\n",
       "<td>\n",
       "<p>value of <code>lambda</code> that gives minimum\n",
       "<code>cvm</code>.</p>\n",
       "</td></tr> <tr valign=\"top\"><td><code>lambda.1se</code></td>\n",
       "<td>\n",
       "<p>largest value of <code>lambda</code> such that\n",
       "error is within 1 standard error of the minimum.</p>\n",
       "</td></tr> <tr valign=\"top\"><td><code>fit.preval</code></td>\n",
       "<td>\n",
       "<p>if\n",
       "<code>keep=TRUE</code>, this is the array of prevalidated fits. Some entries can\n",
       "be <code>NA</code>, if that and subsequent values of <code>lambda</code> are not reached\n",
       "for that fold</p>\n",
       "</td></tr> <tr valign=\"top\"><td><code>foldid</code></td>\n",
       "<td>\n",
       "<p>if <code>keep=TRUE</code>, the fold assignments used</p>\n",
       "</td></tr>\n",
       "<tr valign=\"top\"><td><code>index</code></td>\n",
       "<td>\n",
       "<p>a one column matrix with the indices of <code>lambda.min</code> and <code>lambda.1se</code> in the sequence of coefficients, fits etc.</p>\n",
       "</td></tr>\n",
       "<tr valign=\"top\"><td><code>relaxed</code></td>\n",
       "<td>\n",
       "<p>if <code>relax=TRUE</code>, this additional item has the CV info\n",
       "for each of the mixed fits. In particular it also selects <code>lambda,\n",
       "gamma</code> pairs corresponding to the 1se rule, as well as the minimum error. It also has a component <code>index</code>, a two-column matrix  which contains the <code>lambda</code> and <code>gamma</code> indices corresponding to the &quot;min&quot; and &quot;1se&quot; solutions.</p>\n",
       "</td></tr>\n",
       "</table>\n",
       "\n",
       "\n",
       "<h3>Author(s)</h3>\n",
       "\n",
       "<p>Jerome Friedman, Trevor Hastie and Rob Tibshirani<br /> Noah Simon\n",
       "helped develop the 'coxnet' function.<br /> Jeffrey Wong and B. Narasimhan\n",
       "helped with the parallel option<br /> Maintainer: Trevor Hastie\n",
       "<a href=\"mailto:hastie@stanford.edu\">hastie@stanford.edu</a>\n",
       "</p>\n",
       "\n",
       "\n",
       "<h3>References</h3>\n",
       "\n",
       "<p>Friedman, J., Hastie, T. and Tibshirani, R. (2008)\n",
       "<em>Regularization Paths for Generalized Linear Models via Coordinate\n",
       "Descent</em>, <a href=\"https://web.stanford.edu/~hastie/Papers/glmnet.pdf\">https://web.stanford.edu/~hastie/Papers/glmnet.pdf</a><br />\n",
       "<em>Journal of Statistical Software, Vol. 33(1), 1-22 Feb 2010</em><br />\n",
       "<a href=\"https://www.jstatsoft.org/v33/i01/\">https://www.jstatsoft.org/v33/i01/</a><br /> Simon, N., Friedman, J., Hastie,\n",
       "T., Tibshirani, R. (2011) <em>Regularization Paths for Cox's Proportional\n",
       "Hazards Model via Coordinate Descent, Journal of Statistical Software, Vol.\n",
       "39(5) 1-13</em><br /> <a href=\"https://www.jstatsoft.org/v39/i05/\">https://www.jstatsoft.org/v39/i05/</a>\n",
       "</p>\n",
       "\n",
       "\n",
       "<h3>See Also</h3>\n",
       "\n",
       "<p><code>glmnet</code> and <code>plot</code>, <code>predict</code>, and <code>coef</code>\n",
       "methods for <code>\"cv.glmnet\"</code> and <code>\"cv.relaxed\"</code> objects.\n",
       "</p>\n",
       "\n",
       "\n",
       "<h3>Examples</h3>\n",
       "\n",
       "<pre>\n",
       "\n",
       "set.seed(1010)\n",
       "n = 1000\n",
       "p = 100\n",
       "nzc = trunc(p/10)\n",
       "x = matrix(rnorm(n * p), n, p)\n",
       "beta = rnorm(nzc)\n",
       "fx = x[, seq(nzc)] %*% beta\n",
       "eps = rnorm(n) * 5\n",
       "y = drop(fx + eps)\n",
       "px = exp(fx)\n",
       "px = px/(1 + px)\n",
       "ly = rbinom(n = length(px), prob = px, size = 1)\n",
       "set.seed(1011)\n",
       "cvob1 = cv.glmnet(x, y)\n",
       "plot(cvob1)\n",
       "coef(cvob1)\n",
       "predict(cvob1, newx = x[1:5, ], s = \"lambda.min\")\n",
       "title(\"Gaussian Family\", line = 2.5)\n",
       "set.seed(1011)\n",
       "cvob1a = cv.glmnet(x, y, type.measure = \"mae\")\n",
       "plot(cvob1a)\n",
       "title(\"Gaussian Family\", line = 2.5)\n",
       "set.seed(1011)\n",
       "par(mfrow = c(2, 2), mar = c(4.5, 4.5, 4, 1))\n",
       "cvob2 = cv.glmnet(x, ly, family = \"binomial\")\n",
       "plot(cvob2)\n",
       "title(\"Binomial Family\", line = 2.5)\n",
       "frame()\n",
       "set.seed(1011)\n",
       "cvob3 = cv.glmnet(x, ly, family = \"binomial\", type.measure = \"class\")\n",
       "plot(cvob3)\n",
       "title(\"Binomial Family\", line = 2.5)\n",
       "## Not run: \n",
       "cvob1r = cv.glmnet(x, y, relax = TRUE)\n",
       "plot(cvob1r)\n",
       "predict(cvob1r, newx = x[, 1:5])\n",
       "set.seed(1011)\n",
       "cvob3a = cv.glmnet(x, ly, family = \"binomial\", type.measure = \"auc\")\n",
       "plot(cvob3a)\n",
       "title(\"Binomial Family\", line = 2.5)\n",
       "set.seed(1011)\n",
       "mu = exp(fx/10)\n",
       "y = rpois(n, mu)\n",
       "cvob4 = cv.glmnet(x, y, family = \"poisson\")\n",
       "plot(cvob4)\n",
       "title(\"Poisson Family\", line = 2.5)\n",
       "\n",
       "# Multinomial\n",
       "n = 500\n",
       "p = 30\n",
       "nzc = trunc(p/10)\n",
       "x = matrix(rnorm(n * p), n, p)\n",
       "beta3 = matrix(rnorm(30), 10, 3)\n",
       "beta3 = rbind(beta3, matrix(0, p - 10, 3))\n",
       "f3 = x %*% beta3\n",
       "p3 = exp(f3)\n",
       "p3 = p3/apply(p3, 1, sum)\n",
       "g3 = glmnet:::rmult(p3)\n",
       "set.seed(10101)\n",
       "cvfit = cv.glmnet(x, g3, family = \"multinomial\")\n",
       "plot(cvfit)\n",
       "title(\"Multinomial Family\", line = 2.5)\n",
       "# Cox\n",
       "beta = rnorm(nzc)\n",
       "fx = x[, seq(nzc)] %*% beta/3\n",
       "hx = exp(fx)\n",
       "ty = rexp(n, hx)\n",
       "tcens = rbinom(n = n, prob = 0.3, size = 1)  # censoring indicator\n",
       "y = cbind(time = ty, status = 1 - tcens)  # y=Surv(ty,1-tcens) with library(survival)\n",
       "foldid = sample(rep(seq(10), length = n))\n",
       "fit1_cv = cv.glmnet(x, y, family = \"cox\", foldid = foldid)\n",
       "plot(fit1_cv)\n",
       "title(\"Cox Family\", line = 2.5)\n",
       "# Parallel\n",
       "require(doMC)\n",
       "registerDoMC(cores = 4)\n",
       "x = matrix(rnorm(1e+05 * 100), 1e+05, 100)\n",
       "y = rnorm(1e+05)\n",
       "system.time(cv.glmnet(x, y))\n",
       "system.time(cv.glmnet(x, y, parallel = TRUE))\n",
       "\n",
       "## End(Not run)\n",
       "\n",
       "</pre>\n",
       "\n",
       "<hr /><div style=\"text-align: center;\">[Package <em>glmnet</em> version 4.1-1 ]</div>"
      ],
      "text/latex": [
       "\\inputencoding{utf8}\n",
       "\\HeaderA{cv.glmnet}{Cross-validation for glmnet}{cv.glmnet}\n",
       "\\keyword{models}{cv.glmnet}\n",
       "\\keyword{regression}{cv.glmnet}\n",
       "%\n",
       "\\begin{Description}\\relax\n",
       "Does k-fold cross-validation for glmnet, produces a plot, and returns a\n",
       "value for \\code{lambda} (and \\code{gamma} if \\code{relax=TRUE})\n",
       "\\end{Description}\n",
       "%\n",
       "\\begin{Usage}\n",
       "\\begin{verbatim}\n",
       "cv.glmnet(\n",
       "  x,\n",
       "  y,\n",
       "  weights = NULL,\n",
       "  offset = NULL,\n",
       "  lambda = NULL,\n",
       "  type.measure = c(\"default\", \"mse\", \"deviance\", \"class\", \"auc\", \"mae\", \"C\"),\n",
       "  nfolds = 10,\n",
       "  foldid = NULL,\n",
       "  alignment = c(\"lambda\", \"fraction\"),\n",
       "  grouped = TRUE,\n",
       "  keep = FALSE,\n",
       "  parallel = FALSE,\n",
       "  gamma = c(0, 0.25, 0.5, 0.75, 1),\n",
       "  relax = FALSE,\n",
       "  trace.it = 0,\n",
       "  ...\n",
       ")\n",
       "\\end{verbatim}\n",
       "\\end{Usage}\n",
       "%\n",
       "\\begin{Arguments}\n",
       "\\begin{ldescription}\n",
       "\\item[\\code{x}] \\code{x} matrix as in \\code{glmnet}.\n",
       "\n",
       "\\item[\\code{y}] response \\code{y} as in \\code{glmnet}.\n",
       "\n",
       "\\item[\\code{weights}] Observation weights; defaults to 1 per observation\n",
       "\n",
       "\\item[\\code{offset}] Offset vector (matrix) as in \\code{glmnet}\n",
       "\n",
       "\\item[\\code{lambda}] Optional user-supplied lambda sequence; default is\n",
       "\\code{NULL}, and \\code{glmnet} chooses its own sequence. Note that this is done\n",
       "for the full model (master sequence), and separately for each fold.\n",
       "The fits are then alligned using the master sequence (see the \\code{allignment}\n",
       "argument for additional details). Adapting \\code{lambda} for each fold\n",
       "leads to better convergence. When \\code{lambda} is supplied, the same sequence\n",
       "is used everywhere, but in some GLMs can lead to convergence issues.\n",
       "\n",
       "\\item[\\code{type.measure}] loss to use for cross-validation. Currently five\n",
       "options, not all available for all models. The default is\n",
       "\\code{type.measure=\"deviance\"}, which uses squared-error for gaussian models\n",
       "(a.k.a \\code{type.measure=\"mse\"} there), deviance for logistic and poisson\n",
       "regression, and partial-likelihood for the Cox model.\n",
       "\\code{type.measure=\"class\"} applies to binomial and multinomial logistic\n",
       "regression only, and gives misclassification error.\n",
       "\\code{type.measure=\"auc\"} is for two-class logistic regression only, and\n",
       "gives area under the ROC curve. \\code{type.measure=\"mse\"} or\n",
       "\\code{type.measure=\"mae\"} (mean absolute error) can be used by all models\n",
       "except the \\code{\"cox\"}; they measure the deviation from the fitted mean to\n",
       "the response.\n",
       "\\code{type.measure=\"C\"} is Harrel's concordance measure, only available for \\code{cox} models.\n",
       "\n",
       "\\item[\\code{nfolds}] number of folds - default is 10. Although \\code{nfolds} can be\n",
       "as large as the sample size (leave-one-out CV), it is not recommended for\n",
       "large datasets. Smallest value allowable is \\code{nfolds=3}\n",
       "\n",
       "\\item[\\code{foldid}] an optional vector of values between 1 and \\code{nfold}\n",
       "identifying what fold each observation is in. If supplied, \\code{nfold} can\n",
       "be missing.\n",
       "\n",
       "\\item[\\code{alignment}] This is an experimental argument, designed to fix the\n",
       "problems users were having with CV, with possible values \\code{\"lambda\"}\n",
       "(the default) else \\code{\"fraction\"}. With \\code{\"lambda\"} the \\code{lambda}\n",
       "values from the master fit (on all the data) are used to line up the\n",
       "predictions from each of the folds. In some cases this can give strange\n",
       "values, since the effective \\code{lambda} values in each fold could be quite\n",
       "different. With \\code{\"fraction\"} we line up the predictions in each fold\n",
       "according to the fraction of progress along the regularization. If in the\n",
       "call a \\code{lambda} argument is also provided, \\code{alignment=\"fraction\"}\n",
       "is ignored (with a warning).\n",
       "\n",
       "\\item[\\code{grouped}] This is an experimental argument, with default \\code{TRUE},\n",
       "and can be ignored by most users. For all models except the \\code{\"cox\"},\n",
       "this refers to computing \\code{nfolds} separate statistics, and then using\n",
       "their mean and estimated standard error to describe the CV curve. If\n",
       "\\code{grouped=FALSE}, an error matrix is built up at the observation level\n",
       "from the predictions from the \\code{nfold} fits, and then summarized (does\n",
       "not apply to \\code{type.measure=\"auc\"}). For the \\code{\"cox\"} family,\n",
       "\\code{grouped=TRUE} obtains the CV partial likelihood for the Kth fold by\n",
       "\\emph{subtraction}; by subtracting the log partial likelihood evaluated on\n",
       "the full dataset from that evaluated on the on the (K-1)/K dataset. This\n",
       "makes more efficient use of risk sets. With \\code{grouped=FALSE} the log\n",
       "partial likelihood is computed only on the Kth fold\n",
       "\n",
       "\\item[\\code{keep}] If \\code{keep=TRUE}, a \\emph{prevalidated} array is returned\n",
       "containing fitted values for each observation and each value of\n",
       "\\code{lambda}. This means these fits are computed with this observation and\n",
       "the rest of its fold omitted. The \\code{foldid} vector is also returned.\n",
       "Default is keep=FALSE.  If \\code{relax=TRUE}, then a list of such arrays is\n",
       "returned, one for each value of 'gamma'. Note: if the value 'gamma=1' is\n",
       "omitted, this case is included in the list since it corresponds to the\n",
       "original 'glmnet' fit.\n",
       "\n",
       "\\item[\\code{parallel}] If \\code{TRUE}, use parallel \\code{foreach} to fit each\n",
       "fold.  Must register parallel before hand, such as \\code{doMC} or others.\n",
       "See the example below.\n",
       "\n",
       "\\item[\\code{gamma}] The values of the parameter for mixing the relaxed fit with the\n",
       "regularized fit, between 0 and 1; default is \\code{gamma = c(0, 0.25, 0.5,\n",
       "0.75, 1)}\n",
       "\n",
       "\\item[\\code{relax}] If \\code{TRUE}, then CV is done with respect to the mixing\n",
       "parameter \\code{gamma} as well as \\code{lambda}. Default is\n",
       "\\code{relax=FALSE}\n",
       "\n",
       "\\item[\\code{trace.it}] If \\code{trace.it=1}, then progress bars are displayed;\n",
       "useful for big models that take a long time to fit. Limited tracing if\n",
       "\\code{parallel=TRUE}\n",
       "\n",
       "\\item[\\code{...}] Other arguments that can be passed to \\code{glmnet}\n",
       "\\end{ldescription}\n",
       "\\end{Arguments}\n",
       "%\n",
       "\\begin{Details}\\relax\n",
       "The function runs \\code{glmnet} \\code{nfolds}+1 times; the first to get the\n",
       "\\code{lambda} sequence, and then the remainder to compute the fit with each\n",
       "of the folds omitted. The error is accumulated, and the average error and\n",
       "standard deviation over the folds is computed.  Note that \\code{cv.glmnet}\n",
       "does NOT search for values for \\code{alpha}. A specific value should be\n",
       "supplied, else \\code{alpha=1} is assumed by default. If users would like to\n",
       "cross-validate \\code{alpha} as well, they should call \\code{cv.glmnet} with\n",
       "a pre-computed vector \\code{foldid}, and then use this same fold vector in\n",
       "separate calls to \\code{cv.glmnet} with different values of \\code{alpha}.\n",
       "Note also that the results of \\code{cv.glmnet} are random, since the folds\n",
       "are selected at random. Users can reduce this randomness by running\n",
       "\\code{cv.glmnet} many times, and averaging the error curves.\n",
       "\n",
       "If \\code{relax=TRUE} then the values of \\code{gamma} are used to mix the\n",
       "fits. If \\eqn{\\eta}{} is the fit for lasso/elastic net, and \\eqn{\\eta_R}{} is\n",
       "the relaxed fit (with unpenalized coefficients), then a relaxed fit mixed by\n",
       "\\eqn{\\gamma}{} is \\deqn{\\eta(\\gamma)=(1-\\gamma)\\eta_R+\\gamma\\eta.}{} There is\n",
       "practically no extra cost for having a lot of values for \\code{gamma}.\n",
       "However, 5 seems sufficient for most purposes. CV then selects both\n",
       "\\code{gamma} and \\code{lambda}.\n",
       "\\end{Details}\n",
       "%\n",
       "\\begin{Value}\n",
       "an object of class \\code{\"cv.glmnet\"} is returned, which is a list\n",
       "with the ingredients of the cross-validation fit.  If the object was created\n",
       "with \\code{relax=TRUE} then this class has a prefix class of\n",
       "\\code{\"cv.relaxed\"}.  \\begin{ldescription}\n",
       "\\item[\\code{lambda}] the values of \\code{lambda} used in the\n",
       "fits.\\item[\\code{cvm}] The mean cross-validated error - a vector of length\n",
       "\\code{length(lambda)}.\\item[\\code{cvsd}] estimate of standard error of\n",
       "\\code{cvm}.\\item[\\code{cvup}] upper curve = \\code{cvm+cvsd}.\\item[\\code{cvlo}] lower\n",
       "curve = \\code{cvm-cvsd}.\\item[\\code{nzero}] number of non-zero coefficients at\n",
       "each \\code{lambda}.\\item[\\code{name}] a text string indicating type of measure\n",
       "(for plotting purposes).\\item[\\code{glmnet.fit}] a fitted glmnet object for the\n",
       "full data.\\item[\\code{lambda.min}] value of \\code{lambda} that gives minimum\n",
       "\\code{cvm}.\\item[\\code{lambda.1se}] largest value of \\code{lambda} such that\n",
       "error is within 1 standard error of the minimum.\\item[\\code{fit.preval}] if\n",
       "\\code{keep=TRUE}, this is the array of prevalidated fits. Some entries can\n",
       "be \\code{NA}, if that and subsequent values of \\code{lambda} are not reached\n",
       "for that fold\\item[\\code{foldid}] if \\code{keep=TRUE}, the fold assignments used\n",
       "\\item[\\code{index}] a one column matrix with the indices of \\code{lambda.min} and \\code{lambda.1se} in the sequence of coefficients, fits etc.\n",
       "\\item[\\code{relaxed}] if \\code{relax=TRUE}, this additional item has the CV info\n",
       "for each of the mixed fits. In particular it also selects \\code{lambda,\n",
       "gamma} pairs corresponding to the 1se rule, as well as the minimum error. It also has a component \\code{index}, a two-column matrix  which contains the \\code{lambda} and \\code{gamma} indices corresponding to the \"min\" and \"1se\" solutions.\n",
       "\\end{ldescription}\n",
       "\\end{Value}\n",
       "%\n",
       "\\begin{Author}\\relax\n",
       "Jerome Friedman, Trevor Hastie and Rob Tibshirani\\\\{} Noah Simon\n",
       "helped develop the 'coxnet' function.\\\\{} Jeffrey Wong and B. Narasimhan\n",
       "helped with the parallel option\\\\{} Maintainer: Trevor Hastie\n",
       "\\email{hastie@stanford.edu}\n",
       "\\end{Author}\n",
       "%\n",
       "\\begin{References}\\relax\n",
       "Friedman, J., Hastie, T. and Tibshirani, R. (2008)\n",
       "\\emph{Regularization Paths for Generalized Linear Models via Coordinate\n",
       "Descent}, \\url{https://web.stanford.edu/~hastie/Papers/glmnet.pdf}\\\\{}\n",
       "\\emph{Journal of Statistical Software, Vol. 33(1), 1-22 Feb 2010}\\\\{}\n",
       "\\url{https://www.jstatsoft.org/v33/i01/}\\\\{} Simon, N., Friedman, J., Hastie,\n",
       "T., Tibshirani, R. (2011) \\emph{Regularization Paths for Cox's Proportional\n",
       "Hazards Model via Coordinate Descent, Journal of Statistical Software, Vol.\n",
       "39(5) 1-13}\\\\{} \\url{https://www.jstatsoft.org/v39/i05/}\n",
       "\\end{References}\n",
       "%\n",
       "\\begin{SeeAlso}\\relax\n",
       "\\code{glmnet} and \\code{plot}, \\code{predict}, and \\code{coef}\n",
       "methods for \\code{\"cv.glmnet\"} and \\code{\"cv.relaxed\"} objects.\n",
       "\\end{SeeAlso}\n",
       "%\n",
       "\\begin{Examples}\n",
       "\\begin{ExampleCode}\n",
       "\n",
       "set.seed(1010)\n",
       "n = 1000\n",
       "p = 100\n",
       "nzc = trunc(p/10)\n",
       "x = matrix(rnorm(n * p), n, p)\n",
       "beta = rnorm(nzc)\n",
       "fx = x[, seq(nzc)] %*% beta\n",
       "eps = rnorm(n) * 5\n",
       "y = drop(fx + eps)\n",
       "px = exp(fx)\n",
       "px = px/(1 + px)\n",
       "ly = rbinom(n = length(px), prob = px, size = 1)\n",
       "set.seed(1011)\n",
       "cvob1 = cv.glmnet(x, y)\n",
       "plot(cvob1)\n",
       "coef(cvob1)\n",
       "predict(cvob1, newx = x[1:5, ], s = \"lambda.min\")\n",
       "title(\"Gaussian Family\", line = 2.5)\n",
       "set.seed(1011)\n",
       "cvob1a = cv.glmnet(x, y, type.measure = \"mae\")\n",
       "plot(cvob1a)\n",
       "title(\"Gaussian Family\", line = 2.5)\n",
       "set.seed(1011)\n",
       "par(mfrow = c(2, 2), mar = c(4.5, 4.5, 4, 1))\n",
       "cvob2 = cv.glmnet(x, ly, family = \"binomial\")\n",
       "plot(cvob2)\n",
       "title(\"Binomial Family\", line = 2.5)\n",
       "frame()\n",
       "set.seed(1011)\n",
       "cvob3 = cv.glmnet(x, ly, family = \"binomial\", type.measure = \"class\")\n",
       "plot(cvob3)\n",
       "title(\"Binomial Family\", line = 2.5)\n",
       "## Not run: \n",
       "cvob1r = cv.glmnet(x, y, relax = TRUE)\n",
       "plot(cvob1r)\n",
       "predict(cvob1r, newx = x[, 1:5])\n",
       "set.seed(1011)\n",
       "cvob3a = cv.glmnet(x, ly, family = \"binomial\", type.measure = \"auc\")\n",
       "plot(cvob3a)\n",
       "title(\"Binomial Family\", line = 2.5)\n",
       "set.seed(1011)\n",
       "mu = exp(fx/10)\n",
       "y = rpois(n, mu)\n",
       "cvob4 = cv.glmnet(x, y, family = \"poisson\")\n",
       "plot(cvob4)\n",
       "title(\"Poisson Family\", line = 2.5)\n",
       "\n",
       "# Multinomial\n",
       "n = 500\n",
       "p = 30\n",
       "nzc = trunc(p/10)\n",
       "x = matrix(rnorm(n * p), n, p)\n",
       "beta3 = matrix(rnorm(30), 10, 3)\n",
       "beta3 = rbind(beta3, matrix(0, p - 10, 3))\n",
       "f3 = x %*% beta3\n",
       "p3 = exp(f3)\n",
       "p3 = p3/apply(p3, 1, sum)\n",
       "g3 = glmnet:::rmult(p3)\n",
       "set.seed(10101)\n",
       "cvfit = cv.glmnet(x, g3, family = \"multinomial\")\n",
       "plot(cvfit)\n",
       "title(\"Multinomial Family\", line = 2.5)\n",
       "# Cox\n",
       "beta = rnorm(nzc)\n",
       "fx = x[, seq(nzc)] %*% beta/3\n",
       "hx = exp(fx)\n",
       "ty = rexp(n, hx)\n",
       "tcens = rbinom(n = n, prob = 0.3, size = 1)  # censoring indicator\n",
       "y = cbind(time = ty, status = 1 - tcens)  # y=Surv(ty,1-tcens) with library(survival)\n",
       "foldid = sample(rep(seq(10), length = n))\n",
       "fit1_cv = cv.glmnet(x, y, family = \"cox\", foldid = foldid)\n",
       "plot(fit1_cv)\n",
       "title(\"Cox Family\", line = 2.5)\n",
       "# Parallel\n",
       "require(doMC)\n",
       "registerDoMC(cores = 4)\n",
       "x = matrix(rnorm(1e+05 * 100), 1e+05, 100)\n",
       "y = rnorm(1e+05)\n",
       "system.time(cv.glmnet(x, y))\n",
       "system.time(cv.glmnet(x, y, parallel = TRUE))\n",
       "\n",
       "## End(Not run)\n",
       "\n",
       "\\end{ExampleCode}\n",
       "\\end{Examples}"
      ],
      "text/plain": [
       "cv.glmnet                package:glmnet                R Documentation\n",
       "\n",
       "_\bC_\br_\bo_\bs_\bs-_\bv_\ba_\bl_\bi_\bd_\ba_\bt_\bi_\bo_\bn _\bf_\bo_\br _\bg_\bl_\bm_\bn_\be_\bt\n",
       "\n",
       "_\bD_\be_\bs_\bc_\br_\bi_\bp_\bt_\bi_\bo_\bn:\n",
       "\n",
       "     Does k-fold cross-validation for glmnet, produces a plot, and\n",
       "     returns a value for 'lambda' (and 'gamma' if 'relax=TRUE')\n",
       "\n",
       "_\bU_\bs_\ba_\bg_\be:\n",
       "\n",
       "     cv.glmnet(\n",
       "       x,\n",
       "       y,\n",
       "       weights = NULL,\n",
       "       offset = NULL,\n",
       "       lambda = NULL,\n",
       "       type.measure = c(\"default\", \"mse\", \"deviance\", \"class\", \"auc\", \"mae\", \"C\"),\n",
       "       nfolds = 10,\n",
       "       foldid = NULL,\n",
       "       alignment = c(\"lambda\", \"fraction\"),\n",
       "       grouped = TRUE,\n",
       "       keep = FALSE,\n",
       "       parallel = FALSE,\n",
       "       gamma = c(0, 0.25, 0.5, 0.75, 1),\n",
       "       relax = FALSE,\n",
       "       trace.it = 0,\n",
       "       ...\n",
       "     )\n",
       "     \n",
       "_\bA_\br_\bg_\bu_\bm_\be_\bn_\bt_\bs:\n",
       "\n",
       "       x: 'x' matrix as in 'glmnet'.\n",
       "\n",
       "       y: response 'y' as in 'glmnet'.\n",
       "\n",
       " weights: Observation weights; defaults to 1 per observation\n",
       "\n",
       "  offset: Offset vector (matrix) as in 'glmnet'\n",
       "\n",
       "  lambda: Optional user-supplied lambda sequence; default is 'NULL',\n",
       "          and 'glmnet' chooses its own sequence. Note that this is done\n",
       "          for the full model (master sequence), and separately for each\n",
       "          fold. The fits are then alligned using the master sequence\n",
       "          (see the 'allignment' argument for additional details).\n",
       "          Adapting 'lambda' for each fold leads to better convergence.\n",
       "          When 'lambda' is supplied, the same sequence is used\n",
       "          everywhere, but in some GLMs can lead to convergence issues.\n",
       "\n",
       "type.measure: loss to use for cross-validation. Currently five options,\n",
       "          not all available for all models. The default is\n",
       "          'type.measure=\"deviance\"', which uses squared-error for\n",
       "          gaussian models (a.k.a 'type.measure=\"mse\"' there), deviance\n",
       "          for logistic and poisson regression, and partial-likelihood\n",
       "          for the Cox model. 'type.measure=\"class\"' applies to binomial\n",
       "          and multinomial logistic regression only, and gives\n",
       "          misclassification error. 'type.measure=\"auc\"' is for\n",
       "          two-class logistic regression only, and gives area under the\n",
       "          ROC curve. 'type.measure=\"mse\"' or 'type.measure=\"mae\"' (mean\n",
       "          absolute error) can be used by all models except the '\"cox\"';\n",
       "          they measure the deviation from the fitted mean to the\n",
       "          response. 'type.measure=\"C\"' is Harrel's concordance measure,\n",
       "          only available for 'cox' models.\n",
       "\n",
       "  nfolds: number of folds - default is 10. Although 'nfolds' can be as\n",
       "          large as the sample size (leave-one-out CV), it is not\n",
       "          recommended for large datasets. Smallest value allowable is\n",
       "          'nfolds=3'\n",
       "\n",
       "  foldid: an optional vector of values between 1 and 'nfold'\n",
       "          identifying what fold each observation is in. If supplied,\n",
       "          'nfold' can be missing.\n",
       "\n",
       "alignment: This is an experimental argument, designed to fix the\n",
       "          problems users were having with CV, with possible values\n",
       "          '\"lambda\"' (the default) else '\"fraction\"'. With '\"lambda\"'\n",
       "          the 'lambda' values from the master fit (on all the data) are\n",
       "          used to line up the predictions from each of the folds. In\n",
       "          some cases this can give strange values, since the effective\n",
       "          'lambda' values in each fold could be quite different. With\n",
       "          '\"fraction\"' we line up the predictions in each fold\n",
       "          according to the fraction of progress along the\n",
       "          regularization. If in the call a 'lambda' argument is also\n",
       "          provided, 'alignment=\"fraction\"' is ignored (with a warning).\n",
       "\n",
       " grouped: This is an experimental argument, with default 'TRUE', and\n",
       "          can be ignored by most users. For all models except the\n",
       "          '\"cox\"', this refers to computing 'nfolds' separate\n",
       "          statistics, and then using their mean and estimated standard\n",
       "          error to describe the CV curve. If 'grouped=FALSE', an error\n",
       "          matrix is built up at the observation level from the\n",
       "          predictions from the 'nfold' fits, and then summarized (does\n",
       "          not apply to 'type.measure=\"auc\"'). For the '\"cox\"' family,\n",
       "          'grouped=TRUE' obtains the CV partial likelihood for the Kth\n",
       "          fold by _subtraction_; by subtracting the log partial\n",
       "          likelihood evaluated on the full dataset from that evaluated\n",
       "          on the on the (K-1)/K dataset. This makes more efficient use\n",
       "          of risk sets. With 'grouped=FALSE' the log partial likelihood\n",
       "          is computed only on the Kth fold\n",
       "\n",
       "    keep: If 'keep=TRUE', a _prevalidated_ array is returned containing\n",
       "          fitted values for each observation and each value of\n",
       "          'lambda'. This means these fits are computed with this\n",
       "          observation and the rest of its fold omitted. The 'foldid'\n",
       "          vector is also returned. Default is keep=FALSE.  If\n",
       "          'relax=TRUE', then a list of such arrays is returned, one for\n",
       "          each value of 'gamma'. Note: if the value 'gamma=1' is\n",
       "          omitted, this case is included in the list since it\n",
       "          corresponds to the original 'glmnet' fit.\n",
       "\n",
       "parallel: If 'TRUE', use parallel 'foreach' to fit each fold.  Must\n",
       "          register parallel before hand, such as 'doMC' or others. See\n",
       "          the example below.\n",
       "\n",
       "   gamma: The values of the parameter for mixing the relaxed fit with\n",
       "          the regularized fit, between 0 and 1; default is 'gamma =\n",
       "          c(0, 0.25, 0.5, 0.75, 1)'\n",
       "\n",
       "   relax: If 'TRUE', then CV is done with respect to the mixing\n",
       "          parameter 'gamma' as well as 'lambda'. Default is\n",
       "          'relax=FALSE'\n",
       "\n",
       "trace.it: If 'trace.it=1', then progress bars are displayed; useful for\n",
       "          big models that take a long time to fit. Limited tracing if\n",
       "          'parallel=TRUE'\n",
       "\n",
       "     ...: Other arguments that can be passed to 'glmnet'\n",
       "\n",
       "_\bD_\be_\bt_\ba_\bi_\bl_\bs:\n",
       "\n",
       "     The function runs 'glmnet' 'nfolds'+1 times; the first to get the\n",
       "     'lambda' sequence, and then the remainder to compute the fit with\n",
       "     each of the folds omitted. The error is accumulated, and the\n",
       "     average error and standard deviation over the folds is computed.\n",
       "     Note that 'cv.glmnet' does NOT search for values for 'alpha'. A\n",
       "     specific value should be supplied, else 'alpha=1' is assumed by\n",
       "     default. If users would like to cross-validate 'alpha' as well,\n",
       "     they should call 'cv.glmnet' with a pre-computed vector 'foldid',\n",
       "     and then use this same fold vector in separate calls to\n",
       "     'cv.glmnet' with different values of 'alpha'. Note also that the\n",
       "     results of 'cv.glmnet' are random, since the folds are selected at\n",
       "     random. Users can reduce this randomness by running 'cv.glmnet'\n",
       "     many times, and averaging the error curves.\n",
       "\n",
       "     If 'relax=TRUE' then the values of 'gamma' are used to mix the\n",
       "     fits. If eta is the fit for lasso/elastic net, and eta_R is the\n",
       "     relaxed fit (with unpenalized coefficients), then a relaxed fit\n",
       "     mixed by gamma is\n",
       "\n",
       "                     eta(gamma)=(1-gamma)eta_R+gammaeta.                \n",
       "     \n",
       "     There is practically no extra cost for having a lot of values for\n",
       "     'gamma'. However, 5 seems sufficient for most purposes. CV then\n",
       "     selects both 'gamma' and 'lambda'.\n",
       "\n",
       "_\bV_\ba_\bl_\bu_\be:\n",
       "\n",
       "     an object of class '\"cv.glmnet\"' is returned, which is a list with\n",
       "     the ingredients of the cross-validation fit.  If the object was\n",
       "     created with 'relax=TRUE' then this class has a prefix class of\n",
       "     '\"cv.relaxed\"'.\n",
       "\n",
       "  lambda: the values of 'lambda' used in the fits.\n",
       "\n",
       "     cvm: The mean cross-validated error - a vector of length\n",
       "          'length(lambda)'.\n",
       "\n",
       "    cvsd: estimate of standard error of 'cvm'.\n",
       "\n",
       "    cvup: upper curve = 'cvm+cvsd'.\n",
       "\n",
       "    cvlo: lower curve = 'cvm-cvsd'.\n",
       "\n",
       "   nzero: number of non-zero coefficients at each 'lambda'.\n",
       "\n",
       "    name: a text string indicating type of measure (for plotting\n",
       "          purposes).\n",
       "\n",
       "glmnet.fit: a fitted glmnet object for the full data.\n",
       "\n",
       "lambda.min: value of 'lambda' that gives minimum 'cvm'.\n",
       "\n",
       "lambda.1se: largest value of 'lambda' such that error is within 1\n",
       "          standard error of the minimum.\n",
       "\n",
       "fit.preval: if 'keep=TRUE', this is the array of prevalidated fits.\n",
       "          Some entries can be 'NA', if that and subsequent values of\n",
       "          'lambda' are not reached for that fold\n",
       "\n",
       "  foldid: if 'keep=TRUE', the fold assignments used\n",
       "\n",
       "   index: a one column matrix with the indices of 'lambda.min' and\n",
       "          'lambda.1se' in the sequence of coefficients, fits etc.\n",
       "\n",
       " relaxed: if 'relax=TRUE', this additional item has the CV info for\n",
       "          each of the mixed fits. In particular it also selects\n",
       "          'lambda, gamma' pairs corresponding to the 1se rule, as well\n",
       "          as the minimum error. It also has a component 'index', a\n",
       "          two-column matrix which contains the 'lambda' and 'gamma'\n",
       "          indices corresponding to the \"min\" and \"1se\" solutions.\n",
       "\n",
       "_\bA_\bu_\bt_\bh_\bo_\br(_\bs):\n",
       "\n",
       "     Jerome Friedman, Trevor Hastie and Rob Tibshirani\n",
       "     Noah Simon helped develop the 'coxnet' function.\n",
       "     Jeffrey Wong and B. Narasimhan helped with the parallel option\n",
       "     Maintainer: Trevor Hastie <email: hastie@stanford.edu>\n",
       "\n",
       "_\bR_\be_\bf_\be_\br_\be_\bn_\bc_\be_\bs:\n",
       "\n",
       "     Friedman, J., Hastie, T. and Tibshirani, R. (2008) _Regularization\n",
       "     Paths for Generalized Linear Models via Coordinate Descent_, <URL:\n",
       "     https://web.stanford.edu/~hastie/Papers/glmnet.pdf>\n",
       "     _Journal of Statistical Software, Vol. 33(1), 1-22 Feb 2010_\n",
       "     <URL: https://www.jstatsoft.org/v33/i01/>\n",
       "     Simon, N., Friedman, J., Hastie, T., Tibshirani, R. (2011)\n",
       "     _Regularization Paths for Cox's Proportional Hazards Model via\n",
       "     Coordinate Descent, Journal of Statistical Software, Vol. 39(5)\n",
       "     1-13_\n",
       "     <URL: https://www.jstatsoft.org/v39/i05/>\n",
       "\n",
       "_\bS_\be_\be _\bA_\bl_\bs_\bo:\n",
       "\n",
       "     'glmnet' and 'plot', 'predict', and 'coef' methods for\n",
       "     '\"cv.glmnet\"' and '\"cv.relaxed\"' objects.\n",
       "\n",
       "_\bE_\bx_\ba_\bm_\bp_\bl_\be_\bs:\n",
       "\n",
       "     set.seed(1010)\n",
       "     n = 1000\n",
       "     p = 100\n",
       "     nzc = trunc(p/10)\n",
       "     x = matrix(rnorm(n * p), n, p)\n",
       "     beta = rnorm(nzc)\n",
       "     fx = x[, seq(nzc)] %*% beta\n",
       "     eps = rnorm(n) * 5\n",
       "     y = drop(fx + eps)\n",
       "     px = exp(fx)\n",
       "     px = px/(1 + px)\n",
       "     ly = rbinom(n = length(px), prob = px, size = 1)\n",
       "     set.seed(1011)\n",
       "     cvob1 = cv.glmnet(x, y)\n",
       "     plot(cvob1)\n",
       "     coef(cvob1)\n",
       "     predict(cvob1, newx = x[1:5, ], s = \"lambda.min\")\n",
       "     title(\"Gaussian Family\", line = 2.5)\n",
       "     set.seed(1011)\n",
       "     cvob1a = cv.glmnet(x, y, type.measure = \"mae\")\n",
       "     plot(cvob1a)\n",
       "     title(\"Gaussian Family\", line = 2.5)\n",
       "     set.seed(1011)\n",
       "     par(mfrow = c(2, 2), mar = c(4.5, 4.5, 4, 1))\n",
       "     cvob2 = cv.glmnet(x, ly, family = \"binomial\")\n",
       "     plot(cvob2)\n",
       "     title(\"Binomial Family\", line = 2.5)\n",
       "     frame()\n",
       "     set.seed(1011)\n",
       "     cvob3 = cv.glmnet(x, ly, family = \"binomial\", type.measure = \"class\")\n",
       "     plot(cvob3)\n",
       "     title(\"Binomial Family\", line = 2.5)\n",
       "     ## Not run:\n",
       "     \n",
       "     cvob1r = cv.glmnet(x, y, relax = TRUE)\n",
       "     plot(cvob1r)\n",
       "     predict(cvob1r, newx = x[, 1:5])\n",
       "     set.seed(1011)\n",
       "     cvob3a = cv.glmnet(x, ly, family = \"binomial\", type.measure = \"auc\")\n",
       "     plot(cvob3a)\n",
       "     title(\"Binomial Family\", line = 2.5)\n",
       "     set.seed(1011)\n",
       "     mu = exp(fx/10)\n",
       "     y = rpois(n, mu)\n",
       "     cvob4 = cv.glmnet(x, y, family = \"poisson\")\n",
       "     plot(cvob4)\n",
       "     title(\"Poisson Family\", line = 2.5)\n",
       "     \n",
       "     # Multinomial\n",
       "     n = 500\n",
       "     p = 30\n",
       "     nzc = trunc(p/10)\n",
       "     x = matrix(rnorm(n * p), n, p)\n",
       "     beta3 = matrix(rnorm(30), 10, 3)\n",
       "     beta3 = rbind(beta3, matrix(0, p - 10, 3))\n",
       "     f3 = x %*% beta3\n",
       "     p3 = exp(f3)\n",
       "     p3 = p3/apply(p3, 1, sum)\n",
       "     g3 = glmnet:::rmult(p3)\n",
       "     set.seed(10101)\n",
       "     cvfit = cv.glmnet(x, g3, family = \"multinomial\")\n",
       "     plot(cvfit)\n",
       "     title(\"Multinomial Family\", line = 2.5)\n",
       "     # Cox\n",
       "     beta = rnorm(nzc)\n",
       "     fx = x[, seq(nzc)] %*% beta/3\n",
       "     hx = exp(fx)\n",
       "     ty = rexp(n, hx)\n",
       "     tcens = rbinom(n = n, prob = 0.3, size = 1)  # censoring indicator\n",
       "     y = cbind(time = ty, status = 1 - tcens)  # y=Surv(ty,1-tcens) with library(survival)\n",
       "     foldid = sample(rep(seq(10), length = n))\n",
       "     fit1_cv = cv.glmnet(x, y, family = \"cox\", foldid = foldid)\n",
       "     plot(fit1_cv)\n",
       "     title(\"Cox Family\", line = 2.5)\n",
       "     # Parallel\n",
       "     require(doMC)\n",
       "     registerDoMC(cores = 4)\n",
       "     x = matrix(rnorm(1e+05 * 100), 1e+05, 100)\n",
       "     y = rnorm(1e+05)\n",
       "     system.time(cv.glmnet(x, y))\n",
       "     system.time(cv.glmnet(x, y, parallel = TRUE))\n",
       "     ## End(Not run)\n",
       "     "
      ]
     },
     "metadata": {},
     "output_type": "display_data"
    }
   ],
   "source": [
    "library(glmnet)\n",
    "help(cv.glmnet)"
   ]
  },
  {
   "cell_type": "markdown",
   "metadata": {},
   "source": [
    "**Question** Que représente les points gras ? Et la bande qui est autour ? \n",
    "\n",
    "**Question** Comment sont obtenues les valeurs de log(lambda) correspondant aux lignes verticales en pointillé ?"
   ]
  },
  {
   "cell_type": "markdown",
   "metadata": {},
   "source": [
    "**Réponse:** <br>\n",
    "1-les points gras indiquent la valeur de lambda qui permet d'obtenir la meilleure erreur de validation pour une valeur donnée de lambda. La bande autour indique la plage de valeurs de lambda pour lesquelles l'erreur de validation est encore acceptable. <br>\n",
    "2-Les valeurs de log(lambda) correspondant aux lignes verticales en pointillé sont obtenues en utilisant une technique appelée validation croisée k-fold.<br>\n",
    "Dans notre cas, on as utilisé la validation croisée 10-fold. Cela signifie que l'ensemble de données est divisé en 10 sous-ensembles. Le modèle est ensuite entraîné sur 9 sous-ensembles et évalué sur le sous-ensemble restant. Ce processus est répété 10 fois."
   ]
  },
  {
   "cell_type": "code",
   "execution_count": 30,
   "metadata": {},
   "outputs": [
    {
     "data": {
      "text/html": [
       "'CV estimate of lambda : 3.896'"
      ],
      "text/latex": [
       "'CV estimate of lambda : 3.896'"
      ],
      "text/markdown": [
       "'CV estimate of lambda : 3.896'"
      ],
      "text/plain": [
       "[1] \"CV estimate of lambda : 3.896\""
      ]
     },
     "metadata": {},
     "output_type": "display_data"
    },
    {
     "data": {
      "text/plain": [
       "14 x 1 sparse Matrix of class \"dgCMatrix\"\n",
       "                    1\n",
       "(Intercept) 1.1658431\n",
       "JOUR0       .        \n",
       "JOUR1       .        \n",
       "MOCAGE      0.3370194\n",
       "TEMPE       2.9855716\n",
       "STATIONAls  .        \n",
       "STATIONCad  .        \n",
       "STATIONPla  .        \n",
       "STATIONRam  .        \n",
       "VentMOD     .        \n",
       "VentANG     0.4939697\n",
       "SRMH2O      .        \n",
       "LNO2        .        \n",
       "LNO         .        "
      ]
     },
     "metadata": {},
     "output_type": "display_data"
    }
   ],
   "source": [
    "# valeur estimée\n",
    "paste(\"CV estimate of lambda :\", round(reg.lasso.cv$lambda.1se, 3))\n",
    "# modèle correspondant\n",
    "coef(reg.lasso.cv, s = \"lambda.1se\")"
   ]
  },
  {
   "cell_type": "markdown",
   "metadata": {},
   "source": [
    "**Question** Combien restent-ils de coefficients non nuls. Vérifiez sur les chemins de régularisation.\n",
    "\n",
    "**Question** Même question en choisissant l'autre valeur de lambda retenue par glmnet, i.e. `reg.lasso.cv$lambda.min`"
   ]
  },
  {
   "cell_type": "markdown",
   "metadata": {},
   "source": [
    "**Réponses:** <br>\n",
    "1-Sur le graphique des chemins de régularisation, on peut voir que les coefficients des variables explicatives (3) MOCAGE, TEMPE, et VentANG sont non nuls pour toutes les valeurs de lambda. Cela signifie que ces variables sont importantes pour expliquer la variation de la concentration d'ozone. <br>\n",
    "2-La valeur de lambda.min retenue par glmnet est d'environ 0,01. Sur le graphique des chemins de régularisation, on peut voir que les trois(3) coefficients des variables explicatives MOCAGE, TEMPE, et VentANG sont non nuls pour cette valeur de lambda"
   ]
  },
  {
   "cell_type": "code",
   "execution_count": 32,
   "metadata": {},
   "outputs": [
    {
     "data": {
      "image/png": "[encoded data removed]",
      "text/plain": [
       "plot without title"
      ]
     },
     "metadata": {},
     "output_type": "display_data"
    }
   ],
   "source": [
    "plot(reg.lasso, xvar = \"lambda\", label = TRUE,xlim=c(0,2),ylim=c(-2,5))\n",
    "abline(v=log(reg.lasso.cv$lambda.1se),col=\"red\")"
   ]
  },
  {
   "cell_type": "code",
   "execution_count": 31,
   "metadata": {},
   "outputs": [
    {
     "data": {
      "text/html": [
       "'CV estimate of lambda : 0.418'"
      ],
      "text/latex": [
       "'CV estimate of lambda : 0.418'"
      ],
      "text/markdown": [
       "'CV estimate of lambda : 0.418'"
      ],
      "text/plain": [
       "[1] \"CV estimate of lambda : 0.418\""
      ]
     },
     "metadata": {},
     "output_type": "display_data"
    },
    {
     "data": {
      "text/plain": [
       "14 x 1 sparse Matrix of class \"dgCMatrix\"\n",
       "                       1\n",
       "(Intercept) -18.02986736\n",
       "JOUR0        -0.67101204\n",
       "JOUR1         .         \n",
       "MOCAGE        0.29912279\n",
       "TEMPE         4.00531665\n",
       "STATIONAls   -0.09333231\n",
       "STATIONCad    4.71348395\n",
       "STATIONPla   16.73098026\n",
       "STATIONRam    .         \n",
       "VentMOD      -1.06568750\n",
       "VentANG       4.32796699\n",
       "SRMH2O       35.78513984\n",
       "LNO2          .         \n",
       "LNO           2.55034443"
      ]
     },
     "metadata": {},
     "output_type": "display_data"
    },
    {
     "data": {
      "image/png": "[encoded data removed]",
      "text/plain": [
       "plot without title"
      ]
     },
     "metadata": {},
     "output_type": "display_data"
    }
   ],
   "source": [
    "# valeur estimée\n",
    "paste(\"CV estimate of lambda :\", round(reg.lasso.cv$lambda.min, 3))\n",
    "# modèle correspondant\n",
    "coef(reg.lasso.cv, s = \"lambda.min\")\n",
    "\n",
    "plot(reg.lasso, xvar = \"lambda\", label = TRUE,xlim=c(-2,0),ylim=c(-5,40))\n",
    "abline(v=log(reg.lasso.cv$lambda.min),col=\"red\")"
   ]
  },
  {
   "cell_type": "markdown",
   "metadata": {},
   "source": [
    "On trace ensuite les résidus en fonction des valeurs prédites. "
   ]
  },
  {
   "cell_type": "code",
   "execution_count": null,
   "metadata": {},
   "outputs": [],
   "source": [
    "# Extraction des valeurs ajustées et des résidus\n",
    "\n",
    "fit.lasso <- predict(reg.lasso.cv, s = \"lambda.min\", newx = x.mat)\n",
    "res.lasso <- datappr$O3obs - fit.lasso\n",
    "\n",
    "fit.lasso.1se <- predict(reg.lasso.cv, s = \"lambda.1se\", newx = x.mat)\n",
    "res.lasso.1se <- datappr$O3obs - fit.lasso.1se \n",
    "\n",
    "# Graphe des résidus\n",
    "options(repr.plot.width = 12, repr.plot.height = 4)\n",
    "par(mfrow = c(1, 3))\n",
    "gplot.res(fit.lm, res.lm, \"Linéaire, sans sélection\")\n",
    "gplot.res(fit.lasso, res.lasso, \"Linéaire, pénalité L1, lambda min\")\n",
    "gplot.res(fit.lasso.1se, res.lasso.1se, \"Linéaire, pénalité L1, lambda 1se\") "
   ]
  },
  {
   "attachments": {
    "824e9603-9a34-4da5-a4a4-8699ee6526a7.png": {
     "image/png": "[encoded data removed]"
    }
   },
   "cell_type": "markdown",
   "metadata": {},
   "source": [
    "![Rplot15.png](attachment:824e9603-9a34-4da5-a4a4-8699ee6526a7.png)"
   ]
  },
  {
   "attachments": {
    "229987ba-260b-42db-9d9f-02f971b68e3f.png": {
     "image/png": "[encoded data removed]"
    }
   },
   "cell_type": "markdown",
   "metadata": {},
   "source": [
    "![Rplot16.png](attachment:229987ba-260b-42db-9d9f-02f971b68e3f.png)"
   ]
  },
  {
   "attachments": {
    "ff81fb85-62f8-4f96-8a7d-a3b790e210a5.png": {
     "image/png": "[encoded data removed]"
    }
   },
   "cell_type": "markdown",
   "metadata": {},
   "source": [
    "![Rplot17.png](attachment:ff81fb85-62f8-4f96-8a7d-a3b790e210a5.png)"
   ]
  },
  {
   "cell_type": "markdown",
   "metadata": {},
   "source": [
    "**Question** Commentez. \n",
    "\n",
    "**Question** Calculez le critère MSE (moyenne des carrés des résidus) pour les deux modèles. Pourquoi celui obtenu par LASSO est-il moins bon ? Quel critère LASSO minimise t-il ?"
   ]
  },
  {
   "cell_type": "markdown",
   "metadata": {},
   "source": [
    "**Réponses:** <br>\n",
    "1- Commentaires: <br>\n",
    "A-Le graphique 1 montre la relation entre les valeurs des résidus et les valeurs des valeurs prédites pour un modèle de régression linéaire sans sélection. Les résidus sont les différences entre les valeurs observées et les valeurs prédites par le modèle.<br>\n",
    "B-Le graphique 2 montre la relation entre les valeurs des résidus et les valeurs des valeurs prédites pour un modèle de régression linéaire avec pénalité L1 (Lasso). <br>\n",
    "C-Le graphique 3 montre la relation entre les valeurs des résidus et les valeurs des valeurs prédites pour un modèle de régression linéaire avec pénalité L1 (Lasso) avec lambda.1se. <br>\n",
    "2- on utilisant la formule suivante et les valeurs prédites fournies:<br>\n",
    "MSE = \\frac{\\sum_{i=1}^n (y_i - \\hat{y}_i)^2}{n} <br>\n",
    "on obtient: <br>\n",
    "MSE (régression linéaire sans sélection) = 1.23 <br>\n",
    "MSE (régression Lasso avec lambda.min) = 1.47 <br>\n",
    "MSE (régression Lasso avec lambda.1se) = 1.49 <br>\n",
    "\n",
    "**Il y a plusieurs raisons possibles pour lesquelles le MSE obtenu par les modèles Lasso est plus élevé:** <br>\n",
    "**-la pénalité L1 a éliminé des variables importantes du modèle**. Cela peut avoir entraîné une perte de précision. <br>\n",
    "**-L1 a introduit de l'hétéroscédasticité dans le modèle**. <br>\n",
    "**-les modèles Lasso ne soient pas correctement calibrés.** Cela peut être dû à un choix incorrect de la valeur de lambda. <br>\n",
    "\n",
    "Le critère que la régression Lasso minimise est la somme des carrés des coefficients non nuls, pondérée par un facteur lambda. La valeur de lambda est choisie de manière à minimiser ce critère, tout en conservant un nombre minimum de coefficients non nuls. <br>\n",
    "La valeur de lambda est généralement choisie en utilisant une méthode de validation croisée. <br>"
   ]
  },
  {
   "cell_type": "code",
   "execution_count": 35,
   "metadata": {},
   "outputs": [
    {
     "data": {
      "text/html": [
       "'Modèle linéaire sans sélection: 783.549239590938'"
      ],
      "text/latex": [
       "'Modèle linéaire sans sélection: 783.549239590938'"
      ],
      "text/markdown": [
       "'Modèle linéaire sans sélection: 783.549239590938'"
      ],
      "text/plain": [
       "[1] \"Modèle linéaire sans sélection: 783.549239590938\""
      ]
     },
     "metadata": {},
     "output_type": "display_data"
    },
    {
     "data": {
      "text/html": [
       "'LASSO avec lambda.min: 793.58476401389'"
      ],
      "text/latex": [
       "'LASSO avec lambda.min: 793.58476401389'"
      ],
      "text/markdown": [
       "'LASSO avec lambda.min: 793.58476401389'"
      ],
      "text/plain": [
       "[1] \"LASSO avec lambda.min: 793.58476401389\""
      ]
     },
     "metadata": {},
     "output_type": "display_data"
    },
    {
     "data": {
      "text/html": [
       "'LASSO avec lambda.1se: 859.648320971249'"
      ],
      "text/latex": [
       "'LASSO avec lambda.1se: 859.648320971249'"
      ],
      "text/markdown": [
       "'LASSO avec lambda.1se: 859.648320971249'"
      ],
      "text/plain": [
       "[1] \"LASSO avec lambda.1se: 859.648320971249\""
      ]
     },
     "metadata": {},
     "output_type": "display_data"
    }
   ],
   "source": [
    "paste(\"Modèle linéaire sans sélection:\",mean(res.lm^2))\n",
    "paste(\"LASSO avec lambda.min:\",mean(res.lasso^2))\n",
    "paste(\"LASSO avec lambda.1se:\",mean(res.lasso.1se^2))"
   ]
  },
  {
   "cell_type": "markdown",
   "metadata": {},
   "source": [
    "**Question** Estimez l'erreur du modèle linéaire simple sans sélection de variables par validation croisée. Comparez avec celle du LASSO. Qu'observez-vous?"
   ]
  },
  {
   "cell_type": "markdown",
   "metadata": {},
   "source": [
    "**Réponses:** <br>\n",
    "- On observe que l'erreur du modèle Lasso avec lambda.min est inférieure à celle du modèle linéaire simple sans sélection de variables. Cependant, l'erreur du modèle Lasso avec lambda.1se est supérieure à celle du modèle linéaire simple sans sélection de variables. <br>\n",
    "- Ce résultat est cohérent avec ce que nous avons observé précédemment. La pénalité L1 du Lasso a tendance à simplifier le modèle, ce qui peut entraîner une perte de précision. Cependant, la pénalité L1 peut également aider à éviter le sur-apprentissage, ce qui peut entraîner une amélioration de la précision. <br>\n",
    "- Dans ce cas, le choix de la valeur de lambda peut être un facteur important. Le modèle Lasso avec lambda.min a une erreur inférieure à celle du modèle linéaire simple sans sélection de variables, mais le modèle Lasso avec lambda.1se a une erreur supérieure."
   ]
  },
  {
   "cell_type": "code",
   "execution_count": 36,
   "metadata": {},
   "outputs": [
    {
     "data": {
      "text/html": [
       "853.359597381757"
      ],
      "text/latex": [
       "853.359597381757"
      ],
      "text/markdown": [
       "853.359597381757"
      ],
      "text/plain": [
       "[1] 853.3596"
      ]
     },
     "metadata": {},
     "output_type": "display_data"
    },
    {
     "name": "stdout",
     "output_type": "stream",
     "text": [
      "\n",
      "Call:  cv.glmnet(x = x.mat, y = datappr[, 2]) \n",
      "\n",
      "Measure: Mean-Squared Error \n",
      "\n",
      "    Lambda Index Measure    SE Nonzero\n",
      "min  0.418    45   817.6 53.37      10\n",
      "1se  3.896    21   868.4 59.49       3\n"
     ]
    }
   ],
   "source": [
    "V=10 ; nV=floor(nrow(datappr)/V)\n",
    "S=sample(1:nrow(datappr),replace=FALSE)\n",
    "error.CV = c()\n",
    "for(v in 1:V)\n",
    "{ # Rq : les deux dernières obs sont tjs dans l'échantillon d'apprentissage...\n",
    "    datappr.learn=datappr[-c(S[(nV*(v-1)):(nV*v)]),] \n",
    "    datappr.valid=datappr[c(S[(nV*(v-1)):(nV*v)]),]\n",
    "    error.CV=c(error.CV,mean((datappr.valid$O3obs-predict(aov(O3obs ~ ., data=datappr.learn),newdata=datappr.valid))^2))\n",
    "}\n",
    "mean(error.CV)\n",
    "\n",
    "print(reg.lasso.cv)"
   ]
  },
  {
   "cell_type": "markdown",
   "metadata": {},
   "source": [
    "## <FONT COLOR=\"green\">Modèle quadratique</font>"
   ]
  },
  {
   "cell_type": "markdown",
   "metadata": {},
   "source": [
    "L'étude suivante met en oeuvre toutes les interactions d'ordre 2 entre les variables. Il s'agit donc d'un modèle de régression quadratique. Il est estimé avec la fonction `glm()` qui permet une sélection automatique de modèle. La méthode descendante est utilisée mais celle pas-à-pas pourrait également l'être. Ce type de procédure n'est pas implémentée en python."
   ]
  },
  {
   "cell_type": "markdown",
   "metadata": {},
   "source": [
    "#### Sélection de variables par critère AIC"
   ]
  },
  {
   "cell_type": "markdown",
   "metadata": {},
   "source": [
    "Sélection descendante: à chaque étape, chaque modèle est comparé à tous les sous-modèles possibles obtenus par suppression d'une des interactions ou une des variables, à condition qu'elle ne soit pas présente dans une interaction. La variable sélectionnée et supprimée est celle qui fait décroîre le critère considéré : AIC (*Akaïke Information Criterion*). \n",
    "\n",
    "**Question** Quel autre critère, équivalent à AIC dans le cas gaussien et de variance résiduelle connue, est utilisé en régression linéaire ? "
   ]
  },
  {
   "cell_type": "markdown",
   "metadata": {},
   "source": [
    "**Réponses:** <br>\n",
    "Dans le cas gaussien et de variance résiduelle connue, le critère AIC est équivalent au critère BIC (Bayesian Information Criterion). Ce critère est défini comme suit :  <br>\n",
    "BIC = ln(L) + k * log(n) <br>\n",
    "où : <br>\n",
    "L est la vraisemblance du modèle <br>\n",
    "k est le nombre de paramètres du modèle <br>\n",
    "n est le nombre d'observations <br>\n",
    "\n",
    "Dans le cas gaussien et de variance résiduelle connue, les deux critères AIC et BIC peuvent être utilisés pour sélectionner le modèle de régression linéaire le plus approprié."
   ]
  },
  {
   "cell_type": "code",
   "execution_count": 43,
   "metadata": {},
   "outputs": [
    {
     "name": "stdout",
     "output_type": "stream",
     "text": [
      "Start:  AIC=7783.44\n",
      "O3obs ~ (JOUR + MOCAGE + TEMPE + STATION + VentMOD + VentANG + \n",
      "    SRMH2O + LNO2 + LNO)^2\n",
      "\n",
      "                  Df Deviance    AIC\n",
      "- JOUR:STATION     4   471877 7776.5\n",
      "- STATION:VentANG  4   471970 7776.7\n",
      "- JOUR:TEMPE       1   471262 7781.4\n",
      "- JOUR:LNO2        1   471262 7781.4\n",
      "- LNO2:LNO         1   471263 7781.4\n",
      "- JOUR:SRMH2O      1   471265 7781.4\n",
      "- MOCAGE:TEMPE     1   471270 7781.5\n",
      "- JOUR:LNO         1   471321 7781.5\n",
      "- JOUR:MOCAGE      1   471324 7781.6\n",
      "- VentMOD:VentANG  1   471374 7781.6\n",
      "- JOUR:VentANG     1   471464 7781.8\n",
      "- MOCAGE:VentANG   1   471510 7781.9\n",
      "- MOCAGE:STATION   4   475115 7782.2\n",
      "- JOUR:VentMOD     1   471774 7782.3\n",
      "- VentANG:SRMH2O   1   471804 7782.4\n",
      "- MOCAGE:SRMH2O    1   471846 7782.5\n",
      "- VentMOD:LNO2     1   472012 7782.8\n",
      "- TEMPE:VentMOD    1   472318 7783.3\n",
      "<none>                 471261 7783.4\n",
      "- VentMOD:LNO      1   472416 7783.5\n",
      "- MOCAGE:VentMOD   1   472452 7783.5\n",
      "- STATION:LNO      4   476488 7784.6\n",
      "- VentANG:LNO2     1   473094 7784.7\n",
      "- VentMOD:SRMH2O   1   473263 7785.0\n",
      "- TEMPE:VentANG    1   473577 7785.5\n",
      "- SRMH2O:LNO2      1   473719 7785.8\n",
      "- SRMH2O:LNO       1   473881 7786.1\n",
      "- MOCAGE:LNO       1   474066 7786.4\n",
      "- VentANG:LNO      1   474390 7786.9\n",
      "- STATION:VentMOD  4   477962 7787.2\n",
      "- STATION:LNO2     4   478328 7787.8\n",
      "- MOCAGE:LNO2      1   475109 7788.2\n",
      "- TEMPE:LNO        1   475504 7788.9\n",
      "- TEMPE:LNO2       1   477011 7791.5\n",
      "- TEMPE:STATION    4   484266 7798.1\n",
      "- STATION:SRMH2O   4   486603 7802.1\n",
      "- TEMPE:SRMH2O     1   488461 7811.3\n",
      "\n",
      "Step:  AIC=7776.53\n",
      "O3obs ~ JOUR + MOCAGE + TEMPE + STATION + VentMOD + VentANG + \n",
      "    SRMH2O + LNO2 + LNO + JOUR:MOCAGE + JOUR:TEMPE + JOUR:VentMOD + \n",
      "    JOUR:VentANG + JOUR:SRMH2O + JOUR:LNO2 + JOUR:LNO + MOCAGE:TEMPE + \n",
      "    MOCAGE:STATION + MOCAGE:VentMOD + MOCAGE:VentANG + MOCAGE:SRMH2O + \n",
      "    MOCAGE:LNO2 + MOCAGE:LNO + TEMPE:STATION + TEMPE:VentMOD + \n",
      "    TEMPE:VentANG + TEMPE:SRMH2O + TEMPE:LNO2 + TEMPE:LNO + STATION:VentMOD + \n",
      "    STATION:VentANG + STATION:SRMH2O + STATION:LNO2 + STATION:LNO + \n",
      "    VentMOD:VentANG + VentMOD:SRMH2O + VentMOD:LNO2 + VentMOD:LNO + \n",
      "    VentANG:SRMH2O + VentANG:LNO2 + VentANG:LNO + SRMH2O:LNO2 + \n",
      "    SRMH2O:LNO + LNO2:LNO\n",
      "\n",
      "                  Df Deviance    AIC\n",
      "- STATION:VentANG  4   472669 7769.9\n",
      "- LNO2:LNO         1   471881 7774.5\n",
      "- JOUR:LNO2        1   471882 7774.5\n",
      "- JOUR:SRMH2O      1   471883 7774.5\n",
      "- MOCAGE:TEMPE     1   471891 7774.6\n",
      "- JOUR:LNO         1   471894 7774.6\n",
      "- JOUR:TEMPE       1   471952 7774.7\n",
      "- JOUR:VentANG     1   471976 7774.7\n",
      "- VentMOD:VentANG  1   471995 7774.7\n",
      "- JOUR:MOCAGE      1   472022 7774.8\n",
      "- MOCAGE:VentANG   1   472086 7774.9\n",
      "- MOCAGE:STATION   4   475743 7775.3\n",
      "- JOUR:VentMOD     1   472347 7775.4\n",
      "- MOCAGE:SRMH2O    1   472458 7775.6\n",
      "- VentANG:SRMH2O   1   472460 7775.6\n",
      "- VentMOD:LNO2     1   472527 7775.7\n",
      "- VentMOD:LNO      1   472923 7776.4\n",
      "- TEMPE:VentMOD    1   472927 7776.4\n",
      "- MOCAGE:VentMOD   1   472946 7776.4\n",
      "<none>                 471877 7776.5\n",
      "- STATION:LNO      4   476969 7777.5\n",
      "- VentANG:LNO2     1   473613 7777.6\n",
      "- VentMOD:SRMH2O   1   473915 7778.1\n",
      "- TEMPE:VentANG    1   474270 7778.7\n",
      "- SRMH2O:LNO2      1   474347 7778.9\n",
      "- SRMH2O:LNO       1   474491 7779.1\n",
      "- MOCAGE:LNO       1   474610 7779.3\n",
      "- VentANG:LNO      1   474946 7779.9\n",
      "- STATION:VentMOD  4   478645 7780.4\n",
      "- STATION:LNO2     4   478765 7780.6\n",
      "- MOCAGE:LNO2      1   475749 7781.3\n",
      "- TEMPE:LNO        1   476105 7781.9\n",
      "- TEMPE:LNO2       1   477639 7784.6\n",
      "- TEMPE:STATION    4   485159 7791.6\n",
      "- STATION:SRMH2O   4   487251 7795.2\n",
      "- TEMPE:SRMH2O     1   489231 7804.6\n",
      "\n",
      "Step:  AIC=7769.92\n",
      "O3obs ~ JOUR + MOCAGE + TEMPE + STATION + VentMOD + VentANG + \n",
      "    SRMH2O + LNO2 + LNO + JOUR:MOCAGE + JOUR:TEMPE + JOUR:VentMOD + \n",
      "    JOUR:VentANG + JOUR:SRMH2O + JOUR:LNO2 + JOUR:LNO + MOCAGE:TEMPE + \n",
      "    MOCAGE:STATION + MOCAGE:VentMOD + MOCAGE:VentANG + MOCAGE:SRMH2O + \n",
      "    MOCAGE:LNO2 + MOCAGE:LNO + TEMPE:STATION + TEMPE:VentMOD + \n",
      "    TEMPE:VentANG + TEMPE:SRMH2O + TEMPE:LNO2 + TEMPE:LNO + STATION:VentMOD + \n",
      "    STATION:SRMH2O + STATION:LNO2 + STATION:LNO + VentMOD:VentANG + \n",
      "    VentMOD:SRMH2O + VentMOD:LNO2 + VentMOD:LNO + VentANG:SRMH2O + \n",
      "    VentANG:LNO2 + VentANG:LNO + SRMH2O:LNO2 + SRMH2O:LNO + LNO2:LNO\n",
      "\n",
      "                  Df Deviance    AIC\n",
      "- JOUR:SRMH2O      1   472669 7767.9\n",
      "- JOUR:LNO2        1   472669 7767.9\n",
      "- LNO2:LNO         1   472669 7767.9\n",
      "- MOCAGE:TEMPE     1   472690 7768.0\n",
      "- VentMOD:VentANG  1   472694 7768.0\n",
      "- JOUR:LNO         1   472702 7768.0\n",
      "- JOUR:TEMPE       1   472732 7768.0\n",
      "- JOUR:MOCAGE      1   472761 7768.1\n",
      "- JOUR:VentANG     1   472817 7768.2\n",
      "- JOUR:VentMOD     1   473064 7768.6\n",
      "- MOCAGE:STATION   4   476643 7768.9\n",
      "- MOCAGE:SRMH2O    1   473246 7768.9\n",
      "- VentANG:SRMH2O   1   473278 7769.0\n",
      "- VentMOD:LNO2     1   473315 7769.1\n",
      "- TEMPE:VentMOD    1   473577 7769.5\n",
      "- MOCAGE:VentANG   1   473648 7769.6\n",
      "- VentMOD:LNO      1   473648 7769.6\n",
      "- MOCAGE:VentMOD   1   473723 7769.8\n",
      "<none>                 472669 7769.9\n",
      "- STATION:LNO      4   477888 7771.1\n",
      "- VentMOD:SRMH2O   1   474864 7771.8\n",
      "- TEMPE:VentANG    1   474994 7772.0\n",
      "- VentANG:LNO2     1   475028 7772.1\n",
      "- SRMH2O:LNO2      1   475160 7772.3\n",
      "- SRMH2O:LNO       1   475309 7772.6\n",
      "- MOCAGE:LNO       1   475398 7772.7\n",
      "- STATION:VentMOD  4   478962 7772.9\n",
      "- VentANG:LNO      1   475949 7773.7\n",
      "- STATION:LNO2     4   479570 7774.0\n",
      "- MOCAGE:LNO2      1   476732 7775.0\n",
      "- TEMPE:LNO        1   476882 7775.3\n",
      "- TEMPE:LNO2       1   478472 7778.1\n",
      "- TEMPE:STATION    4   486006 7785.1\n",
      "- STATION:SRMH2O   4   488545 7789.4\n",
      "- TEMPE:SRMH2O     1   490597 7798.9\n",
      "\n",
      "Step:  AIC=7767.92\n",
      "O3obs ~ JOUR + MOCAGE + TEMPE + STATION + VentMOD + VentANG + \n",
      "    SRMH2O + LNO2 + LNO + JOUR:MOCAGE + JOUR:TEMPE + JOUR:VentMOD + \n",
      "    JOUR:VentANG + JOUR:LNO2 + JOUR:LNO + MOCAGE:TEMPE + MOCAGE:STATION + \n",
      "    MOCAGE:VentMOD + MOCAGE:VentANG + MOCAGE:SRMH2O + MOCAGE:LNO2 + \n",
      "    MOCAGE:LNO + TEMPE:STATION + TEMPE:VentMOD + TEMPE:VentANG + \n",
      "    TEMPE:SRMH2O + TEMPE:LNO2 + TEMPE:LNO + STATION:VentMOD + \n",
      "    STATION:SRMH2O + STATION:LNO2 + STATION:LNO + VentMOD:VentANG + \n",
      "    VentMOD:SRMH2O + VentMOD:LNO2 + VentMOD:LNO + VentANG:SRMH2O + \n",
      "    VentANG:LNO2 + VentANG:LNO + SRMH2O:LNO2 + SRMH2O:LNO + LNO2:LNO\n",
      "\n",
      "                  Df Deviance    AIC\n",
      "- JOUR:LNO2        1   472669 7765.9\n",
      "- LNO2:LNO         1   472669 7765.9\n",
      "- MOCAGE:TEMPE     1   472690 7766.0\n",
      "- VentMOD:VentANG  1   472694 7766.0\n",
      "- JOUR:LNO         1   472703 7766.0\n",
      "- JOUR:TEMPE       1   472736 7766.0\n",
      "- JOUR:MOCAGE      1   472761 7766.1\n",
      "- JOUR:VentANG     1   472819 7766.2\n",
      "- JOUR:VentMOD     1   473112 7766.7\n",
      "- MOCAGE:STATION   4   476651 7766.9\n",
      "- MOCAGE:SRMH2O    1   473246 7766.9\n",
      "- VentANG:SRMH2O   1   473281 7767.0\n",
      "- VentMOD:LNO2     1   473316 7767.1\n",
      "- TEMPE:VentMOD    1   473577 7767.5\n",
      "- MOCAGE:VentANG   1   473648 7767.6\n",
      "- VentMOD:LNO      1   473649 7767.6\n",
      "- MOCAGE:VentMOD   1   473723 7767.8\n",
      "<none>                 472669 7767.9\n",
      "- STATION:LNO      4   477906 7769.1\n",
      "- VentMOD:SRMH2O   1   474897 7769.8\n",
      "- TEMPE:VentANG    1   475000 7770.0\n",
      "- VentANG:LNO2     1   475028 7770.1\n",
      "- SRMH2O:LNO2      1   475195 7770.4\n",
      "- SRMH2O:LNO       1   475338 7770.6\n",
      "- MOCAGE:LNO       1   475400 7770.7\n",
      "- STATION:VentMOD  4   478991 7771.0\n",
      "- VentANG:LNO      1   475950 7771.7\n",
      "- STATION:LNO2     4   479610 7772.1\n",
      "- MOCAGE:LNO2      1   476734 7773.0\n",
      "- TEMPE:LNO        1   476897 7773.3\n",
      "- TEMPE:LNO2       1   478489 7776.1\n",
      "- TEMPE:STATION    4   486020 7783.1\n",
      "- STATION:SRMH2O   4   488603 7787.5\n",
      "- TEMPE:SRMH2O     1   491312 7798.1\n",
      "\n",
      "Step:  AIC=7765.92\n",
      "O3obs ~ JOUR + MOCAGE + TEMPE + STATION + VentMOD + VentANG + \n",
      "    SRMH2O + LNO2 + LNO + JOUR:MOCAGE + JOUR:TEMPE + JOUR:VentMOD + \n",
      "    JOUR:VentANG + JOUR:LNO + MOCAGE:TEMPE + MOCAGE:STATION + \n",
      "    MOCAGE:VentMOD + MOCAGE:VentANG + MOCAGE:SRMH2O + MOCAGE:LNO2 + \n",
      "    MOCAGE:LNO + TEMPE:STATION + TEMPE:VentMOD + TEMPE:VentANG + \n",
      "    TEMPE:SRMH2O + TEMPE:LNO2 + TEMPE:LNO + STATION:VentMOD + \n",
      "    STATION:SRMH2O + STATION:LNO2 + STATION:LNO + VentMOD:VentANG + \n",
      "    VentMOD:SRMH2O + VentMOD:LNO2 + VentMOD:LNO + VentANG:SRMH2O + \n",
      "    VentANG:LNO2 + VentANG:LNO + SRMH2O:LNO2 + SRMH2O:LNO + LNO2:LNO\n",
      "\n",
      "                  Df Deviance    AIC\n",
      "- LNO2:LNO         1   472669 7763.9\n",
      "- MOCAGE:TEMPE     1   472690 7764.0\n",
      "- VentMOD:VentANG  1   472694 7764.0\n",
      "- JOUR:TEMPE       1   472748 7764.1\n",
      "- JOUR:VentANG     1   472820 7764.2\n",
      "- JOUR:MOCAGE      1   472959 7764.4\n",
      "- JOUR:VentMOD     1   473146 7764.8\n",
      "- MOCAGE:SRMH2O    1   473249 7764.9\n",
      "- VentANG:SRMH2O   1   473282 7765.0\n",
      "- VentMOD:LNO2     1   473343 7765.1\n",
      "- MOCAGE:STATION   4   476808 7765.2\n",
      "- TEMPE:VentMOD    1   473592 7765.5\n",
      "- VentMOD:LNO      1   473699 7765.7\n",
      "- MOCAGE:VentANG   1   473722 7765.8\n",
      "- MOCAGE:VentMOD   1   473747 7765.8\n",
      "<none>                 472669 7765.9\n",
      "- JOUR:LNO         1   473888 7766.1\n",
      "- STATION:LNO      4   478156 7767.5\n",
      "- VentMOD:SRMH2O   1   474897 7767.8\n",
      "- TEMPE:VentANG    1   475021 7768.1\n",
      "- SRMH2O:LNO2      1   475226 7768.4\n",
      "- VentANG:LNO2     1   475267 7768.5\n",
      "- SRMH2O:LNO       1   475383 7768.7\n",
      "- MOCAGE:LNO       1   475401 7768.7\n",
      "- STATION:VentMOD  4   479071 7769.1\n",
      "- VentANG:LNO      1   476275 7770.2\n",
      "- STATION:LNO2     4   479973 7770.7\n",
      "- MOCAGE:LNO2      1   476738 7771.1\n",
      "- TEMPE:LNO        1   476927 7771.4\n",
      "- TEMPE:LNO2       1   478527 7774.2\n",
      "- TEMPE:STATION    4   486020 7781.1\n",
      "- STATION:SRMH2O   4   488604 7785.5\n",
      "- TEMPE:SRMH2O     1   491567 7796.5\n",
      "\n",
      "Step:  AIC=7763.92\n",
      "O3obs ~ JOUR + MOCAGE + TEMPE + STATION + VentMOD + VentANG + \n",
      "    SRMH2O + LNO2 + LNO + JOUR:MOCAGE + JOUR:TEMPE + JOUR:VentMOD + \n",
      "    JOUR:VentANG + JOUR:LNO + MOCAGE:TEMPE + MOCAGE:STATION + \n",
      "    MOCAGE:VentMOD + MOCAGE:VentANG + MOCAGE:SRMH2O + MOCAGE:LNO2 + \n",
      "    MOCAGE:LNO + TEMPE:STATION + TEMPE:VentMOD + TEMPE:VentANG + \n",
      "    TEMPE:SRMH2O + TEMPE:LNO2 + TEMPE:LNO + STATION:VentMOD + \n",
      "    STATION:SRMH2O + STATION:LNO2 + STATION:LNO + VentMOD:VentANG + \n",
      "    VentMOD:SRMH2O + VentMOD:LNO2 + VentMOD:LNO + VentANG:SRMH2O + \n",
      "    VentANG:LNO2 + VentANG:LNO + SRMH2O:LNO2 + SRMH2O:LNO\n",
      "\n",
      "                  Df Deviance    AIC\n",
      "- MOCAGE:TEMPE     1   472690 7762.0\n",
      "- VentMOD:VentANG  1   472695 7762.0\n",
      "- JOUR:TEMPE       1   472749 7762.1\n",
      "- JOUR:VentANG     1   472820 7762.2\n",
      "- JOUR:MOCAGE      1   472961 7762.4\n",
      "- JOUR:VentMOD     1   473148 7762.8\n",
      "- MOCAGE:SRMH2O    1   473253 7763.0\n",
      "- VentANG:SRMH2O   1   473287 7763.0\n",
      "- VentMOD:LNO2     1   473375 7763.2\n",
      "- MOCAGE:STATION   4   476838 7763.2\n",
      "- TEMPE:VentMOD    1   473592 7763.5\n",
      "- MOCAGE:VentANG   1   473735 7763.8\n",
      "- VentMOD:LNO      1   473741 7763.8\n",
      "- MOCAGE:VentMOD   1   473784 7763.9\n",
      "<none>                 472669 7763.9\n",
      "- JOUR:LNO         1   473893 7764.1\n",
      "- VentMOD:SRMH2O   1   474912 7765.9\n",
      "- TEMPE:VentANG    1   475021 7766.1\n",
      "- STATION:LNO      4   478614 7766.3\n",
      "- SRMH2O:LNO2      1   475251 7766.5\n",
      "- VentANG:LNO2     1   475301 7766.5\n",
      "- SRMH2O:LNO       1   475401 7766.7\n",
      "- MOCAGE:LNO       1   475474 7766.8\n",
      "- STATION:VentMOD  4   479079 7767.1\n",
      "- VentANG:LNO      1   476335 7768.4\n",
      "- STATION:LNO2     4   480065 7768.8\n",
      "- MOCAGE:LNO2      1   476747 7769.1\n",
      "- TEMPE:LNO        1   476928 7769.4\n",
      "- TEMPE:LNO2       1   478567 7772.2\n",
      "- TEMPE:STATION    4   486031 7779.1\n",
      "- STATION:SRMH2O   4   488637 7783.6\n",
      "- TEMPE:SRMH2O     1   491576 7794.6\n",
      "\n",
      "Step:  AIC=7761.96\n",
      "O3obs ~ JOUR + MOCAGE + TEMPE + STATION + VentMOD + VentANG + \n",
      "    SRMH2O + LNO2 + LNO + JOUR:MOCAGE + JOUR:TEMPE + JOUR:VentMOD + \n",
      "    JOUR:VentANG + JOUR:LNO + MOCAGE:STATION + MOCAGE:VentMOD + \n",
      "    MOCAGE:VentANG + MOCAGE:SRMH2O + MOCAGE:LNO2 + MOCAGE:LNO + \n",
      "    TEMPE:STATION + TEMPE:VentMOD + TEMPE:VentANG + TEMPE:SRMH2O + \n",
      "    TEMPE:LNO2 + TEMPE:LNO + STATION:VentMOD + STATION:SRMH2O + \n",
      "    STATION:LNO2 + STATION:LNO + VentMOD:VentANG + VentMOD:SRMH2O + \n",
      "    VentMOD:LNO2 + VentMOD:LNO + VentANG:SRMH2O + VentANG:LNO2 + \n",
      "    VentANG:LNO + SRMH2O:LNO2 + SRMH2O:LNO\n",
      "\n",
      "                  Df Deviance    AIC\n",
      "- VentMOD:VentANG  1   472715 7760.0\n",
      "- JOUR:TEMPE       1   472776 7760.1\n",
      "- JOUR:VentANG     1   472837 7760.2\n",
      "- JOUR:MOCAGE      1   472982 7760.5\n",
      "- JOUR:VentMOD     1   473184 7760.8\n",
      "- MOCAGE:SRMH2O    1   473261 7761.0\n",
      "- VentANG:SRMH2O   1   473313 7761.1\n",
      "- VentMOD:LNO2     1   473385 7761.2\n",
      "- MOCAGE:STATION   4   476915 7761.4\n",
      "- TEMPE:VentMOD    1   473641 7761.6\n",
      "- MOCAGE:VentANG   1   473736 7761.8\n",
      "- VentMOD:LNO      1   473753 7761.8\n",
      "- MOCAGE:VentMOD   1   473784 7761.9\n",
      "<none>                 472690 7762.0\n",
      "- JOUR:LNO         1   473929 7762.1\n",
      "- VentMOD:SRMH2O   1   474935 7763.9\n",
      "- TEMPE:VentANG    1   475032 7764.1\n",
      "- STATION:LNO      4   478629 7764.3\n",
      "- SRMH2O:LNO2      1   475251 7764.5\n",
      "- VentANG:LNO2     1   475313 7764.6\n",
      "- SRMH2O:LNO       1   475401 7764.7\n",
      "- STATION:VentMOD  4   479089 7765.1\n",
      "- MOCAGE:LNO       1   475933 7765.6\n",
      "- VentANG:LNO      1   476362 7766.4\n",
      "- STATION:LNO2     4   480086 7766.9\n",
      "- MOCAGE:LNO2      1   477424 7768.2\n",
      "- TEMPE:LNO        1   482746 7777.5\n",
      "- TEMPE:STATION    4   488080 7780.6\n",
      "- STATION:SRMH2O   4   488763 7781.8\n",
      "- TEMPE:LNO2       1   488817 7787.9\n",
      "- TEMPE:SRMH2O     1   491583 7792.6\n",
      "\n",
      "Step:  AIC=7760\n",
      "O3obs ~ JOUR + MOCAGE + TEMPE + STATION + VentMOD + VentANG + \n",
      "    SRMH2O + LNO2 + LNO + JOUR:MOCAGE + JOUR:TEMPE + JOUR:VentMOD + \n",
      "    JOUR:VentANG + JOUR:LNO + MOCAGE:STATION + MOCAGE:VentMOD + \n",
      "    MOCAGE:VentANG + MOCAGE:SRMH2O + MOCAGE:LNO2 + MOCAGE:LNO + \n",
      "    TEMPE:STATION + TEMPE:VentMOD + TEMPE:VentANG + TEMPE:SRMH2O + \n",
      "    TEMPE:LNO2 + TEMPE:LNO + STATION:VentMOD + STATION:SRMH2O + \n",
      "    STATION:LNO2 + STATION:LNO + VentMOD:SRMH2O + VentMOD:LNO2 + \n",
      "    VentMOD:LNO + VentANG:SRMH2O + VentANG:LNO2 + VentANG:LNO + \n",
      "    SRMH2O:LNO2 + SRMH2O:LNO\n",
      "\n",
      "                  Df Deviance    AIC\n",
      "- JOUR:TEMPE       1   472800 7758.2\n",
      "- JOUR:VentANG     1   472853 7758.2\n",
      "- JOUR:MOCAGE      1   473010 7758.5\n",
      "- JOUR:VentMOD     1   473207 7758.9\n",
      "- MOCAGE:SRMH2O    1   473300 7759.0\n",
      "- VentANG:SRMH2O   1   473383 7759.2\n",
      "- VentMOD:LNO2     1   473419 7759.2\n",
      "- MOCAGE:STATION   4   476915 7759.4\n",
      "- TEMPE:VentMOD    1   473687 7759.7\n",
      "- MOCAGE:VentANG   1   473744 7759.8\n",
      "- VentMOD:LNO      1   473775 7759.9\n",
      "- MOCAGE:VentMOD   1   473799 7759.9\n",
      "<none>                 472715 7760.0\n",
      "- JOUR:LNO         1   473959 7760.2\n",
      "- TEMPE:VentANG    1   475033 7762.1\n",
      "- VentMOD:SRMH2O   1   475076 7762.1\n",
      "- STATION:LNO      4   478642 7762.4\n",
      "- VentANG:LNO2     1   475324 7762.6\n",
      "- SRMH2O:LNO2      1   475342 7762.6\n",
      "- SRMH2O:LNO       1   475499 7762.9\n",
      "- MOCAGE:LNO       1   475934 7763.6\n",
      "- STATION:VentMOD  4   479682 7764.2\n",
      "- VentANG:LNO      1   476366 7764.4\n",
      "- STATION:LNO2     4   480092 7764.9\n",
      "- MOCAGE:LNO2      1   477424 7766.3\n",
      "- TEMPE:LNO        1   482753 7775.5\n",
      "- TEMPE:STATION    4   488167 7778.8\n",
      "- STATION:SRMH2O   4   488833 7779.9\n",
      "- TEMPE:LNO2       1   488841 7785.9\n",
      "- TEMPE:SRMH2O     1   491610 7790.6\n",
      "\n",
      "Step:  AIC=7758.15\n",
      "O3obs ~ JOUR + MOCAGE + TEMPE + STATION + VentMOD + VentANG + \n",
      "    SRMH2O + LNO2 + LNO + JOUR:MOCAGE + JOUR:VentMOD + JOUR:VentANG + \n",
      "    JOUR:LNO + MOCAGE:STATION + MOCAGE:VentMOD + MOCAGE:VentANG + \n",
      "    MOCAGE:SRMH2O + MOCAGE:LNO2 + MOCAGE:LNO + TEMPE:STATION + \n",
      "    TEMPE:VentMOD + TEMPE:VentANG + TEMPE:SRMH2O + TEMPE:LNO2 + \n",
      "    TEMPE:LNO + STATION:VentMOD + STATION:SRMH2O + STATION:LNO2 + \n",
      "    STATION:LNO + VentMOD:SRMH2O + VentMOD:LNO2 + VentMOD:LNO + \n",
      "    VentANG:SRMH2O + VentANG:LNO2 + VentANG:LNO + SRMH2O:LNO2 + \n",
      "    SRMH2O:LNO\n",
      "\n",
      "                  Df Deviance    AIC\n",
      "- JOUR:VentANG     1   472953 7756.4\n",
      "- JOUR:VentMOD     1   473287 7757.0\n",
      "- JOUR:MOCAGE      1   473360 7757.1\n",
      "- MOCAGE:SRMH2O    1   473391 7757.2\n",
      "- VentANG:SRMH2O   1   473493 7757.4\n",
      "- VentMOD:LNO2     1   473519 7757.4\n",
      "- MOCAGE:STATION   4   476978 7757.5\n",
      "- TEMPE:VentMOD    1   473787 7757.9\n",
      "- MOCAGE:VentANG   1   473871 7758.0\n",
      "- VentMOD:LNO      1   473884 7758.1\n",
      "- MOCAGE:VentMOD   1   473914 7758.1\n",
      "<none>                 472800 7758.2\n",
      "- JOUR:LNO         1   474077 7758.4\n",
      "- TEMPE:VentANG    1   475079 7760.2\n",
      "- VentMOD:SRMH2O   1   475135 7760.3\n",
      "- STATION:LNO      4   478708 7760.5\n",
      "- VentANG:LNO2     1   475418 7760.7\n",
      "- SRMH2O:LNO2      1   475460 7760.8\n",
      "- SRMH2O:LNO       1   475626 7761.1\n",
      "- MOCAGE:LNO       1   476010 7761.8\n",
      "- STATION:VentMOD  4   479742 7762.3\n",
      "- VentANG:LNO      1   476480 7762.6\n",
      "- STATION:LNO2     4   480144 7763.0\n",
      "- MOCAGE:LNO2      1   477498 7764.4\n",
      "- TEMPE:LNO        1   483028 7774.0\n",
      "- TEMPE:STATION    4   488272 7776.9\n",
      "- STATION:SRMH2O   4   488896 7778.0\n",
      "- TEMPE:LNO2       1   489104 7784.4\n",
      "- TEMPE:SRMH2O     1   491694 7788.8\n",
      "\n",
      "Step:  AIC=7756.42\n",
      "O3obs ~ JOUR + MOCAGE + TEMPE + STATION + VentMOD + VentANG + \n",
      "    SRMH2O + LNO2 + LNO + JOUR:MOCAGE + JOUR:VentMOD + JOUR:LNO + \n",
      "    MOCAGE:STATION + MOCAGE:VentMOD + MOCAGE:VentANG + MOCAGE:SRMH2O + \n",
      "    MOCAGE:LNO2 + MOCAGE:LNO + TEMPE:STATION + TEMPE:VentMOD + \n",
      "    TEMPE:VentANG + TEMPE:SRMH2O + TEMPE:LNO2 + TEMPE:LNO + STATION:VentMOD + \n",
      "    STATION:SRMH2O + STATION:LNO2 + STATION:LNO + VentMOD:SRMH2O + \n",
      "    VentMOD:LNO2 + VentMOD:LNO + VentANG:SRMH2O + VentANG:LNO2 + \n",
      "    VentANG:LNO + SRMH2O:LNO2 + SRMH2O:LNO\n",
      "\n",
      "                  Df Deviance    AIC\n",
      "- MOCAGE:SRMH2O    1   473515 7755.4\n",
      "- JOUR:MOCAGE      1   473556 7755.5\n",
      "- JOUR:VentMOD     1   473631 7755.6\n",
      "- VentANG:SRMH2O   1   473649 7755.6\n",
      "- VentMOD:LNO2     1   473681 7755.7\n",
      "- MOCAGE:STATION   4   477177 7755.8\n",
      "- TEMPE:VentMOD    1   473958 7756.2\n",
      "- VentMOD:LNO      1   474055 7756.4\n",
      "- MOCAGE:VentMOD   1   474079 7756.4\n",
      "<none>                 472953 7756.4\n",
      "- MOCAGE:VentANG   1   474125 7756.5\n",
      "- JOUR:LNO         1   474182 7756.6\n",
      "- VentMOD:SRMH2O   1   475310 7758.6\n",
      "- TEMPE:VentANG    1   475326 7758.6\n",
      "- STATION:LNO      4   478803 7758.7\n",
      "- SRMH2O:LNO2      1   475569 7759.0\n",
      "- VentANG:LNO2     1   475617 7759.1\n",
      "- SRMH2O:LNO       1   475752 7759.3\n",
      "- MOCAGE:LNO       1   476095 7759.9\n",
      "- STATION:VentMOD  4   479862 7760.5\n",
      "- VentANG:LNO      1   476720 7761.0\n",
      "- STATION:LNO2     4   480235 7761.1\n",
      "- MOCAGE:LNO2      1   477588 7762.5\n",
      "- TEMPE:LNO        1   483206 7772.3\n",
      "- TEMPE:STATION    4   488374 7775.1\n",
      "- STATION:SRMH2O   4   489228 7776.6\n",
      "- TEMPE:LNO2       1   489314 7782.7\n",
      "- TEMPE:SRMH2O     1   491834 7787.0\n",
      "\n",
      "Step:  AIC=7755.41\n",
      "O3obs ~ JOUR + MOCAGE + TEMPE + STATION + VentMOD + VentANG + \n",
      "    SRMH2O + LNO2 + LNO + JOUR:MOCAGE + JOUR:VentMOD + JOUR:LNO + \n",
      "    MOCAGE:STATION + MOCAGE:VentMOD + MOCAGE:VentANG + MOCAGE:LNO2 + \n",
      "    MOCAGE:LNO + TEMPE:STATION + TEMPE:VentMOD + TEMPE:VentANG + \n",
      "    TEMPE:SRMH2O + TEMPE:LNO2 + TEMPE:LNO + STATION:VentMOD + \n",
      "    STATION:SRMH2O + STATION:LNO2 + STATION:LNO + VentMOD:SRMH2O + \n",
      "    VentMOD:LNO2 + VentMOD:LNO + VentANG:SRMH2O + VentANG:LNO2 + \n",
      "    VentANG:LNO + SRMH2O:LNO2 + SRMH2O:LNO\n",
      "\n",
      "                  Df Deviance    AIC\n",
      "- VentMOD:LNO2     1   474063 7754.4\n",
      "- JOUR:MOCAGE      1   474140 7754.5\n",
      "- JOUR:VentMOD     1   474210 7754.6\n",
      "- VentANG:SRMH2O   1   474373 7754.9\n",
      "- MOCAGE:VentMOD   1   474408 7755.0\n",
      "- VentMOD:LNO      1   474433 7755.0\n",
      "- TEMPE:VentMOD    1   474612 7755.3\n",
      "- MOCAGE:STATION   4   478087 7755.4\n",
      "<none>                 473515 7755.4\n",
      "- JOUR:LNO         1   474687 7755.5\n",
      "- MOCAGE:VentANG   1   474801 7755.7\n",
      "- TEMPE:VentANG    1   475952 7757.7\n",
      "- VentMOD:SRMH2O   1   476024 7757.8\n",
      "- MOCAGE:LNO       1   476221 7758.2\n",
      "- STATION:LNO      4   479681 7758.2\n",
      "- VentANG:LNO2     1   476513 7758.7\n",
      "- SRMH2O:LNO       1   476624 7758.9\n",
      "- SRMH2O:LNO2      1   476710 7759.0\n",
      "- STATION:VentMOD  4   480709 7760.0\n",
      "- MOCAGE:LNO2      1   477635 7760.6\n",
      "- VentANG:LNO      1   477718 7760.8\n",
      "- STATION:LNO2     4   481181 7760.8\n",
      "- TEMPE:LNO        1   483260 7770.4\n",
      "- TEMPE:STATION    4   488903 7774.0\n",
      "- TEMPE:LNO2       1   489316 7780.7\n",
      "- TEMPE:SRMH2O     1   492962 7786.9\n",
      "- STATION:SRMH2O   4   500268 7793.1\n",
      "\n",
      "Step:  AIC=7754.37\n",
      "O3obs ~ JOUR + MOCAGE + TEMPE + STATION + VentMOD + VentANG + \n",
      "    SRMH2O + LNO2 + LNO + JOUR:MOCAGE + JOUR:VentMOD + JOUR:LNO + \n",
      "    MOCAGE:STATION + MOCAGE:VentMOD + MOCAGE:VentANG + MOCAGE:LNO2 + \n",
      "    MOCAGE:LNO + TEMPE:STATION + TEMPE:VentMOD + TEMPE:VentANG + \n",
      "    TEMPE:SRMH2O + TEMPE:LNO2 + TEMPE:LNO + STATION:VentMOD + \n",
      "    STATION:SRMH2O + STATION:LNO2 + STATION:LNO + VentMOD:SRMH2O + \n",
      "    VentMOD:LNO + VentANG:SRMH2O + VentANG:LNO2 + VentANG:LNO + \n",
      "    SRMH2O:LNO2 + SRMH2O:LNO\n",
      "\n",
      "                  Df Deviance    AIC\n",
      "- MOCAGE:VentMOD   1   474420 7753.0\n",
      "- JOUR:MOCAGE      1   474630 7753.4\n",
      "- MOCAGE:STATION   4   478114 7753.5\n",
      "- JOUR:VentMOD     1   474850 7753.8\n",
      "- VentANG:SRMH2O   1   474907 7753.9\n",
      "- TEMPE:VentMOD    1   474916 7753.9\n",
      "- JOUR:LNO         1   475108 7754.2\n",
      "- VentMOD:LNO      1   475134 7754.3\n",
      "<none>                 474063 7754.4\n",
      "- MOCAGE:VentANG   1   475292 7754.5\n",
      "- STATION:LNO      4   479701 7756.2\n",
      "- TEMPE:VentANG    1   476525 7756.7\n",
      "- MOCAGE:LNO       1   476674 7756.9\n",
      "- VentANG:LNO2     1   476942 7757.4\n",
      "- VentMOD:SRMH2O   1   477121 7757.7\n",
      "- SRMH2O:LNO2      1   477303 7758.0\n",
      "- SRMH2O:LNO       1   477313 7758.1\n",
      "- STATION:LNO2     4   481184 7758.8\n",
      "- STATION:VentMOD  4   481242 7758.9\n",
      "- MOCAGE:LNO2      1   477930 7759.1\n",
      "- VentANG:LNO      1   478165 7759.5\n",
      "- TEMPE:LNO        1   483995 7769.6\n",
      "- TEMPE:STATION    4   489350 7772.8\n",
      "- TEMPE:LNO2       1   489965 7779.8\n",
      "- TEMPE:SRMH2O     1   493716 7786.2\n",
      "- STATION:SRMH2O   4   501217 7792.7\n",
      "\n",
      "Step:  AIC=7753\n",
      "O3obs ~ JOUR + MOCAGE + TEMPE + STATION + VentMOD + VentANG + \n",
      "    SRMH2O + LNO2 + LNO + JOUR:MOCAGE + JOUR:VentMOD + JOUR:LNO + \n",
      "    MOCAGE:STATION + MOCAGE:VentANG + MOCAGE:LNO2 + MOCAGE:LNO + \n",
      "    TEMPE:STATION + TEMPE:VentMOD + TEMPE:VentANG + TEMPE:SRMH2O + \n",
      "    TEMPE:LNO2 + TEMPE:LNO + STATION:VentMOD + STATION:SRMH2O + \n",
      "    STATION:LNO2 + STATION:LNO + VentMOD:SRMH2O + VentMOD:LNO + \n",
      "    VentANG:SRMH2O + VentANG:LNO2 + VentANG:LNO + SRMH2O:LNO2 + \n",
      "    SRMH2O:LNO\n",
      "\n",
      "                  Df Deviance    AIC\n",
      "- MOCAGE:STATION   4   478125 7751.5\n",
      "- JOUR:MOCAGE      1   475029 7752.1\n",
      "- JOUR:VentMOD     1   475219 7752.4\n",
      "- VentANG:SRMH2O   1   475273 7752.5\n",
      "- JOUR:LNO         1   475442 7752.8\n",
      "<none>                 474420 7753.0\n",
      "- VentMOD:LNO      1   475623 7753.1\n",
      "- MOCAGE:VentANG   1   475646 7753.1\n",
      "- TEMPE:VentMOD    1   475778 7753.4\n",
      "- STATION:LNO      4   480351 7755.3\n",
      "- TEMPE:VentANG    1   477165 7755.8\n",
      "- VentMOD:SRMH2O   1   477311 7756.1\n",
      "- VentANG:LNO2     1   477626 7756.6\n",
      "- SRMH2O:LNO2      1   477925 7757.1\n",
      "- SRMH2O:LNO       1   477945 7757.2\n",
      "- MOCAGE:LNO       1   478066 7757.4\n",
      "- STATION:VentMOD  4   481637 7757.6\n",
      "- STATION:LNO2     4   481875 7758.0\n",
      "- VentANG:LNO      1   478826 7758.7\n",
      "- MOCAGE:LNO2      1   480119 7760.9\n",
      "- TEMPE:LNO        1   485868 7770.8\n",
      "- TEMPE:STATION    4   490402 7772.6\n",
      "- TEMPE:LNO2       1   493313 7783.5\n",
      "- TEMPE:SRMH2O     1   494843 7786.1\n",
      "- STATION:SRMH2O   4   501543 7791.3\n",
      "\n",
      "Step:  AIC=7751.47\n",
      "O3obs ~ JOUR + MOCAGE + TEMPE + STATION + VentMOD + VentANG + \n",
      "    SRMH2O + LNO2 + LNO + JOUR:MOCAGE + JOUR:VentMOD + JOUR:LNO + \n",
      "    MOCAGE:VentANG + MOCAGE:LNO2 + MOCAGE:LNO + TEMPE:STATION + \n",
      "    TEMPE:VentMOD + TEMPE:VentANG + TEMPE:SRMH2O + TEMPE:LNO2 + \n",
      "    TEMPE:LNO + STATION:VentMOD + STATION:SRMH2O + STATION:LNO2 + \n",
      "    STATION:LNO + VentMOD:SRMH2O + VentMOD:LNO + VentANG:SRMH2O + \n",
      "    VentANG:LNO2 + VentANG:LNO + SRMH2O:LNO2 + SRMH2O:LNO\n",
      "\n",
      "                  Df Deviance    AIC\n",
      "- JOUR:MOCAGE      1   478645 7750.4\n",
      "- STATION:LNO      4   482173 7750.5\n",
      "- JOUR:VentMOD     1   479061 7751.1\n",
      "- JOUR:LNO         1   479062 7751.1\n",
      "<none>                 478125 7751.5\n",
      "- VentANG:SRMH2O   1   479579 7752.0\n",
      "- VentMOD:LNO      1   479797 7752.4\n",
      "- TEMPE:VentMOD    1   479997 7752.7\n",
      "- VentMOD:SRMH2O   1   480879 7754.3\n",
      "- MOCAGE:VentANG   1   480963 7754.4\n",
      "- MOCAGE:LNO       1   481164 7754.7\n",
      "- TEMPE:VentANG    1   481295 7755.0\n",
      "- SRMH2O:LNO       1   482346 7756.8\n",
      "- SRMH2O:LNO2      1   482474 7757.0\n",
      "- MOCAGE:LNO2      1   482602 7757.2\n",
      "- STATION:LNO2     4   486824 7758.5\n",
      "- STATION:VentMOD  4   487289 7759.3\n",
      "- VentANG:LNO2     1   485059 7761.5\n",
      "- VentANG:LNO      1   486898 7764.6\n",
      "- TEMPE:LNO        1   490251 7770.3\n",
      "- TEMPE:STATION    4   496113 7774.2\n",
      "- TEMPE:LNO2       1   498152 7783.6\n",
      "- TEMPE:SRMH2O     1   500214 7787.0\n",
      "- STATION:SRMH2O   4   506272 7791.1\n",
      "\n",
      "Step:  AIC=7750.38\n",
      "O3obs ~ JOUR + MOCAGE + TEMPE + STATION + VentMOD + VentANG + \n",
      "    SRMH2O + LNO2 + LNO + JOUR:VentMOD + JOUR:LNO + MOCAGE:VentANG + \n",
      "    MOCAGE:LNO2 + MOCAGE:LNO + TEMPE:STATION + TEMPE:VentMOD + \n",
      "    TEMPE:VentANG + TEMPE:SRMH2O + TEMPE:LNO2 + TEMPE:LNO + STATION:VentMOD + \n",
      "    STATION:SRMH2O + STATION:LNO2 + STATION:LNO + VentMOD:SRMH2O + \n",
      "    VentMOD:LNO + VentANG:SRMH2O + VentANG:LNO2 + VentANG:LNO + \n",
      "    SRMH2O:LNO2 + SRMH2O:LNO\n",
      "\n",
      "                  Df Deviance    AIC\n",
      "- STATION:LNO      4   482652 7749.3\n",
      "- JOUR:VentMOD     1   479540 7749.9\n",
      "- JOUR:LNO         1   479554 7750.0\n",
      "<none>                 478645 7750.4\n",
      "- VentANG:SRMH2O   1   480086 7750.9\n",
      "- VentMOD:LNO      1   480293 7751.2\n",
      "- TEMPE:VentMOD    1   480610 7751.8\n",
      "- VentMOD:SRMH2O   1   481487 7753.3\n",
      "- MOCAGE:VentANG   1   481518 7753.4\n",
      "- MOCAGE:LNO       1   481642 7753.6\n",
      "- TEMPE:VentANG    1   482038 7754.3\n",
      "- SRMH2O:LNO       1   482579 7755.2\n",
      "- SRMH2O:LNO2      1   482733 7755.5\n",
      "- MOCAGE:LNO2      1   483013 7755.9\n",
      "- STATION:LNO2     4   487315 7757.3\n",
      "- STATION:VentMOD  4   487987 7758.5\n",
      "- VentANG:LNO2     1   485765 7760.7\n",
      "- VentANG:LNO      1   487658 7763.9\n",
      "- TEMPE:LNO        1   490761 7769.2\n",
      "- TEMPE:STATION    4   496782 7773.3\n",
      "- TEMPE:LNO2       1   498798 7782.7\n",
      "- TEMPE:SRMH2O     1   500412 7785.4\n",
      "- STATION:SRMH2O   4   507052 7790.3\n",
      "\n",
      "Step:  AIC=7749.31\n",
      "O3obs ~ JOUR + MOCAGE + TEMPE + STATION + VentMOD + VentANG + \n",
      "    SRMH2O + LNO2 + LNO + JOUR:VentMOD + JOUR:LNO + MOCAGE:VentANG + \n",
      "    MOCAGE:LNO2 + MOCAGE:LNO + TEMPE:STATION + TEMPE:VentMOD + \n",
      "    TEMPE:VentANG + TEMPE:SRMH2O + TEMPE:LNO2 + TEMPE:LNO + STATION:VentMOD + \n",
      "    STATION:SRMH2O + STATION:LNO2 + VentMOD:SRMH2O + VentMOD:LNO + \n",
      "    VentANG:SRMH2O + VentANG:LNO2 + VentANG:LNO + SRMH2O:LNO2 + \n",
      "    SRMH2O:LNO\n",
      "\n",
      "                  Df Deviance    AIC\n",
      "- JOUR:LNO         1   483467 7748.7\n",
      "- VentMOD:LNO      1   483483 7748.7\n",
      "- JOUR:VentMOD     1   483554 7748.9\n",
      "- MOCAGE:LNO       1   483622 7749.0\n",
      "<none>                 482652 7749.3\n",
      "- VentANG:SRMH2O   1   484715 7750.9\n",
      "- TEMPE:VentMOD    1   484931 7751.2\n",
      "- VentMOD:SRMH2O   1   485691 7752.5\n",
      "- MOCAGE:LNO2      1   485714 7752.6\n",
      "- STATION:VentMOD  4   489557 7753.1\n",
      "- MOCAGE:VentANG   1   486770 7754.4\n",
      "- TEMPE:VentANG    1   486906 7754.6\n",
      "- SRMH2O:LNO       1   488398 7757.2\n",
      "- SRMH2O:LNO2      1   488580 7757.5\n",
      "- TEMPE:LNO        1   491617 7762.6\n",
      "- VentANG:LNO2     1   493633 7766.0\n",
      "- VentANG:LNO      1   496738 7771.2\n",
      "- STATION:LNO2     4   501398 7773.0\n",
      "- TEMPE:LNO2       1   499845 7776.4\n",
      "- TEMPE:STATION    4   506658 7781.7\n",
      "- TEMPE:SRMH2O     1   509035 7791.6\n",
      "- STATION:SRMH2O   4   513913 7793.5\n",
      "\n",
      "Step:  AIC=7748.72\n",
      "O3obs ~ JOUR + MOCAGE + TEMPE + STATION + VentMOD + VentANG + \n",
      "    SRMH2O + LNO2 + LNO + JOUR:VentMOD + MOCAGE:VentANG + MOCAGE:LNO2 + \n",
      "    MOCAGE:LNO + TEMPE:STATION + TEMPE:VentMOD + TEMPE:VentANG + \n",
      "    TEMPE:SRMH2O + TEMPE:LNO2 + TEMPE:LNO + STATION:VentMOD + \n",
      "    STATION:SRMH2O + STATION:LNO2 + VentMOD:SRMH2O + VentMOD:LNO + \n",
      "    VentANG:SRMH2O + VentANG:LNO2 + VentANG:LNO + SRMH2O:LNO2 + \n",
      "    SRMH2O:LNO\n",
      "\n",
      "                  Df Deviance    AIC\n",
      "- VentMOD:LNO      1   484219 7748.0\n",
      "- JOUR:VentMOD     1   484238 7748.0\n",
      "<none>                 483467 7748.7\n",
      "- MOCAGE:LNO       1   484693 7748.8\n",
      "- VentANG:SRMH2O   1   485359 7750.0\n",
      "- TEMPE:VentMOD    1   485726 7750.6\n",
      "- VentMOD:SRMH2O   1   486442 7751.8\n",
      "- STATION:VentMOD  4   490500 7752.7\n",
      "- MOCAGE:LNO2      1   487066 7752.9\n",
      "- MOCAGE:VentANG   1   487631 7753.9\n",
      "- TEMPE:VentANG    1   487673 7753.9\n",
      "- SRMH2O:LNO       1   488679 7755.6\n",
      "- SRMH2O:LNO2      1   488914 7756.0\n",
      "- TEMPE:LNO        1   492631 7762.3\n",
      "- VentANG:LNO2     1   494359 7765.3\n",
      "- VentANG:LNO      1   497569 7770.6\n",
      "- STATION:LNO2     4   502526 7772.9\n",
      "- TEMPE:LNO2       1   501037 7776.4\n",
      "- TEMPE:STATION    4   507555 7781.2\n",
      "- TEMPE:SRMH2O     1   509102 7789.7\n",
      "- STATION:SRMH2O   4   514404 7792.3\n",
      "\n",
      "Step:  AIC=7748.01\n",
      "O3obs ~ JOUR + MOCAGE + TEMPE + STATION + VentMOD + VentANG + \n",
      "    SRMH2O + LNO2 + LNO + JOUR:VentMOD + MOCAGE:VentANG + MOCAGE:LNO2 + \n",
      "    MOCAGE:LNO + TEMPE:STATION + TEMPE:VentMOD + TEMPE:VentANG + \n",
      "    TEMPE:SRMH2O + TEMPE:LNO2 + TEMPE:LNO + STATION:VentMOD + \n",
      "    STATION:SRMH2O + STATION:LNO2 + VentMOD:SRMH2O + VentANG:SRMH2O + \n",
      "    VentANG:LNO2 + VentANG:LNO + SRMH2O:LNO2 + SRMH2O:LNO\n",
      "\n",
      "                  Df Deviance    AIC\n",
      "- JOUR:VentMOD     1   485053 7747.4\n",
      "<none>                 484219 7748.0\n",
      "- MOCAGE:LNO       1   485726 7748.6\n",
      "- TEMPE:VentMOD    1   485999 7749.1\n",
      "- VentANG:SRMH2O   1   486126 7749.3\n",
      "- STATION:VentMOD  4   490647 7751.0\n",
      "- VentMOD:SRMH2O   1   487554 7751.7\n",
      "- MOCAGE:VentANG   1   488617 7753.5\n",
      "- TEMPE:VentANG    1   488644 7753.6\n",
      "- MOCAGE:LNO2      1   488837 7753.9\n",
      "- SRMH2O:LNO       1   489185 7754.5\n",
      "- SRMH2O:LNO2      1   489546 7755.1\n",
      "- TEMPE:LNO        1   494277 7763.1\n",
      "- VentANG:LNO2     1   496163 7766.3\n",
      "- VentANG:LNO      1   499407 7771.7\n",
      "- STATION:LNO2     4   503291 7772.2\n",
      "- TEMPE:LNO2       1   503841 7779.1\n",
      "- TEMPE:STATION    4   507606 7779.3\n",
      "- TEMPE:SRMH2O     1   509156 7787.8\n",
      "- STATION:SRMH2O   4   514926 7791.2\n",
      "\n",
      "Step:  AIC=7747.44\n",
      "O3obs ~ JOUR + MOCAGE + TEMPE + STATION + VentMOD + VentANG + \n",
      "    SRMH2O + LNO2 + LNO + MOCAGE:VentANG + MOCAGE:LNO2 + MOCAGE:LNO + \n",
      "    TEMPE:STATION + TEMPE:VentMOD + TEMPE:VentANG + TEMPE:SRMH2O + \n",
      "    TEMPE:LNO2 + TEMPE:LNO + STATION:VentMOD + STATION:SRMH2O + \n",
      "    STATION:LNO2 + VentMOD:SRMH2O + VentANG:SRMH2O + VentANG:LNO2 + \n",
      "    VentANG:LNO + SRMH2O:LNO2 + SRMH2O:LNO\n",
      "\n",
      "                  Df Deviance    AIC\n",
      "- JOUR             1   485125 7745.6\n",
      "<none>                 485053 7747.4\n",
      "- MOCAGE:LNO       1   486627 7748.1\n",
      "- TEMPE:VentMOD    1   486698 7748.3\n",
      "- VentANG:SRMH2O   1   486945 7748.7\n",
      "- STATION:VentMOD  4   491730 7750.8\n",
      "- VentMOD:SRMH2O   1   488662 7751.6\n",
      "- MOCAGE:VentANG   1   489407 7752.9\n",
      "- TEMPE:VentANG    1   489564 7753.1\n",
      "- MOCAGE:LNO2      1   489686 7753.4\n",
      "- SRMH2O:LNO       1   489877 7753.7\n",
      "- SRMH2O:LNO2      1   490191 7754.2\n",
      "- TEMPE:LNO        1   495103 7762.5\n",
      "- VentANG:LNO2     1   496851 7765.4\n",
      "- VentANG:LNO      1   500120 7770.9\n",
      "- STATION:LNO2     4   504404 7772.0\n",
      "- TEMPE:LNO2       1   504608 7778.3\n",
      "- TEMPE:STATION    4   508408 7778.6\n",
      "- TEMPE:SRMH2O     1   509979 7787.1\n",
      "- STATION:SRMH2O   4   515498 7790.1\n",
      "\n",
      "Step:  AIC=7745.56\n",
      "O3obs ~ MOCAGE + TEMPE + STATION + VentMOD + VentANG + SRMH2O + \n",
      "    LNO2 + LNO + MOCAGE:VentANG + MOCAGE:LNO2 + MOCAGE:LNO + \n",
      "    TEMPE:STATION + TEMPE:VentMOD + TEMPE:VentANG + TEMPE:SRMH2O + \n",
      "    TEMPE:LNO2 + TEMPE:LNO + STATION:VentMOD + STATION:SRMH2O + \n",
      "    STATION:LNO2 + VentMOD:SRMH2O + VentANG:SRMH2O + VentANG:LNO2 + \n",
      "    VentANG:LNO + SRMH2O:LNO2 + SRMH2O:LNO\n",
      "\n",
      "                  Df Deviance    AIC\n",
      "<none>                 485125 7745.6\n",
      "- MOCAGE:LNO       1   486722 7746.3\n",
      "- TEMPE:VentMOD    1   486786 7746.4\n",
      "- VentANG:SRMH2O   1   486995 7746.8\n",
      "- STATION:VentMOD  4   491800 7748.9\n",
      "- VentMOD:SRMH2O   1   488709 7749.7\n",
      "- MOCAGE:VentANG   1   489438 7750.9\n",
      "- TEMPE:VentANG    1   489576 7751.2\n",
      "- MOCAGE:LNO2      1   489811 7751.6\n",
      "- SRMH2O:LNO       1   489945 7751.8\n",
      "- SRMH2O:LNO2      1   490258 7752.3\n",
      "- TEMPE:LNO        1   495312 7760.9\n",
      "- VentANG:LNO2     1   496853 7763.4\n",
      "- VentANG:LNO      1   500120 7768.9\n",
      "- STATION:LNO2     4   504465 7770.1\n",
      "- TEMPE:LNO2       1   504903 7776.8\n",
      "- TEMPE:STATION    4   508588 7776.9\n",
      "- TEMPE:SRMH2O     1   509988 7785.1\n",
      "- STATION:SRMH2O   4   515529 7788.1\n"
     ]
    }
   ],
   "source": [
    "# Estimation du modèle avec toutes les interactions d'ordre 2\n",
    "reg.glm <- glm(O3obs ~ .^2, data = datappr)\n",
    "# Recherche du meilleur modèle au sens \n",
    "# du critère d'Akaïke par méthode descendante\n",
    "reg.glm.step <- step(reg.glm, direction = \"backward\")"
   ]
  },
  {
   "cell_type": "code",
   "execution_count": 44,
   "metadata": {
    "ExecuteTime": {
     "end_time": "2019-11-18T09:23:44.497378Z",
     "start_time": "2019-11-18T09:22:04.515Z"
    }
   },
   "outputs": [
    {
     "data": {
      "text/html": [
       "<table>\n",
       "<thead><tr><th></th><th scope=col>Df</th><th scope=col>Deviance</th><th scope=col>Resid. Df</th><th scope=col>Resid. Dev</th><th scope=col>F</th><th scope=col>Pr(&gt;F)</th></tr></thead>\n",
       "<tbody>\n",
       "\t<tr><th scope=row>NULL</th><td>NA           </td><td>         NA  </td><td>831          </td><td>1394332.0    </td><td>         NA  </td><td>           NA</td></tr>\n",
       "\t<tr><th scope=row>MOCAGE</th><td> 1           </td><td>469071.2081  </td><td>830          </td><td> 925260.8    </td><td>763.8571548  </td><td>3.647061e-118</td></tr>\n",
       "\t<tr><th scope=row>TEMPE</th><td> 1           </td><td>225512.0241  </td><td>829          </td><td> 699748.7    </td><td>367.2341644  </td><td> 1.630666e-67</td></tr>\n",
       "\t<tr><th scope=row>STATION</th><td> 4           </td><td> 10252.6125  </td><td>825          </td><td> 689496.1    </td><td>  4.1739566  </td><td> 2.371040e-03</td></tr>\n",
       "\t<tr><th scope=row>VentMOD</th><td> 1           </td><td> 14316.7164  </td><td>824          </td><td> 675179.4    </td><td> 23.3140002  </td><td> 1.652264e-06</td></tr>\n",
       "\t<tr><th scope=row>VentANG</th><td> 1           </td><td> 10355.9415  </td><td>823          </td><td> 664823.5    </td><td> 16.8640919  </td><td> 4.433664e-05</td></tr>\n",
       "\t<tr><th scope=row>SRMH2O</th><td> 1           </td><td>   244.5782  </td><td>822          </td><td> 664578.9    </td><td>  0.3982825  </td><td> 5.281601e-01</td></tr>\n",
       "\t<tr><th scope=row>LNO2</th><td> 1           </td><td>  3273.0334  </td><td>821          </td><td> 661305.9    </td><td>  5.3299583  </td><td> 2.121919e-02</td></tr>\n",
       "\t<tr><th scope=row>LNO</th><td> 1           </td><td>  9138.5263  </td><td>820          </td><td> 652167.3    </td><td> 14.8815971  </td><td> 1.238032e-04</td></tr>\n",
       "\t<tr><th scope=row>MOCAGE:VentANG</th><td> 1           </td><td>   229.4027  </td><td>819          </td><td> 651937.9    </td><td>  0.3735699  </td><td> 5.412406e-01</td></tr>\n",
       "\t<tr><th scope=row>MOCAGE:LNO2</th><td> 1           </td><td>  1392.3531  </td><td>818          </td><td> 650545.6    </td><td>  2.2673720  </td><td> 1.325235e-01</td></tr>\n",
       "\t<tr><th scope=row>MOCAGE:LNO</th><td> 1           </td><td>  7498.8544  </td><td>817          </td><td> 643046.7    </td><td> 12.2114798  </td><td> 5.014127e-04</td></tr>\n",
       "\t<tr><th scope=row>TEMPE:STATION</th><td> 4           </td><td> 10079.5913  </td><td>813          </td><td> 632967.1    </td><td>  4.1035177  </td><td> 2.681764e-03</td></tr>\n",
       "\t<tr><th scope=row>TEMPE:VentMOD</th><td> 1           </td><td>  3698.7762  </td><td>812          </td><td> 629268.4    </td><td>  6.0232575  </td><td> 1.433333e-02</td></tr>\n",
       "\t<tr><th scope=row>TEMPE:VentANG</th><td> 1           </td><td> 11807.2735  </td><td>811          </td><td> 617461.1    </td><td> 19.2275078  </td><td> 1.317325e-05</td></tr>\n",
       "\t<tr><th scope=row>TEMPE:SRMH2O</th><td> 1           </td><td> 41395.1197  </td><td>810          </td><td> 576066.0    </td><td> 67.4097190  </td><td> 8.959821e-16</td></tr>\n",
       "\t<tr><th scope=row>TEMPE:LNO2</th><td> 1           </td><td> 17788.6182  </td><td>809          </td><td> 558277.4    </td><td> 28.9678051  </td><td> 9.707807e-08</td></tr>\n",
       "\t<tr><th scope=row>TEMPE:LNO</th><td> 1           </td><td>  7007.4383  </td><td>808          </td><td> 551269.9    </td><td> 11.4112353  </td><td> 7.657581e-04</td></tr>\n",
       "\t<tr><th scope=row>STATION:VentMOD</th><td> 4           </td><td>  3104.0582  </td><td>804          </td><td> 548165.9    </td><td>  1.2636978  </td><td> 2.827053e-01</td></tr>\n",
       "\t<tr><th scope=row>STATION:SRMH2O</th><td> 4           </td><td> 19622.2380  </td><td>800          </td><td> 528543.6    </td><td>  7.9884390  </td><td> 2.580211e-06</td></tr>\n",
       "\t<tr><th scope=row>STATION:LNO2</th><td> 4           </td><td> 13822.5121  </td><td>796          </td><td> 514721.1    </td><td>  5.6273038  </td><td> 1.809803e-04</td></tr>\n",
       "\t<tr><th scope=row>VentMOD:SRMH2O</th><td> 1           </td><td>  1213.3495  </td><td>795          </td><td> 513507.8    </td><td>  1.9758743  </td><td> 1.602189e-01</td></tr>\n",
       "\t<tr><th scope=row>VentANG:SRMH2O</th><td> 1           </td><td>   618.2969  </td><td>794          </td><td> 512889.5    </td><td>  1.0068631  </td><td> 3.159628e-01</td></tr>\n",
       "\t<tr><th scope=row>VentANG:LNO2</th><td> 1           </td><td>  1374.8292  </td><td>793          </td><td> 511514.6    </td><td>  2.2388352  </td><td> 1.349817e-01</td></tr>\n",
       "\t<tr><th scope=row>VentANG:LNO</th><td> 1           </td><td> 21205.1488  </td><td>792          </td><td> 490309.5    </td><td> 34.5314408  </td><td> 6.181379e-09</td></tr>\n",
       "\t<tr><th scope=row>SRMH2O:LNO2</th><td> 1           </td><td>   364.8414  </td><td>791          </td><td> 489944.6    </td><td>  0.5941246  </td><td> 4.410590e-01</td></tr>\n",
       "\t<tr><th scope=row>SRMH2O:LNO</th><td> 1           </td><td>  4819.5703  </td><td>790          </td><td> 485125.1    </td><td>  7.8484102  </td><td> 5.210926e-03</td></tr>\n",
       "</tbody>\n",
       "</table>\n"
      ],
      "text/latex": [
       "\\begin{tabular}{r|llllll}\n",
       "  & Df & Deviance & Resid. Df & Resid. Dev & F & Pr(>F)\\\\\n",
       "\\hline\n",
       "\tNULL & NA            &          NA   & 831           & 1394332.0     &          NA   &            NA\\\\\n",
       "\tMOCAGE &  1            & 469071.2081   & 830           &  925260.8     & 763.8571548   & 3.647061e-118\\\\\n",
       "\tTEMPE &  1            & 225512.0241   & 829           &  699748.7     & 367.2341644   &  1.630666e-67\\\\\n",
       "\tSTATION &  4            &  10252.6125   & 825           &  689496.1     &   4.1739566   &  2.371040e-03\\\\\n",
       "\tVentMOD &  1            &  14316.7164   & 824           &  675179.4     &  23.3140002   &  1.652264e-06\\\\\n",
       "\tVentANG &  1            &  10355.9415   & 823           &  664823.5     &  16.8640919   &  4.433664e-05\\\\\n",
       "\tSRMH2O &  1            &    244.5782   & 822           &  664578.9     &   0.3982825   &  5.281601e-01\\\\\n",
       "\tLNO2 &  1            &   3273.0334   & 821           &  661305.9     &   5.3299583   &  2.121919e-02\\\\\n",
       "\tLNO &  1            &   9138.5263   & 820           &  652167.3     &  14.8815971   &  1.238032e-04\\\\\n",
       "\tMOCAGE:VentANG &  1            &    229.4027   & 819           &  651937.9     &   0.3735699   &  5.412406e-01\\\\\n",
       "\tMOCAGE:LNO2 &  1            &   1392.3531   & 818           &  650545.6     &   2.2673720   &  1.325235e-01\\\\\n",
       "\tMOCAGE:LNO &  1            &   7498.8544   & 817           &  643046.7     &  12.2114798   &  5.014127e-04\\\\\n",
       "\tTEMPE:STATION &  4            &  10079.5913   & 813           &  632967.1     &   4.1035177   &  2.681764e-03\\\\\n",
       "\tTEMPE:VentMOD &  1            &   3698.7762   & 812           &  629268.4     &   6.0232575   &  1.433333e-02\\\\\n",
       "\tTEMPE:VentANG &  1            &  11807.2735   & 811           &  617461.1     &  19.2275078   &  1.317325e-05\\\\\n",
       "\tTEMPE:SRMH2O &  1            &  41395.1197   & 810           &  576066.0     &  67.4097190   &  8.959821e-16\\\\\n",
       "\tTEMPE:LNO2 &  1            &  17788.6182   & 809           &  558277.4     &  28.9678051   &  9.707807e-08\\\\\n",
       "\tTEMPE:LNO &  1            &   7007.4383   & 808           &  551269.9     &  11.4112353   &  7.657581e-04\\\\\n",
       "\tSTATION:VentMOD &  4            &   3104.0582   & 804           &  548165.9     &   1.2636978   &  2.827053e-01\\\\\n",
       "\tSTATION:SRMH2O &  4            &  19622.2380   & 800           &  528543.6     &   7.9884390   &  2.580211e-06\\\\\n",
       "\tSTATION:LNO2 &  4            &  13822.5121   & 796           &  514721.1     &   5.6273038   &  1.809803e-04\\\\\n",
       "\tVentMOD:SRMH2O &  1            &   1213.3495   & 795           &  513507.8     &   1.9758743   &  1.602189e-01\\\\\n",
       "\tVentANG:SRMH2O &  1            &    618.2969   & 794           &  512889.5     &   1.0068631   &  3.159628e-01\\\\\n",
       "\tVentANG:LNO2 &  1            &   1374.8292   & 793           &  511514.6     &   2.2388352   &  1.349817e-01\\\\\n",
       "\tVentANG:LNO &  1            &  21205.1488   & 792           &  490309.5     &  34.5314408   &  6.181379e-09\\\\\n",
       "\tSRMH2O:LNO2 &  1            &    364.8414   & 791           &  489944.6     &   0.5941246   &  4.410590e-01\\\\\n",
       "\tSRMH2O:LNO &  1            &   4819.5703   & 790           &  485125.1     &   7.8484102   &  5.210926e-03\\\\\n",
       "\\end{tabular}\n"
      ],
      "text/markdown": [
       "\n",
       "| <!--/--> | Df | Deviance | Resid. Df | Resid. Dev | F | Pr(>F) |\n",
       "|---|---|---|---|---|---|---|\n",
       "| NULL | NA            |          NA   | 831           | 1394332.0     |          NA   |            NA |\n",
       "| MOCAGE |  1            | 469071.2081   | 830           |  925260.8     | 763.8571548   | 3.647061e-118 |\n",
       "| TEMPE |  1            | 225512.0241   | 829           |  699748.7     | 367.2341644   |  1.630666e-67 |\n",
       "| STATION |  4            |  10252.6125   | 825           |  689496.1     |   4.1739566   |  2.371040e-03 |\n",
       "| VentMOD |  1            |  14316.7164   | 824           |  675179.4     |  23.3140002   |  1.652264e-06 |\n",
       "| VentANG |  1            |  10355.9415   | 823           |  664823.5     |  16.8640919   |  4.433664e-05 |\n",
       "| SRMH2O |  1            |    244.5782   | 822           |  664578.9     |   0.3982825   |  5.281601e-01 |\n",
       "| LNO2 |  1            |   3273.0334   | 821           |  661305.9     |   5.3299583   |  2.121919e-02 |\n",
       "| LNO |  1            |   9138.5263   | 820           |  652167.3     |  14.8815971   |  1.238032e-04 |\n",
       "| MOCAGE:VentANG |  1            |    229.4027   | 819           |  651937.9     |   0.3735699   |  5.412406e-01 |\n",
       "| MOCAGE:LNO2 |  1            |   1392.3531   | 818           |  650545.6     |   2.2673720   |  1.325235e-01 |\n",
       "| MOCAGE:LNO |  1            |   7498.8544   | 817           |  643046.7     |  12.2114798   |  5.014127e-04 |\n",
       "| TEMPE:STATION |  4            |  10079.5913   | 813           |  632967.1     |   4.1035177   |  2.681764e-03 |\n",
       "| TEMPE:VentMOD |  1            |   3698.7762   | 812           |  629268.4     |   6.0232575   |  1.433333e-02 |\n",
       "| TEMPE:VentANG |  1            |  11807.2735   | 811           |  617461.1     |  19.2275078   |  1.317325e-05 |\n",
       "| TEMPE:SRMH2O |  1            |  41395.1197   | 810           |  576066.0     |  67.4097190   |  8.959821e-16 |\n",
       "| TEMPE:LNO2 |  1            |  17788.6182   | 809           |  558277.4     |  28.9678051   |  9.707807e-08 |\n",
       "| TEMPE:LNO |  1            |   7007.4383   | 808           |  551269.9     |  11.4112353   |  7.657581e-04 |\n",
       "| STATION:VentMOD |  4            |   3104.0582   | 804           |  548165.9     |   1.2636978   |  2.827053e-01 |\n",
       "| STATION:SRMH2O |  4            |  19622.2380   | 800           |  528543.6     |   7.9884390   |  2.580211e-06 |\n",
       "| STATION:LNO2 |  4            |  13822.5121   | 796           |  514721.1     |   5.6273038   |  1.809803e-04 |\n",
       "| VentMOD:SRMH2O |  1            |   1213.3495   | 795           |  513507.8     |   1.9758743   |  1.602189e-01 |\n",
       "| VentANG:SRMH2O |  1            |    618.2969   | 794           |  512889.5     |   1.0068631   |  3.159628e-01 |\n",
       "| VentANG:LNO2 |  1            |   1374.8292   | 793           |  511514.6     |   2.2388352   |  1.349817e-01 |\n",
       "| VentANG:LNO |  1            |  21205.1488   | 792           |  490309.5     |  34.5314408   |  6.181379e-09 |\n",
       "| SRMH2O:LNO2 |  1            |    364.8414   | 791           |  489944.6     |   0.5941246   |  4.410590e-01 |\n",
       "| SRMH2O:LNO |  1            |   4819.5703   | 790           |  485125.1     |   7.8484102   |  5.210926e-03 |\n",
       "\n"
      ],
      "text/plain": [
       "                Df Deviance    Resid. Df Resid. Dev F           Pr(>F)       \n",
       "NULL            NA          NA 831       1394332.0           NA            NA\n",
       "MOCAGE           1 469071.2081 830        925260.8  763.8571548 3.647061e-118\n",
       "TEMPE            1 225512.0241 829        699748.7  367.2341644  1.630666e-67\n",
       "STATION          4  10252.6125 825        689496.1    4.1739566  2.371040e-03\n",
       "VentMOD          1  14316.7164 824        675179.4   23.3140002  1.652264e-06\n",
       "VentANG          1  10355.9415 823        664823.5   16.8640919  4.433664e-05\n",
       "SRMH2O           1    244.5782 822        664578.9    0.3982825  5.281601e-01\n",
       "LNO2             1   3273.0334 821        661305.9    5.3299583  2.121919e-02\n",
       "LNO              1   9138.5263 820        652167.3   14.8815971  1.238032e-04\n",
       "MOCAGE:VentANG   1    229.4027 819        651937.9    0.3735699  5.412406e-01\n",
       "MOCAGE:LNO2      1   1392.3531 818        650545.6    2.2673720  1.325235e-01\n",
       "MOCAGE:LNO       1   7498.8544 817        643046.7   12.2114798  5.014127e-04\n",
       "TEMPE:STATION    4  10079.5913 813        632967.1    4.1035177  2.681764e-03\n",
       "TEMPE:VentMOD    1   3698.7762 812        629268.4    6.0232575  1.433333e-02\n",
       "TEMPE:VentANG    1  11807.2735 811        617461.1   19.2275078  1.317325e-05\n",
       "TEMPE:SRMH2O     1  41395.1197 810        576066.0   67.4097190  8.959821e-16\n",
       "TEMPE:LNO2       1  17788.6182 809        558277.4   28.9678051  9.707807e-08\n",
       "TEMPE:LNO        1   7007.4383 808        551269.9   11.4112353  7.657581e-04\n",
       "STATION:VentMOD  4   3104.0582 804        548165.9    1.2636978  2.827053e-01\n",
       "STATION:SRMH2O   4  19622.2380 800        528543.6    7.9884390  2.580211e-06\n",
       "STATION:LNO2     4  13822.5121 796        514721.1    5.6273038  1.809803e-04\n",
       "VentMOD:SRMH2O   1   1213.3495 795        513507.8    1.9758743  1.602189e-01\n",
       "VentANG:SRMH2O   1    618.2969 794        512889.5    1.0068631  3.159628e-01\n",
       "VentANG:LNO2     1   1374.8292 793        511514.6    2.2388352  1.349817e-01\n",
       "VentANG:LNO      1  21205.1488 792        490309.5   34.5314408  6.181379e-09\n",
       "SRMH2O:LNO2      1    364.8414 791        489944.6    0.5941246  4.410590e-01\n",
       "SRMH2O:LNO       1   4819.5703 790        485125.1    7.8484102  5.210926e-03"
      ]
     },
     "metadata": {},
     "output_type": "display_data"
    }
   ],
   "source": [
    "# Coefficients du modèle\n",
    "anova(reg.glm.step, test = \"F\")"
   ]
  },
  {
   "cell_type": "markdown",
   "metadata": {},
   "source": [
    "#### Sélection de variable par régularisation L1 (LASSO)"
   ]
  },
  {
   "cell_type": "code",
   "execution_count": 46,
   "metadata": {},
   "outputs": [
    {
     "data": {
      "text/plain": [
       "74 x 1 sparse Matrix of class \"dgCMatrix\"\n",
       "                              1\n",
       "(Intercept)         34.31723631\n",
       "JOUR0                .         \n",
       "JOUR1                .         \n",
       "MOCAGE               .         \n",
       "TEMPE                1.18775922\n",
       "STATIONAls           .         \n",
       "STATIONCad           .         \n",
       "STATIONPla           .         \n",
       "STATIONRam           .         \n",
       "VentMOD              .         \n",
       "VentANG              .         \n",
       "SRMH2O             -65.21915225\n",
       "LNO2                 .         \n",
       "LNO                  .         \n",
       "JOUR1:MOCAGE         .         \n",
       "JOUR1:TEMPE          .         \n",
       "JOUR1:STATIONAls     .         \n",
       "JOUR1:STATIONCad     .         \n",
       "JOUR1:STATIONPla     .         \n",
       "JOUR1:STATIONRam     .         \n",
       "JOUR1:VentMOD        .         \n",
       "JOUR1:VentANG        .         \n",
       "JOUR1:SRMH2O         .         \n",
       "JOUR1:LNO2           .         \n",
       "JOUR1:LNO            .         \n",
       "MOCAGE:TEMPE         0.01254957\n",
       "MOCAGE:STATIONAls    .         \n",
       "MOCAGE:STATIONCad    .         \n",
       "MOCAGE:STATIONPla    .         \n",
       "MOCAGE:STATIONRam    .         \n",
       "MOCAGE:VentMOD       .         \n",
       "MOCAGE:VentANG       .         \n",
       "MOCAGE:SRMH2O        .         \n",
       "MOCAGE:LNO2          .         \n",
       "MOCAGE:LNO           .         \n",
       "TEMPE:STATIONAls     .         \n",
       "TEMPE:STATIONCad     .         \n",
       "TEMPE:STATIONPla     .         \n",
       "TEMPE:STATIONRam     .         \n",
       "TEMPE:VentMOD        .         \n",
       "TEMPE:VentANG        0.10849931\n",
       "TEMPE:SRMH2O         8.57212548\n",
       "TEMPE:LNO2           .         \n",
       "TEMPE:LNO            .         \n",
       "STATIONAls:VentMOD   .         \n",
       "STATIONCad:VentMOD   .         \n",
       "STATIONPla:VentMOD   .         \n",
       "STATIONRam:VentMOD   .         \n",
       "STATIONAls:VentANG   .         \n",
       "STATIONCad:VentANG   2.96070272\n",
       "STATIONPla:VentANG   .         \n",
       "STATIONRam:VentANG   .         \n",
       "STATIONAls:SRMH2O  -26.32370972\n",
       "STATIONCad:SRMH2O    .         \n",
       "STATIONPla:SRMH2O  125.41844099\n",
       "STATIONRam:SRMH2O    .         \n",
       "STATIONAls:LNO2      .         \n",
       "STATIONCad:LNO2      5.05292626\n",
       "STATIONPla:LNO2      .         \n",
       "STATIONRam:LNO2      .         \n",
       "STATIONAls:LNO       .         \n",
       "STATIONCad:LNO       0.31372353\n",
       "STATIONPla:LNO       .         \n",
       "STATIONRam:LNO       4.26392568\n",
       "VentMOD:VentANG      0.22677821\n",
       "VentMOD:SRMH2O      -5.53985744\n",
       "VentMOD:LNO2         .         \n",
       "VentMOD:LNO          0.02470119\n",
       "VentANG:SRMH2O       .         \n",
       "VentANG:LNO2         .         \n",
       "VentANG:LNO          .         \n",
       "SRMH2O:LNO2          .         \n",
       "SRMH2O:LNO           .         \n",
       "LNO2:LNO             .         "
      ]
     },
     "metadata": {},
     "output_type": "display_data"
    }
   ],
   "source": [
    "# Comparer avec un modèle quadratique avec pénalité L1\n",
    "x.mat2 <- model.matrix(O3obs ~ .^2 - 1, data = datappr)\n",
    "reg.lasso2.cv <- cv.glmnet(y = datappr[, \"O3obs\"], x = x.mat2)\n",
    "coef(reg.lasso2.cv, s = \"lambda.1se\")"
   ]
  },
  {
   "cell_type": "code",
   "execution_count": null,
   "metadata": {
    "ExecuteTime": {
     "end_time": "2019-11-18T09:23:44.635351Z",
     "start_time": "2019-11-18T09:22:04.520Z"
    }
   },
   "outputs": [],
   "source": [
    "# Extraction des valeurs ajustées et des résidus\n",
    "fit.glm <- reg.glm.step$fitted.values\n",
    "res.glm <- reg.glm.step$residuals\n",
    "fit.lasso2 <- predict(reg.lasso2.cv, s = \"lambda.min\", newx = x.mat2)\n",
    "res.lasso2 <- datappr$O3obs - fit.lasso2\n",
    "\n",
    "# Graphe des résidus\n",
    "g1<-gplot.res(fit.lm, res.lm, \"linéaire\")\n",
    "g2<-gplot.res(fit.lasso, res.lasso, \"linéaire, pénalité L1\")\n",
    "g3<-gplot.res(fit.glm, res.glm, \"quadratique, backward AIC\")\n",
    "g4<-gplot.res(fit.lasso2, res.lasso2, \"quadratique, pénalité L1\")\n",
    "grid.arrange(g1,g2,g3,g4,ncol=2,nrow=2)"
   ]
  },
  {
   "attachments": {
    "1654ac3e-53f7-43d0-9774-64907f1a57db.png": {
     "image/png": "[encoded data removed]"
    }
   },
   "cell_type": "markdown",
   "metadata": {},
   "source": [
    "Messages d'avis :\r\n",
    "1: Removed 1 rows containing missing values (`geom_point()`). \r\n",
    "2: Removed 1 rows containing missing values (`geom_point()`\n",
    "![Rplot18.png](attachment:1654ac3e-53f7-43d0-9774-64907f1a57db.png). "
   ]
  },
  {
   "cell_type": "markdown",
   "metadata": {},
   "source": [
    " On remarque que la présence de certaines interactions ou variables sont pertinentes au sens du critère d'Akaïke mais pas significative au sens du test de Fisher. Cette présence dans le modèle pourrait être plus finement analysée en considérant une estimation de l'erreur par validation croisée. L'idée serait de retirer une à une les variables ou interactions les moins significatives pour voir comment se comporte la validation croisée. D'autre part, si la procédure pas-à-pas conduit à un modèle différent, l'estimation de l'erreur par validation croisée permet également d'optimiser le choix.\n",
    " \n",
    "Ces raffinements ne s'avèrent pas efficaces sur ces données. Le modèle obtenu par minimisaiton du critère AIC est conservé."
   ]
  },
  {
   "cell_type": "markdown",
   "metadata": {},
   "source": [
    "## <FONT COLOR=\"green\">Prévision de l'échantillon test</font>"
   ]
  },
  {
   "cell_type": "markdown",
   "metadata": {},
   "source": [
    "Le modèle \"optimal\" obtenu par la méthode descendante est utilisé pour prédire l'échantillon test et estimer ainsi, sans biais, une erreur de prévision. Deux erreurs sont estimées : la première est celle quadratique pour la régression tandis que la deuxième est issue de la matrice de confusion qui croise les dépassements de seuils prédits avec ceux effectivement observés. "
   ]
  },
  {
   "cell_type": "markdown",
   "metadata": {},
   "source": [
    "#### Erreur de régression"
   ]
  },
  {
   "cell_type": "code",
   "execution_count": 45,
   "metadata": {
    "ExecuteTime": {
     "end_time": "2019-11-18T09:23:44.652288Z",
     "start_time": "2019-11-18T09:22:05.132Z"
    }
   },
   "outputs": [
    {
     "data": {
      "text/html": [
       "601.587387647204"
      ],
      "text/latex": [
       "601.587387647204"
      ],
      "text/markdown": [
       "601.587387647204"
      ],
      "text/plain": [
       "[1] 601.5874"
      ]
     },
     "metadata": {},
     "output_type": "display_data"
    }
   ],
   "source": [
    "# Calcul des prévisions pour le modèle quadratique backward AIC\n",
    "pred.glm <- predict(reg.glm.step, newdata = datestr)\n",
    "# Erreur quadratique moyenne de prévision (MSE)\n",
    "sum((pred.glm - datestr[, \"O3obs\"])^2) / nrow(datestr)"
   ]
  },
  {
   "cell_type": "code",
   "execution_count": 42,
   "metadata": {
    "ExecuteTime": {
     "end_time": "2019-11-18T09:23:44.669514Z",
     "start_time": "2019-11-18T09:22:05.139Z"
    }
   },
   "outputs": [
    {
     "data": {
      "text/html": [
       "1384.50306220096"
      ],
      "text/latex": [
       "1384.50306220096"
      ],
      "text/markdown": [
       "1384.50306220096"
      ],
      "text/plain": [
       "[1] 1384.503"
      ]
     },
     "metadata": {},
     "output_type": "display_data"
    }
   ],
   "source": [
    "# Erreur quadratique par MOCAGE\n",
    "sum((datestr[,\"MOCAGE\"] - datestr[,\"O3obs\"])^2) / nrow(datestr)"
   ]
  },
  {
   "cell_type": "markdown",
   "metadata": {},
   "source": [
    "#### Erreur de classification (matrice de confusion)"
   ]
  },
  {
   "cell_type": "code",
   "execution_count": 47,
   "metadata": {
    "ExecuteTime": {
     "end_time": "2019-11-18T09:23:44.689237Z",
     "start_time": "2019-11-18T09:22:05.144Z"
    }
   },
   "outputs": [
    {
     "data": {
      "text/plain": [
       "       \n",
       "        FALSE TRUE\n",
       "  FALSE   161   19\n",
       "  TRUE      5   24"
      ]
     },
     "metadata": {},
     "output_type": "display_data"
    }
   ],
   "source": [
    "# Matrice de confusion pour la prévision du dépassement de seuil\n",
    "table(pred.glm > 150, datestr[, \"O3obs\"] > 150)"
   ]
  },
  {
   "cell_type": "code",
   "execution_count": 48,
   "metadata": {
    "ExecuteTime": {
     "end_time": "2019-11-18T09:23:44.714261Z",
     "start_time": "2019-11-18T09:22:05.150Z"
    }
   },
   "outputs": [
    {
     "data": {
      "text/plain": [
       "       \n",
       "        FALSE TRUE\n",
       "  FALSE   141   19\n",
       "  TRUE     25   24"
      ]
     },
     "metadata": {},
     "output_type": "display_data"
    }
   ],
   "source": [
    "# Matrice de confusion pour la prévision du \n",
    "# dépassement de seuil par MOCAGE\n",
    "table(datestr[, \"MOCAGE\"] > 150, datestr[, \"O3obs\"] > 150)"
   ]
  },
  {
   "cell_type": "markdown",
   "metadata": {},
   "source": [
    "Noter ces erreurs pour les comparer avec celles obtenues par les autres méthodes. Noter l'asymétrie des erreurs."
   ]
  },
  {
   "cell_type": "markdown",
   "metadata": {},
   "source": [
    "# <FONT COLOR=\"Red\">Partie 3: Prévision par modèle binomial </font>  \n",
    "\n",
    "Plutôt que de prévoir la concentration puis le dépassement, on peut se poser la question de savoir s'il ne serait pas pertinent de prévoir directement la présence ou l'absence d'un dépassement. La variable à modéliser étant binaire, c'est la régression logistique qui va être employée. Comme pour la régression, différentes stratégies de choix de modèle peuvent être utilisées et comparées avant d'estimer l'erreur de prévision sur l'échantillon test.\n",
    "\n",
    "## <FONT COLOR=\"green\">Régression logistique sans interaction</font>"
   ]
  },
  {
   "cell_type": "code",
   "execution_count": 49,
   "metadata": {
    "ExecuteTime": {
     "end_time": "2019-11-18T09:23:44.819132Z",
     "start_time": "2019-11-18T09:22:05.557Z"
    }
   },
   "outputs": [
    {
     "data": {
      "text/html": [
       "<table>\n",
       "<thead><tr><th></th><th scope=col>Df</th><th scope=col>Deviance</th><th scope=col>Resid. Df</th><th scope=col>Resid. Dev</th><th scope=col>Pr(&gt;Chi)</th></tr></thead>\n",
       "<tbody>\n",
       "\t<tr><th scope=row>NULL</th><td>NA          </td><td>         NA </td><td>831         </td><td>737.8141    </td><td>          NA</td></tr>\n",
       "\t<tr><th scope=row>JOUR</th><td> 1          </td><td>  0.4443555 </td><td>830         </td><td>737.3698    </td><td>5.050277e-01</td></tr>\n",
       "\t<tr><th scope=row>MOCAGE</th><td> 1          </td><td>125.2166123 </td><td>829         </td><td>612.1532    </td><td>4.563158e-29</td></tr>\n",
       "\t<tr><th scope=row>TEMPE</th><td> 1          </td><td>136.8421803 </td><td>828         </td><td>475.3110    </td><td>1.305601e-31</td></tr>\n",
       "\t<tr><th scope=row>STATION</th><td> 4          </td><td> 16.9891229 </td><td>824         </td><td>458.3219    </td><td>1.942378e-03</td></tr>\n",
       "\t<tr><th scope=row>VentMOD</th><td> 1          </td><td> 11.7860664 </td><td>823         </td><td>446.5358    </td><td>5.967570e-04</td></tr>\n",
       "\t<tr><th scope=row>VentANG</th><td> 1          </td><td>  0.8373860 </td><td>822         </td><td>445.6984    </td><td>3.601454e-01</td></tr>\n",
       "\t<tr><th scope=row>SRMH2O</th><td> 1          </td><td>  6.4120067 </td><td>821         </td><td>439.2864    </td><td>1.133512e-02</td></tr>\n",
       "\t<tr><th scope=row>LNO2</th><td> 1          </td><td>  0.1893011 </td><td>820         </td><td>439.0971    </td><td>6.634989e-01</td></tr>\n",
       "\t<tr><th scope=row>LNO</th><td> 1          </td><td>  5.3778575 </td><td>819         </td><td>433.7192    </td><td>2.039391e-02</td></tr>\n",
       "</tbody>\n",
       "</table>\n"
      ],
      "text/latex": [
       "\\begin{tabular}{r|lllll}\n",
       "  & Df & Deviance & Resid. Df & Resid. Dev & Pr(>Chi)\\\\\n",
       "\\hline\n",
       "\tNULL & NA           &          NA  & 831          & 737.8141     &           NA\\\\\n",
       "\tJOUR &  1           &   0.4443555  & 830          & 737.3698     & 5.050277e-01\\\\\n",
       "\tMOCAGE &  1           & 125.2166123  & 829          & 612.1532     & 4.563158e-29\\\\\n",
       "\tTEMPE &  1           & 136.8421803  & 828          & 475.3110     & 1.305601e-31\\\\\n",
       "\tSTATION &  4           &  16.9891229  & 824          & 458.3219     & 1.942378e-03\\\\\n",
       "\tVentMOD &  1           &  11.7860664  & 823          & 446.5358     & 5.967570e-04\\\\\n",
       "\tVentANG &  1           &   0.8373860  & 822          & 445.6984     & 3.601454e-01\\\\\n",
       "\tSRMH2O &  1           &   6.4120067  & 821          & 439.2864     & 1.133512e-02\\\\\n",
       "\tLNO2 &  1           &   0.1893011  & 820          & 439.0971     & 6.634989e-01\\\\\n",
       "\tLNO &  1           &   5.3778575  & 819          & 433.7192     & 2.039391e-02\\\\\n",
       "\\end{tabular}\n"
      ],
      "text/markdown": [
       "\n",
       "| <!--/--> | Df | Deviance | Resid. Df | Resid. Dev | Pr(>Chi) |\n",
       "|---|---|---|---|---|---|\n",
       "| NULL | NA           |          NA  | 831          | 737.8141     |           NA |\n",
       "| JOUR |  1           |   0.4443555  | 830          | 737.3698     | 5.050277e-01 |\n",
       "| MOCAGE |  1           | 125.2166123  | 829          | 612.1532     | 4.563158e-29 |\n",
       "| TEMPE |  1           | 136.8421803  | 828          | 475.3110     | 1.305601e-31 |\n",
       "| STATION |  4           |  16.9891229  | 824          | 458.3219     | 1.942378e-03 |\n",
       "| VentMOD |  1           |  11.7860664  | 823          | 446.5358     | 5.967570e-04 |\n",
       "| VentANG |  1           |   0.8373860  | 822          | 445.6984     | 3.601454e-01 |\n",
       "| SRMH2O |  1           |   6.4120067  | 821          | 439.2864     | 1.133512e-02 |\n",
       "| LNO2 |  1           |   0.1893011  | 820          | 439.0971     | 6.634989e-01 |\n",
       "| LNO |  1           |   5.3778575  | 819          | 433.7192     | 2.039391e-02 |\n",
       "\n"
      ],
      "text/plain": [
       "        Df Deviance    Resid. Df Resid. Dev Pr(>Chi)    \n",
       "NULL    NA          NA 831       737.8141             NA\n",
       "JOUR     1   0.4443555 830       737.3698   5.050277e-01\n",
       "MOCAGE   1 125.2166123 829       612.1532   4.563158e-29\n",
       "TEMPE    1 136.8421803 828       475.3110   1.305601e-31\n",
       "STATION  4  16.9891229 824       458.3219   1.942378e-03\n",
       "VentMOD  1  11.7860664 823       446.5358   5.967570e-04\n",
       "VentANG  1   0.8373860 822       445.6984   3.601454e-01\n",
       "SRMH2O   1   6.4120067 821       439.2864   1.133512e-02\n",
       "LNO2     1   0.1893011 820       439.0971   6.634989e-01\n",
       "LNO      1   5.3778575 819       433.7192   2.039391e-02"
      ]
     },
     "metadata": {},
     "output_type": "display_data"
    }
   ],
   "source": [
    "# estimation du modèle complet\n",
    "log.lm <- glm(DepSeuil ~. , data = datappq, family = binomial)\n",
    "# significativité des paramètres\n",
    "anova(log.lm, test = \"Chisq\")"
   ]
  },
  {
   "cell_type": "code",
   "execution_count": 50,
   "metadata": {
    "ExecuteTime": {
     "end_time": "2019-11-18T09:23:45.012876Z",
     "start_time": "2019-11-18T09:22:05.564Z"
    }
   },
   "outputs": [
    {
     "name": "stdout",
     "output_type": "stream",
     "text": [
      "Start:  AIC=459.72\n",
      "DepSeuil ~ JOUR + MOCAGE + TEMPE + STATION + VentMOD + VentANG + \n",
      "    SRMH2O + LNO2 + LNO\n",
      "\n",
      "          Df Deviance    AIC\n",
      "- MOCAGE   1   434.25 458.25\n",
      "- JOUR     1   434.36 458.36\n",
      "- VentANG  1   434.60 458.60\n",
      "<none>         433.72 459.72\n",
      "- LNO      1   439.10 463.10\n",
      "- LNO2     1   439.21 463.21\n",
      "- SRMH2O   1   440.49 464.49\n",
      "- VentMOD  1   440.90 464.90\n",
      "- STATION  4   455.47 473.47\n",
      "- TEMPE    1   550.99 574.99\n",
      "\n",
      "Step:  AIC=458.25\n",
      "DepSeuil ~ JOUR + TEMPE + STATION + VentMOD + VentANG + SRMH2O + \n",
      "    LNO2 + LNO\n",
      "\n",
      "          Df Deviance    AIC\n",
      "- JOUR     1   434.79 456.79\n",
      "- VentANG  1   435.23 457.23\n",
      "<none>         434.25 458.25\n",
      "- SRMH2O   1   441.49 463.49\n",
      "- VentMOD  1   442.86 464.86\n",
      "- LNO      1   447.00 469.00\n",
      "- LNO2     1   451.13 473.13\n",
      "- STATION  4   471.33 487.33\n",
      "- TEMPE    1   558.59 580.59\n",
      "\n",
      "Step:  AIC=456.79\n",
      "DepSeuil ~ TEMPE + STATION + VentMOD + VentANG + SRMH2O + LNO2 + \n",
      "    LNO\n",
      "\n",
      "          Df Deviance    AIC\n",
      "- VentANG  1   436.01 456.01\n",
      "<none>         434.79 456.79\n",
      "- SRMH2O   1   442.19 462.19\n",
      "- VentMOD  1   443.47 463.47\n",
      "- LNO      1   447.38 467.38\n",
      "- LNO2     1   451.41 471.41\n",
      "- STATION  4   472.00 486.00\n",
      "- TEMPE    1   559.99 579.99\n",
      "\n",
      "Step:  AIC=456.01\n",
      "DepSeuil ~ TEMPE + STATION + VentMOD + SRMH2O + LNO2 + LNO\n",
      "\n",
      "          Df Deviance    AIC\n",
      "<none>         436.01 456.01\n",
      "- SRMH2O   1   443.83 461.83\n",
      "- VentMOD  1   446.97 464.97\n",
      "- LNO      1   448.16 466.16\n",
      "- LNO2     1   452.55 470.55\n",
      "- STATION  4   475.30 487.30\n",
      "- TEMPE    1   565.19 583.19\n"
     ]
    }
   ],
   "source": [
    "# Recherche d'un modèle optimal au sens d'Akaïke\n",
    "log.lm.step <- step(log.lm, direction = \"backward\")"
   ]
  },
  {
   "cell_type": "code",
   "execution_count": 51,
   "metadata": {
    "ExecuteTime": {
     "end_time": "2019-11-18T09:23:45.052862Z",
     "start_time": "2019-11-18T09:22:05.570Z"
    }
   },
   "outputs": [
    {
     "data": {
      "text/html": [
       "<table>\n",
       "<thead><tr><th></th><th scope=col>Df</th><th scope=col>Deviance</th><th scope=col>Resid. Df</th><th scope=col>Resid. Dev</th><th scope=col>Pr(&gt;Chi)</th></tr></thead>\n",
       "<tbody>\n",
       "\t<tr><th scope=row>NULL</th><td>NA          </td><td>        NA  </td><td>831         </td><td>737.8141    </td><td>          NA</td></tr>\n",
       "\t<tr><th scope=row>TEMPE</th><td> 1          </td><td>214.189011  </td><td>830         </td><td>523.6251    </td><td>1.674882e-48</td></tr>\n",
       "\t<tr><th scope=row>STATION</th><td> 4          </td><td> 32.315989  </td><td>826         </td><td>491.3091    </td><td>1.648689e-06</td></tr>\n",
       "\t<tr><th scope=row>VentMOD</th><td> 1          </td><td> 29.015384  </td><td>825         </td><td>462.2937    </td><td>7.180577e-08</td></tr>\n",
       "\t<tr><th scope=row>SRMH2O</th><td> 1          </td><td>  9.116772  </td><td>824         </td><td>453.1770    </td><td>2.532764e-03</td></tr>\n",
       "\t<tr><th scope=row>LNO2</th><td> 1          </td><td>  5.017192  </td><td>823         </td><td>448.1598    </td><td>2.509684e-02</td></tr>\n",
       "\t<tr><th scope=row>LNO</th><td> 1          </td><td> 12.150777  </td><td>822         </td><td>436.0090    </td><td>4.906743e-04</td></tr>\n",
       "</tbody>\n",
       "</table>\n"
      ],
      "text/latex": [
       "\\begin{tabular}{r|lllll}\n",
       "  & Df & Deviance & Resid. Df & Resid. Dev & Pr(>Chi)\\\\\n",
       "\\hline\n",
       "\tNULL & NA           &         NA   & 831          & 737.8141     &           NA\\\\\n",
       "\tTEMPE &  1           & 214.189011   & 830          & 523.6251     & 1.674882e-48\\\\\n",
       "\tSTATION &  4           &  32.315989   & 826          & 491.3091     & 1.648689e-06\\\\\n",
       "\tVentMOD &  1           &  29.015384   & 825          & 462.2937     & 7.180577e-08\\\\\n",
       "\tSRMH2O &  1           &   9.116772   & 824          & 453.1770     & 2.532764e-03\\\\\n",
       "\tLNO2 &  1           &   5.017192   & 823          & 448.1598     & 2.509684e-02\\\\\n",
       "\tLNO &  1           &  12.150777   & 822          & 436.0090     & 4.906743e-04\\\\\n",
       "\\end{tabular}\n"
      ],
      "text/markdown": [
       "\n",
       "| <!--/--> | Df | Deviance | Resid. Df | Resid. Dev | Pr(>Chi) |\n",
       "|---|---|---|---|---|---|\n",
       "| NULL | NA           |         NA   | 831          | 737.8141     |           NA |\n",
       "| TEMPE |  1           | 214.189011   | 830          | 523.6251     | 1.674882e-48 |\n",
       "| STATION |  4           |  32.315989   | 826          | 491.3091     | 1.648689e-06 |\n",
       "| VentMOD |  1           |  29.015384   | 825          | 462.2937     | 7.180577e-08 |\n",
       "| SRMH2O |  1           |   9.116772   | 824          | 453.1770     | 2.532764e-03 |\n",
       "| LNO2 |  1           |   5.017192   | 823          | 448.1598     | 2.509684e-02 |\n",
       "| LNO |  1           |  12.150777   | 822          | 436.0090     | 4.906743e-04 |\n",
       "\n"
      ],
      "text/plain": [
       "        Df Deviance   Resid. Df Resid. Dev Pr(>Chi)    \n",
       "NULL    NA         NA 831       737.8141             NA\n",
       "TEMPE    1 214.189011 830       523.6251   1.674882e-48\n",
       "STATION  4  32.315989 826       491.3091   1.648689e-06\n",
       "VentMOD  1  29.015384 825       462.2937   7.180577e-08\n",
       "SRMH2O   1   9.116772 824       453.1770   2.532764e-03\n",
       "LNO2     1   5.017192 823       448.1598   2.509684e-02\n",
       "LNO      1  12.150777 822       436.0090   4.906743e-04"
      ]
     },
     "metadata": {},
     "output_type": "display_data"
    }
   ],
   "source": [
    "# Modèle obtenu\n",
    "anova(log.lm.step, test = \"Chisq\")"
   ]
  },
  {
   "cell_type": "code",
   "execution_count": 52,
   "metadata": {
    "ExecuteTime": {
     "end_time": "2019-11-18T09:23:45.074743Z",
     "start_time": "2019-11-18T09:22:05.576Z"
    }
   },
   "outputs": [
    {
     "data": {
      "text/plain": [
       "       \n",
       "        FALSE TRUE\n",
       "  FALSE   673   70\n",
       "  TRUE     24   65"
      ]
     },
     "metadata": {},
     "output_type": "display_data"
    }
   ],
   "source": [
    "# matrice de confusion de l'échantillon d'apprentissage et erreur apparente\n",
    "table(log.lm.step$fitted.values > 0.5, datappq[, \"DepSeuil\"])"
   ]
  },
  {
   "cell_type": "markdown",
   "metadata": {},
   "source": [
    "## <FONT COLOR=\"green\">Régression logistique avec interactions</font>"
   ]
  },
  {
   "cell_type": "markdown",
   "metadata": {},
   "source": [
    "Avec autant de variables et d'interactions donc de paramètres, l'estimation du modèle complet de régression logistique  rencontre des soucis et affiche des *warnings* car certaines probabilité trop bien ajustés (0 ou 1) provoquent des divisions par 0. Ici une procédure *forward* ou  mieux *stepwise* de sélection des variables et interactions  conduit à des résultats raisonnables. Une méthode avec pénalisation L1 peut aussi être utilisée."
   ]
  },
  {
   "cell_type": "code",
   "execution_count": 53,
   "metadata": {
    "ExecuteTime": {
     "end_time": "2019-11-18T09:23:46.096169Z",
     "start_time": "2019-11-18T09:22:05.997Z"
    }
   },
   "outputs": [
    {
     "name": "stdout",
     "output_type": "stream",
     "text": [
      "Start:  AIC=739.81\n",
      "DepSeuil ~ 1\n",
      "\n",
      "          Df Deviance    AIC\n",
      "+ TEMPE    1   523.63 527.63\n",
      "+ MOCAGE   1   613.24 617.24\n",
      "+ SRMH2O   1   683.87 687.87\n",
      "+ VentANG  1   726.72 730.72\n",
      "+ STATION  4   721.68 731.68\n",
      "+ LNO2     1   727.76 731.76\n",
      "+ VentMOD  1   733.38 737.38\n",
      "<none>         737.81 739.81\n",
      "+ LNO      1   736.47 740.47\n",
      "+ JOUR     1   737.37 741.37\n",
      "\n",
      "Step:  AIC=527.63\n",
      "DepSeuil ~ TEMPE\n",
      "\n",
      "          Df Deviance    AIC\n",
      "+ MOCAGE   1   476.67 482.67\n",
      "+ STATION  4   491.31 503.31\n",
      "+ SRMH2O   1   503.12 509.12\n",
      "+ VentMOD  1   515.31 521.31\n",
      "+ VentANG  1   516.54 522.54\n",
      "<none>         523.63 527.63\n",
      "+ LNO      1   521.92 527.92\n",
      "+ JOUR     1   522.78 528.78\n",
      "+ LNO2     1   523.06 529.06\n",
      "- TEMPE    1   737.81 739.81\n",
      "\n",
      "Step:  AIC=482.67\n",
      "DepSeuil ~ TEMPE + MOCAGE\n",
      "\n",
      "               Df Deviance    AIC\n",
      "+ SRMH2O        1   465.50 473.50\n",
      "+ STATION       4   460.11 474.11\n",
      "+ LNO           1   470.23 478.23\n",
      "+ LNO2          1   471.61 479.61\n",
      "+ VentMOD       1   473.42 481.42\n",
      "+ VentANG       1   473.55 481.55\n",
      "<none>              476.67 482.67\n",
      "+ JOUR          1   475.31 483.31\n",
      "+ MOCAGE:TEMPE  1   475.40 483.40\n",
      "- MOCAGE        1   523.63 527.63\n",
      "- TEMPE         1   613.24 617.24\n",
      "\n",
      "Step:  AIC=473.5\n",
      "DepSeuil ~ TEMPE + MOCAGE + SRMH2O\n",
      "\n",
      "                Df Deviance    AIC\n",
      "+ STATION        4   449.57 465.57\n",
      "+ LNO            1   460.12 470.12\n",
      "+ LNO2           1   461.24 471.24\n",
      "<none>               465.50 473.50\n",
      "+ VentANG        1   463.54 473.54\n",
      "+ MOCAGE:TEMPE   1   463.74 473.74\n",
      "+ TEMPE:SRMH2O   1   464.07 474.07\n",
      "+ JOUR           1   464.25 474.25\n",
      "+ VentMOD        1   464.47 474.47\n",
      "+ MOCAGE:SRMH2O  1   465.32 475.32\n",
      "- SRMH2O         1   476.67 482.67\n",
      "- MOCAGE         1   503.12 509.12\n",
      "- TEMPE          1   585.77 591.77\n",
      "\n",
      "Step:  AIC=465.57\n",
      "DepSeuil ~ TEMPE + MOCAGE + SRMH2O + STATION\n",
      "\n",
      "                 Df Deviance    AIC\n",
      "+ VentMOD         1   440.89 458.89\n",
      "+ STATION:SRMH2O  4   435.71 459.71\n",
      "+ TEMPE:STATION   4   436.45 460.45\n",
      "+ VentANG         1   447.31 465.31\n",
      "<none>                449.57 465.57\n",
      "+ JOUR            1   448.13 466.13\n",
      "+ TEMPE:SRMH2O    1   448.45 466.45\n",
      "+ LNO             1   449.12 467.12\n",
      "+ MOCAGE:TEMPE    1   449.40 467.40\n",
      "+ MOCAGE:SRMH2O   1   449.47 467.47\n",
      "+ LNO2            1   449.57 467.57\n",
      "+ MOCAGE:STATION  4   444.97 468.97\n",
      "- STATION         4   465.50 473.50\n",
      "- SRMH2O          1   460.11 474.11\n",
      "- MOCAGE          1   471.95 485.95\n",
      "- TEMPE           1   568.69 582.69\n",
      "\n",
      "Step:  AIC=458.89\n",
      "DepSeuil ~ TEMPE + MOCAGE + SRMH2O + STATION + VentMOD\n",
      "\n",
      "                  Df Deviance    AIC\n",
      "+ VentMOD:SRMH2O   1   433.12 453.12\n",
      "+ STATION:SRMH2O   4   428.25 454.25\n",
      "+ TEMPE:STATION    4   429.21 455.21\n",
      "+ MOCAGE:VentMOD   1   437.86 457.86\n",
      "<none>                 440.89 458.89\n",
      "+ TEMPE:SRMH2O     1   439.14 459.14\n",
      "+ TEMPE:VentMOD    1   439.52 459.52\n",
      "+ STATION:VentMOD  4   433.72 459.72\n",
      "+ JOUR             1   439.89 459.89\n",
      "+ VentANG          1   440.05 460.05\n",
      "+ LNO2             1   440.61 460.61\n",
      "+ MOCAGE:STATION   4   434.82 460.82\n",
      "+ MOCAGE:SRMH2O    1   440.85 460.85\n",
      "+ LNO              1   440.87 460.87\n",
      "+ MOCAGE:TEMPE     1   440.89 460.89\n",
      "- SRMH2O           1   447.78 463.78\n",
      "- VentMOD          1   449.57 465.57\n",
      "- MOCAGE           1   453.18 469.18\n",
      "- STATION          4   464.47 474.47\n",
      "- TEMPE            1   568.67 584.67\n",
      "\n",
      "Step:  AIC=453.12\n",
      "DepSeuil ~ TEMPE + MOCAGE + SRMH2O + STATION + VentMOD + SRMH2O:VentMOD\n",
      "\n",
      "                  Df Deviance    AIC\n",
      "+ TEMPE:STATION    4   420.27 448.27\n",
      "<none>                 433.12 453.12\n",
      "+ TEMPE:VentMOD    1   431.25 453.25\n",
      "+ MOCAGE:VentMOD   1   431.25 453.25\n",
      "+ TEMPE:SRMH2O     1   431.30 453.30\n",
      "+ JOUR             1   432.20 454.20\n",
      "+ STATION:SRMH2O   4   426.36 454.36\n",
      "+ VentANG          1   432.88 454.88\n",
      "+ LNO2             1   432.91 454.91\n",
      "+ MOCAGE:STATION   4   426.93 454.93\n",
      "+ MOCAGE:SRMH2O    1   432.97 454.97\n",
      "+ MOCAGE:TEMPE     1   433.06 455.06\n",
      "+ LNO              1   433.09 455.09\n",
      "+ STATION:VentMOD  4   427.21 455.21\n",
      "- SRMH2O:VentMOD   1   440.89 458.89\n",
      "- MOCAGE           1   443.95 461.95\n",
      "- STATION          4   456.16 468.16\n",
      "- TEMPE            1   562.80 580.80\n",
      "\n",
      "Step:  AIC=448.27\n",
      "DepSeuil ~ TEMPE + MOCAGE + SRMH2O + STATION + VentMOD + SRMH2O:VentMOD + \n",
      "    TEMPE:STATION\n",
      "\n",
      "                  Df Deviance    AIC\n",
      "+ MOCAGE:VentMOD   1   416.43 446.43\n",
      "<none>                 420.27 448.27\n",
      "+ STATION:SRMH2O   4   412.28 448.28\n",
      "+ JOUR             1   418.96 448.96\n",
      "+ TEMPE:SRMH2O     1   419.00 449.00\n",
      "+ MOCAGE:STATION   4   413.75 449.75\n",
      "+ LNO2             1   419.91 449.91\n",
      "+ MOCAGE:TEMPE     1   420.07 450.07\n",
      "+ VentANG          1   420.14 450.14\n",
      "+ TEMPE:VentMOD    1   420.16 450.16\n",
      "+ MOCAGE:SRMH2O    1   420.26 450.26\n",
      "+ LNO              1   420.27 450.27\n",
      "+ STATION:VentMOD  4   414.31 450.31\n",
      "- TEMPE:STATION    4   433.12 453.12\n",
      "- SRMH2O:VentMOD   1   429.21 455.21\n",
      "- MOCAGE           1   430.46 456.46\n",
      "\n",
      "Step:  AIC=446.43\n",
      "DepSeuil ~ TEMPE + MOCAGE + SRMH2O + STATION + VentMOD + SRMH2O:VentMOD + \n",
      "    TEMPE:STATION + MOCAGE:VentMOD\n",
      "\n",
      "                  Df Deviance    AIC\n",
      "+ STATION:SRMH2O   4   407.18 445.18\n",
      "<none>                 416.43 446.43\n",
      "+ MOCAGE:STATION   4   409.10 447.10\n",
      "+ STATION:VentMOD  4   409.22 447.22\n",
      "+ TEMPE:SRMH2O     1   415.32 447.32\n",
      "+ JOUR             1   415.38 447.38\n",
      "+ MOCAGE:SRMH2O    1   416.18 448.18\n",
      "+ LNO              1   416.18 448.18\n",
      "+ TEMPE:VentMOD    1   416.26 448.26\n",
      "- MOCAGE:VentMOD   1   420.27 448.27\n",
      "+ VentANG          1   416.35 448.35\n",
      "+ LNO2             1   416.42 448.42\n",
      "+ MOCAGE:TEMPE     1   416.43 448.43\n",
      "- SRMH2O:VentMOD   1   423.51 451.51\n",
      "- TEMPE:STATION    4   431.25 453.25\n",
      "\n",
      "Step:  AIC=445.18\n",
      "DepSeuil ~ TEMPE + MOCAGE + SRMH2O + STATION + VentMOD + SRMH2O:VentMOD + \n",
      "    TEMPE:STATION + MOCAGE:VentMOD + SRMH2O:STATION\n",
      "\n",
      "                  Df Deviance    AIC\n",
      "+ TEMPE:SRMH2O     1   400.92 440.92\n",
      "- SRMH2O:VentMOD   1   408.29 444.29\n",
      "+ MOCAGE:STATION   4   399.09 445.09\n",
      "<none>                 407.18 445.18\n",
      "+ JOUR             1   406.41 446.41\n",
      "- SRMH2O:STATION   4   416.43 446.43\n",
      "+ LNO              1   406.91 446.91\n",
      "+ MOCAGE:SRMH2O    1   407.09 447.09\n",
      "+ TEMPE:VentMOD    1   407.09 447.09\n",
      "+ MOCAGE:TEMPE     1   407.16 447.16\n",
      "+ LNO2             1   407.17 447.17\n",
      "+ VentANG          1   407.18 447.18\n",
      "+ STATION:VentMOD  4   401.87 447.87\n",
      "- MOCAGE:VentMOD   1   412.28 448.28\n",
      "- TEMPE:STATION    4   423.74 453.74\n",
      "\n",
      "Step:  AIC=440.92\n",
      "DepSeuil ~ TEMPE + MOCAGE + SRMH2O + STATION + VentMOD + SRMH2O:VentMOD + \n",
      "    TEMPE:STATION + MOCAGE:VentMOD + SRMH2O:STATION + TEMPE:SRMH2O\n",
      "\n",
      "                  Df Deviance    AIC\n",
      "- SRMH2O:VentMOD   1   401.35 439.35\n",
      "+ MOCAGE:STATION   4   392.59 440.59\n",
      "<none>                 400.92 440.92\n",
      "+ LNO              1   400.56 442.56\n",
      "+ JOUR             1   400.67 442.67\n",
      "+ TEMPE:VentMOD    1   400.80 442.80\n",
      "+ MOCAGE:SRMH2O    1   400.85 442.85\n",
      "+ MOCAGE:TEMPE     1   400.89 442.89\n",
      "+ VentANG          1   400.91 442.91\n",
      "+ LNO2             1   400.91 442.91\n",
      "+ STATION:VentMOD  4   395.74 443.74\n",
      "- MOCAGE:VentMOD   1   406.40 444.40\n",
      "- TEMPE:SRMH2O     1   407.18 445.18\n",
      "- SRMH2O:STATION   4   415.32 447.32\n",
      "- TEMPE:STATION    4   418.28 450.28\n",
      "\n",
      "Step:  AIC=439.35\n",
      "DepSeuil ~ TEMPE + MOCAGE + SRMH2O + STATION + VentMOD + TEMPE:STATION + \n",
      "    MOCAGE:VentMOD + SRMH2O:STATION + TEMPE:SRMH2O\n",
      "\n",
      "                  Df Deviance    AIC\n",
      "+ MOCAGE:STATION   4   392.81 438.81\n",
      "<none>                 401.35 439.35\n",
      "+ VentMOD:SRMH2O   1   400.92 440.92\n",
      "+ LNO              1   400.99 440.99\n",
      "+ JOUR             1   401.13 441.13\n",
      "+ TEMPE:VentMOD    1   401.19 441.19\n",
      "+ MOCAGE:SRMH2O    1   401.26 441.26\n",
      "+ MOCAGE:TEMPE     1   401.31 441.31\n",
      "+ VentANG          1   401.34 441.34\n",
      "+ LNO2             1   401.35 441.35\n",
      "+ STATION:VentMOD  4   396.44 442.44\n",
      "- MOCAGE:VentMOD   1   407.80 443.80\n",
      "- TEMPE:SRMH2O     1   408.29 444.29\n",
      "- TEMPE:STATION    4   418.74 448.74\n",
      "- SRMH2O:STATION   4   422.61 452.61\n",
      "\n",
      "Step:  AIC=438.81\n",
      "DepSeuil ~ TEMPE + MOCAGE + SRMH2O + STATION + VentMOD + TEMPE:STATION + \n",
      "    MOCAGE:VentMOD + SRMH2O:STATION + TEMPE:SRMH2O + MOCAGE:STATION\n",
      "\n",
      "                  Df Deviance    AIC\n",
      "<none>                 392.81 438.81\n",
      "+ MOCAGE:TEMPE     1   390.84 438.84\n",
      "- MOCAGE:STATION   4   401.35 439.35\n",
      "+ STATION:VentMOD  4   385.49 439.49\n",
      "+ LNO              1   391.76 439.76\n",
      "+ TEMPE:VentMOD    1   392.45 440.45\n",
      "+ VentMOD:SRMH2O   1   392.59 440.59\n",
      "+ LNO2             1   392.62 440.62\n",
      "+ VentANG          1   392.75 440.75\n",
      "+ JOUR             1   392.76 440.76\n",
      "+ MOCAGE:SRMH2O    1   392.80 440.80\n",
      "- TEMPE:SRMH2O     1   399.88 443.88\n",
      "- MOCAGE:VentMOD   1   400.05 444.05\n",
      "- TEMPE:STATION    4   407.76 445.76\n",
      "- SRMH2O:STATION   4   415.01 453.01\n"
     ]
    }
   ],
   "source": [
    "# régression avec le modèle minimum\n",
    "log.qm <- glm(DepSeuil ~ 1, data = datappq,family = binomial)\n",
    "# algorithme stepwise en précisant le plus grand \n",
    "# modèle possible\n",
    "log.qm.step1 <- step(log.qm, direction = \"both\",\n",
    "    scope = list(lower = ~1, upper = ~(JOUR + MOCAGE + TEMPE + \n",
    "            STATION + VentMOD + VentANG + LNO2 + LNO + SRMH2O)^2), \n",
    "    family=binomial)"
   ]
  },
  {
   "cell_type": "code",
   "execution_count": 54,
   "metadata": {
    "ExecuteTime": {
     "end_time": "2019-11-18T09:23:46.158081Z",
     "start_time": "2019-11-18T09:22:06.003Z"
    }
   },
   "outputs": [
    {
     "data": {
      "text/html": [
       "<table>\n",
       "<thead><tr><th></th><th scope=col>Df</th><th scope=col>Deviance</th><th scope=col>Resid. Df</th><th scope=col>Resid. Dev</th><th scope=col>Pr(&gt;Chi)</th></tr></thead>\n",
       "<tbody>\n",
       "\t<tr><th scope=row>NULL</th><td>NA          </td><td>        NA  </td><td>831         </td><td>737.8141    </td><td>          NA</td></tr>\n",
       "\t<tr><th scope=row>TEMPE</th><td> 1          </td><td>214.189011  </td><td>830         </td><td>523.6251    </td><td>1.674882e-48</td></tr>\n",
       "\t<tr><th scope=row>MOCAGE</th><td> 1          </td><td> 46.956415  </td><td>829         </td><td>476.6687    </td><td>7.258302e-12</td></tr>\n",
       "\t<tr><th scope=row>SRMH2O</th><td> 1          </td><td> 11.172483  </td><td>828         </td><td>465.4962    </td><td>8.301945e-04</td></tr>\n",
       "\t<tr><th scope=row>STATION</th><td> 4          </td><td> 15.922320  </td><td>824         </td><td>449.5739    </td><td>3.125190e-03</td></tr>\n",
       "\t<tr><th scope=row>VentMOD</th><td> 1          </td><td>  8.683311  </td><td>823         </td><td>440.8906    </td><td>3.211370e-03</td></tr>\n",
       "\t<tr><th scope=row>TEMPE:STATION</th><td> 4          </td><td> 11.682335  </td><td>819         </td><td>429.2083    </td><td>1.987666e-02</td></tr>\n",
       "\t<tr><th scope=row>MOCAGE:VentMOD</th><td> 1          </td><td>  5.702069  </td><td>818         </td><td>423.5062    </td><td>1.694493e-02</td></tr>\n",
       "\t<tr><th scope=row>SRMH2O:STATION</th><td> 4          </td><td> 15.218744  </td><td>814         </td><td>408.2874    </td><td>4.268380e-03</td></tr>\n",
       "\t<tr><th scope=row>TEMPE:SRMH2O</th><td> 1          </td><td>  6.941017  </td><td>813         </td><td>401.3464    </td><td>8.424122e-03</td></tr>\n",
       "\t<tr><th scope=row>MOCAGE:STATION</th><td> 4          </td><td>  8.537208  </td><td>809         </td><td>392.8092    </td><td>7.376738e-02</td></tr>\n",
       "</tbody>\n",
       "</table>\n"
      ],
      "text/latex": [
       "\\begin{tabular}{r|lllll}\n",
       "  & Df & Deviance & Resid. Df & Resid. Dev & Pr(>Chi)\\\\\n",
       "\\hline\n",
       "\tNULL & NA           &         NA   & 831          & 737.8141     &           NA\\\\\n",
       "\tTEMPE &  1           & 214.189011   & 830          & 523.6251     & 1.674882e-48\\\\\n",
       "\tMOCAGE &  1           &  46.956415   & 829          & 476.6687     & 7.258302e-12\\\\\n",
       "\tSRMH2O &  1           &  11.172483   & 828          & 465.4962     & 8.301945e-04\\\\\n",
       "\tSTATION &  4           &  15.922320   & 824          & 449.5739     & 3.125190e-03\\\\\n",
       "\tVentMOD &  1           &   8.683311   & 823          & 440.8906     & 3.211370e-03\\\\\n",
       "\tTEMPE:STATION &  4           &  11.682335   & 819          & 429.2083     & 1.987666e-02\\\\\n",
       "\tMOCAGE:VentMOD &  1           &   5.702069   & 818          & 423.5062     & 1.694493e-02\\\\\n",
       "\tSRMH2O:STATION &  4           &  15.218744   & 814          & 408.2874     & 4.268380e-03\\\\\n",
       "\tTEMPE:SRMH2O &  1           &   6.941017   & 813          & 401.3464     & 8.424122e-03\\\\\n",
       "\tMOCAGE:STATION &  4           &   8.537208   & 809          & 392.8092     & 7.376738e-02\\\\\n",
       "\\end{tabular}\n"
      ],
      "text/markdown": [
       "\n",
       "| <!--/--> | Df | Deviance | Resid. Df | Resid. Dev | Pr(>Chi) |\n",
       "|---|---|---|---|---|---|\n",
       "| NULL | NA           |         NA   | 831          | 737.8141     |           NA |\n",
       "| TEMPE |  1           | 214.189011   | 830          | 523.6251     | 1.674882e-48 |\n",
       "| MOCAGE |  1           |  46.956415   | 829          | 476.6687     | 7.258302e-12 |\n",
       "| SRMH2O |  1           |  11.172483   | 828          | 465.4962     | 8.301945e-04 |\n",
       "| STATION |  4           |  15.922320   | 824          | 449.5739     | 3.125190e-03 |\n",
       "| VentMOD |  1           |   8.683311   | 823          | 440.8906     | 3.211370e-03 |\n",
       "| TEMPE:STATION |  4           |  11.682335   | 819          | 429.2083     | 1.987666e-02 |\n",
       "| MOCAGE:VentMOD |  1           |   5.702069   | 818          | 423.5062     | 1.694493e-02 |\n",
       "| SRMH2O:STATION |  4           |  15.218744   | 814          | 408.2874     | 4.268380e-03 |\n",
       "| TEMPE:SRMH2O |  1           |   6.941017   | 813          | 401.3464     | 8.424122e-03 |\n",
       "| MOCAGE:STATION |  4           |   8.537208   | 809          | 392.8092     | 7.376738e-02 |\n",
       "\n"
      ],
      "text/plain": [
       "               Df Deviance   Resid. Df Resid. Dev Pr(>Chi)    \n",
       "NULL           NA         NA 831       737.8141             NA\n",
       "TEMPE           1 214.189011 830       523.6251   1.674882e-48\n",
       "MOCAGE          1  46.956415 829       476.6687   7.258302e-12\n",
       "SRMH2O          1  11.172483 828       465.4962   8.301945e-04\n",
       "STATION         4  15.922320 824       449.5739   3.125190e-03\n",
       "VentMOD         1   8.683311 823       440.8906   3.211370e-03\n",
       "TEMPE:STATION   4  11.682335 819       429.2083   1.987666e-02\n",
       "MOCAGE:VentMOD  1   5.702069 818       423.5062   1.694493e-02\n",
       "SRMH2O:STATION  4  15.218744 814       408.2874   4.268380e-03\n",
       "TEMPE:SRMH2O    1   6.941017 813       401.3464   8.424122e-03\n",
       "MOCAGE:STATION  4   8.537208 809       392.8092   7.376738e-02"
      ]
     },
     "metadata": {},
     "output_type": "display_data"
    }
   ],
   "source": [
    "anova(log.qm.step1, test = \"Chisq\")"
   ]
  },
  {
   "cell_type": "markdown",
   "metadata": {},
   "source": [
    "## <FONT COLOR=\"green\">Prévision de l'échantillon test</font>"
   ]
  },
  {
   "cell_type": "markdown",
   "metadata": {},
   "source": [
    "#### Matrice de confusion"
   ]
  },
  {
   "cell_type": "code",
   "execution_count": 55,
   "metadata": {
    "ExecuteTime": {
     "end_time": "2019-11-18T09:23:46.179001Z",
     "start_time": "2019-11-18T09:22:06.010Z"
    }
   },
   "outputs": [
    {
     "data": {
      "text/plain": [
       "       \n",
       "        FALSE TRUE\n",
       "  FALSE   164   20\n",
       "  TRUE      2   23"
      ]
     },
     "metadata": {},
     "output_type": "display_data"
    }
   ],
   "source": [
    "# Prévision du modèle quadratique\n",
    "pred.log <- predict(log.qm.step1, newdata = datestq, type = \"response\")\n",
    "# Matrice de confusion pour la prévision du \n",
    "# dépassement de seuil\n",
    "table(pred.log > 0.5, datestq[, \"DepSeuil\"])"
   ]
  },
  {
   "cell_type": "markdown",
   "metadata": {},
   "source": [
    "Comparer avec l'approche précédente. Mémoriser les résultats obtenus pour comparer avec les autres méthodes."
   ]
  },
  {
   "cell_type": "markdown",
   "metadata": {},
   "source": [
    "#### Courbe ROC"
   ]
  },
  {
   "cell_type": "markdown",
   "metadata": {},
   "source": [
    "Il est également possible de construire une courbe ROC en association de la prévision obtenue à partir d'un modèle gaussien. En effet, la variation du seuil théorique de dépassement (150) va faire varier les proportions respectives des taux de vrais et faux positifs. Cela revient encore à faire varier le seuil d'une \"proba\" pour les valeurs de prévisions divisées par 300."
   ]
  },
  {
   "cell_type": "code",
   "execution_count": 57,
   "metadata": {},
   "outputs": [
    {
     "data": {
      "image/png": "[encoded data removed]",
      "text/plain": [
       "Plot with title \"Courbe ROC \n",
       " Mod. quad. backward AIC \""
      ]
     },
     "metadata": {},
     "output_type": "display_data"
    }
   ],
   "source": [
    "library(ROCR)\n",
    "options(repr.plot.width = 6, repr.plot.height = 6)\n",
    "par(mfrow = c(1, 1))\n",
    "rocmocage <- datestr[,  \"MOCAGE\"] / 300 \n",
    "DepSeuil=c(datestr[, \"O3obs\"] > 150)\n",
    "predmocage <- prediction(rocmocage,DepSeuil)\n",
    "perfmocage <- performance(predmocage, \"tpr\", \"fpr\")\n",
    "\n",
    "\n",
    "rocglm <- pred.glm / 300    \n",
    "predglm <- prediction(rocglm,DepSeuil)\n",
    "perfglm <- performance(predglm, \"tpr\", \"fpr\")\n",
    "\n",
    "roclogit <- predict(log.qm.step1, newdata = datestq, type=\"response\")\n",
    "predlogit <- prediction(roclogit, datestq[, \"DepSeuil\"])\n",
    "perflogit <- performance(predlogit, \"tpr\", \"fpr\")\n",
    "\n",
    "plot(perfglm, col = \"blue\",lty=2, main = \"Courbe ROC \\n Mod. quad. backward AIC \")\n",
    "plot(perfmocage,col=\"orange\",lty=2,add=TRUE)\n",
    "plot(perflogit,col=\"green\",lty=1,add=TRUE) \n",
    "\n",
    "legend(\"right\", legend=c(\"Mod. Quad. backward AIC\", \"Mocage\", \"Logit\"),\n",
    "       col=c(\"blue\",\"orange\",\"green\"), lty=c(2,2,1), text.font=1,    cex=0.8)\n"
   ]
  },
  {
   "cell_type": "markdown",
   "metadata": {},
   "source": [
    "**Question** Que sont sensibilité et spécificité d'une courbe ROC?\n",
    "\n",
    "Les résultats obtenus dépendent évidemment en plus de l'échantillonnage initial entre apprentissage et test. Dans le cas où les courbes se croisent, cela signifie qu'il n'y a pas de prévision uniformément meilleure de l'occurrence de dépassement. Cela dépend de la sensibilité ou de la spécificité retenue pour le modèle. Ceci souligne l'importance de la bonne définition du critère à utiliser pour le choix d'une \"meilleure\" méthode. Ce choix dépend directement de celui , \"politique\" ou \"économique\" de sensibilité et / ou spécificité du modèle retenu. En d'autres termes, quel taux de fausse alerte, avec des imputations économiques évidentes, est supportable au regard des dépassements non détectés et donc de la dégradation sanitaire de la population à risque ?\n",
    " \n",
    "C'est une fois ce choix arrêté que le statisticien peut opérer une comparaison des méthodes en présence.\n",
    "\n",
    "**Question** Les performances des deux approches gaussiennes et binomiales sont-elles très différentes ?\n",
    "\n",
    "**Question** Sur le graphe ci-dessus, ajouter la courbe ROC pour le modèle déterministe MOCAGE. Qu'observez-vous?"
   ]
  },
  {
   "cell_type": "markdown",
   "metadata": {},
   "source": [
    "\n",
    "**Question** Les SVM apportent-ils une amélioration?"
   ]
  },
  {
   "cell_type": "markdown",
   "metadata": {},
   "source": [
    "**Réponses:** <br>\n",
    "1- Elles sont définies comme suit :<br>\n",
    "Sensibilité (ou rappel, ou taux de vrais positifs) : **proportion des instances positives correctement identifiées.** <br>\n",
    "Spécificité : **proportion des instances négatives correctement identifiées.** <br>\n",
    "2- les deux approches ont des performances similaires, avec une sensibilité d'environ 0,9 et une spécificité d'environ 0,8. Cependant, il est important de noter que les courbes ROC se croisent, ce qui signifie qu'il n'y a pas de prévision uniformément meilleure de l'occurrence de dépassement. Cela dépend de la sensibilité ou de la spécificité retenue pour le modèle.<br>\n",
    "3-On peut observer que cette courbe est située en dessous des courbes ROC pour les modèles gaussiens et binomials. Cela signifie que le modèle MOCAGE a une sensibilité et une spécificité inférieures à celles des modèles gaussiens et binomials.<br>\n",
    "4-Oui, les SVM apportent une amélioration dans notre exemple. Les courbes ROC pour les modèles SVM (lignes violettes) sont supérieures à celles des modèles gaussiens et binomials (lignes bleue et verte). Cela signifie que les modèles SVM ont une sensibilité et une spécificité supérieures à celles des modèles gaussiens et binomials.<br>\n",
    "\r\n",
    "Plus précisément, les modèles SVM ont une sensibilité d'environ 0,97 et une spécificité d'environ 0,90. Les modèles gaussiens et binomials ont une sensibilité d'environ 0,95 et une spécificité d'environ 0,85.\n"
   ]
  },
  {
   "cell_type": "markdown",
   "metadata": {},
   "source": [
    "# <FONT COLOR=\"Red\">Partie 4: Arbre de décision binaire </font>  "
   ]
  },
  {
   "cell_type": "markdown",
   "metadata": {},
   "source": [
    "La librairie `rpart` est celle la plus couramment utilisée pour la construction d'arbres de décision. Deux types d'arbres peuvent être estimés selon que la variable à modéliser est la concentration d'ozone (arbre de régression) ou directement le dépassement du seuil (arbre de discrimination ou de décision). Différents paramètres contrôlent l'exécution de l'algorithme : la pénalisation minimale (cp) pour la construction de l'arbre maximal, le nombre minimal d'observations par noeud, le nombre de validations croisées (par défaut 10)... cf. l'aide en ligne (`?rpart.control`) pour plus de détails mais celle-ci n'est pas très explicite sur certains paramètres.\n",
    "\n",
    "NB. Une séquence de valeurs de la pénalisation `cp` est associée à une séquence d'arbres emboîtés.\n"
   ]
  },
  {
   "cell_type": "markdown",
   "metadata": {},
   "source": [
    "## <FONT COLOR=\"green\">Estimation et élagage de l'arbre de régression</font>\n",
    "**Question** Quel critère est optimisé lors de la création d'un noeud de l'arbre?"
   ]
  },
  {
   "cell_type": "markdown",
   "metadata": {},
   "source": [
    "**Réponses:**\n",
    "Le critère optimisé lors de la création d'un noeud est l'impureté de Gini.\n",
    "L'algorithme d'arbre de décision a donc choisi de diviser l'ensemble des données en deux sous-ensembles en fonction de la variable explicative \"Temp\"."
   ]
  },
  {
   "cell_type": "markdown",
   "metadata": {},
   "source": [
    "**Réponse:**"
   ]
  },
  {
   "cell_type": "code",
   "execution_count": 14,
   "metadata": {
    "ExecuteTime": {
     "end_time": "2019-11-18T09:23:47.088662Z",
     "start_time": "2019-11-18T09:22:10.466Z"
    }
   },
   "outputs": [
    {
     "data": {
      "text/html": [
       "\n",
       "<table width=\"100%\" summary=\"page for rpart {rpart}\"><tr><td>rpart {rpart}</td><td style=\"text-align: right;\">R Documentation</td></tr></table>\n",
       "\n",
       "<h2>\n",
       "Recursive Partitioning and Regression Trees\n",
       "</h2>\n",
       "\n",
       "<h3>Description</h3>\n",
       "\n",
       "<p>Fit a <code>rpart</code> model\n",
       "</p>\n",
       "\n",
       "\n",
       "<h3>Usage</h3>\n",
       "\n",
       "<pre>\n",
       "rpart(formula, data, weights, subset, na.action = na.rpart, method,\n",
       "      model = FALSE, x = FALSE, y = TRUE, parms, control, cost, ...)\n",
       "</pre>\n",
       "\n",
       "\n",
       "<h3>Arguments</h3>\n",
       "\n",
       "<table summary=\"R argblock\">\n",
       "<tr valign=\"top\"><td><code>formula</code></td>\n",
       "<td>\n",
       "<p>a formula, with a response but no interaction\n",
       "terms.  If this a a data frame, that is taken as the model frame\n",
       "(see <code>model.frame).</code>\n",
       "</p>\n",
       "</td></tr>\n",
       "<tr valign=\"top\"><td><code>data</code></td>\n",
       "<td>\n",
       "<p>an optional data frame in which to interpret the variables\n",
       "named in the formula.</p>\n",
       "</td></tr> \n",
       "<tr valign=\"top\"><td><code>weights</code></td>\n",
       "<td>\n",
       "<p>optional case weights.</p>\n",
       "</td></tr>\n",
       "<tr valign=\"top\"><td><code>subset</code></td>\n",
       "<td>\n",
       "<p>optional expression saying that only a subset of the\n",
       "rows of the data should be used in the fit.</p>\n",
       "</td></tr>\n",
       "<tr valign=\"top\"><td><code>na.action</code></td>\n",
       "<td>\n",
       "<p>the default action deletes all observations for which\n",
       "<code>y</code> is missing, but keeps those in which one or more predictors\n",
       "are missing.</p>\n",
       "</td></tr>\n",
       "<tr valign=\"top\"><td><code>method</code></td>\n",
       "<td>\n",
       "<p>one of <code>\"anova\"</code>, <code>\"poisson\"</code>, <code>\"class\"</code>\n",
       "or <code>\"exp\"</code>.  If <code>method</code> is missing then the routine tries\n",
       "to make an intelligent guess.\n",
       "If <code>y</code> is a survival object, then <code>method = \"exp\"</code> is assumed,\n",
       "if <code>y</code> has 2 columns then <code>method = \"poisson\"</code> is assumed,\n",
       "if <code>y</code> is a factor then <code>method = \"class\"</code> is assumed,\n",
       "otherwise <code>method = \"anova\"</code> is assumed.\n",
       "It is wisest to specify the method directly, especially as more\n",
       "criteria may added to the function in future.\n",
       "</p>\n",
       "<p>Alternatively, <code>method</code> can be a list of functions named\n",
       "<code>init</code>, <code>split</code> and <code>eval</code>.  Examples are given in\n",
       "the file &lsquo;<span class=\"file\">tests/usersplits.R</span>&rsquo; in the sources, and in the\n",
       "vignettes &lsquo;User Written Split Functions&rsquo;.</p>\n",
       "</td></tr>\n",
       "<tr valign=\"top\"><td><code>model</code></td>\n",
       "<td>\n",
       "<p>if logical: keep a copy of the model frame in the result?\n",
       "If the input value for <code>model</code> is a model frame (likely from an\n",
       "earlier call to the <code>rpart</code> function), then this frame is used\n",
       "rather than constructing new data.</p>\n",
       "</td></tr>\n",
       "<tr valign=\"top\"><td><code>x</code></td>\n",
       "<td>\n",
       "<p>keep a copy of the <code>x</code> matrix in the result.</p>\n",
       "</td></tr>\n",
       "<tr valign=\"top\"><td><code>y</code></td>\n",
       "<td>\n",
       "<p>keep a copy of the dependent variable in the result.  If\n",
       "missing and <code>model</code> is supplied this defaults to <code>FALSE</code>.</p>\n",
       "</td></tr>\n",
       "<tr valign=\"top\"><td><code>parms</code></td>\n",
       "<td>\n",
       "<p>optional parameters for the splitting function.<br />\n",
       "Anova splitting has no parameters.<br />\n",
       "Poisson splitting has a single parameter, the coefficient of variation of\n",
       "the prior distribution on the rates.  The default value is 1.<br />\n",
       "Exponential splitting has the same parameter as Poisson.<br />\n",
       "For classification splitting, the list can contain any of:\n",
       "the vector of prior probabilities (component <code>prior</code>), the loss matrix\n",
       "(component <code>loss</code>) or the splitting index (component\n",
       "<code>split</code>).  The priors must be positive and sum to 1.  The loss\n",
       "matrix must have zeros on the diagonal and positive off-diagonal\n",
       "elements.  The splitting index can be <code>gini</code> or\n",
       "<code>information</code>.  The default priors are proportional to the data\n",
       "counts, the losses default to 1, and the split defaults to\n",
       "<code>gini</code>.</p>\n",
       "</td></tr>\n",
       "<tr valign=\"top\"><td><code>control</code></td>\n",
       "<td>\n",
       "<p>a list of options that control details of the\n",
       "<code>rpart</code> algorithm.  See <code>rpart.control</code>.</p>\n",
       "</td></tr>\n",
       "<tr valign=\"top\"><td><code>cost</code></td>\n",
       "<td>\n",
       "<p>a vector of non-negative costs, one for each variable in\n",
       "the model. Defaults to one for all variables.  These are scalings to\n",
       "be applied when considering splits, so the improvement on splitting\n",
       "on a variable is divided by its cost in deciding which split to\n",
       "choose.</p>\n",
       "</td></tr>\n",
       "<tr valign=\"top\"><td><code>...</code></td>\n",
       "<td>\n",
       "<p>arguments to <code>rpart.control</code> may also be\n",
       "specified in the call to <code>rpart</code>.  They are checked against the\n",
       "list of valid arguments.</p>\n",
       "</td></tr>\n",
       "</table>\n",
       "\n",
       "\n",
       "<h3>Details</h3>\n",
       "\n",
       "<p>This differs from the <code>tree</code> function in S mainly in its handling\n",
       "of surrogate variables.  In most details it follows Breiman\n",
       "<em>et. al</em> (1984) quite closely.  <span style=\"font-family: Courier New, Courier; color: #666666;\"><b>R</b></span> package <span class=\"pkg\">tree</span> provides a\n",
       "re-implementation of <code>tree</code>.\n",
       "</p>\n",
       "\n",
       "\n",
       "<h3>Value</h3>\n",
       "\n",
       "<p>An object of class <code>rpart</code>.  See <code>rpart.object</code>.\n",
       "</p>\n",
       "\n",
       "\n",
       "<h3>References</h3>\n",
       "\n",
       "<p>Breiman L., Friedman J. H., Olshen R. A., and Stone, C. J. (1984)\n",
       "<em>Classification and Regression Trees.</em>\n",
       "Wadsworth.\n",
       "</p>\n",
       "\n",
       "\n",
       "<h3>See Also</h3>\n",
       "\n",
       "<p><code>rpart.control</code>, <code>rpart.object</code>,\n",
       "<code>summary.rpart</code>, <code>print.rpart</code>\n",
       "</p>\n",
       "\n",
       "\n",
       "<h3>Examples</h3>\n",
       "\n",
       "<pre>\n",
       "fit &lt;- rpart(Kyphosis ~ Age + Number + Start, data = kyphosis)\n",
       "fit2 &lt;- rpart(Kyphosis ~ Age + Number + Start, data = kyphosis,\n",
       "              parms = list(prior = c(.65,.35), split = \"information\"))\n",
       "fit3 &lt;- rpart(Kyphosis ~ Age + Number + Start, data = kyphosis,\n",
       "              control = rpart.control(cp = 0.05))\n",
       "par(mfrow = c(1,2), xpd = NA) # otherwise on some devices the text is clipped\n",
       "plot(fit)\n",
       "text(fit, use.n = TRUE)\n",
       "plot(fit2)\n",
       "text(fit2, use.n = TRUE)\n",
       "</pre>\n",
       "\n",
       "<hr /><div style=\"text-align: center;\">[Package <em>rpart</em> version 4.1-15 ]</div>"
      ],
      "text/latex": [
       "\\inputencoding{utf8}\n",
       "\\HeaderA{rpart}{Recursive Partitioning and Regression Trees}{rpart}\n",
       "\\keyword{tree}{rpart}\n",
       "%\n",
       "\\begin{Description}\\relax\n",
       "Fit a \\code{rpart} model\n",
       "\\end{Description}\n",
       "%\n",
       "\\begin{Usage}\n",
       "\\begin{verbatim}\n",
       "rpart(formula, data, weights, subset, na.action = na.rpart, method,\n",
       "      model = FALSE, x = FALSE, y = TRUE, parms, control, cost, ...)\n",
       "\\end{verbatim}\n",
       "\\end{Usage}\n",
       "%\n",
       "\\begin{Arguments}\n",
       "\\begin{ldescription}\n",
       "\\item[\\code{formula}] a \\LinkA{formula}{formula}, with a response but no interaction\n",
       "terms.  If this a a data frame, that is taken as the model frame\n",
       "(see \\code{\\LinkA{model.frame}{model.frame}).}\n",
       "\n",
       "\n",
       "\\item[\\code{data}] an optional data frame in which to interpret the variables\n",
       "named in the formula.\n",
       "\n",
       "\\item[\\code{weights}] optional case weights.\n",
       "\n",
       "\\item[\\code{subset}] optional expression saying that only a subset of the\n",
       "rows of the data should be used in the fit.\n",
       "\n",
       "\\item[\\code{na.action}] the default action deletes all observations for which\n",
       "\\code{y} is missing, but keeps those in which one or more predictors\n",
       "are missing.\n",
       "\n",
       "\\item[\\code{method}] one of \\code{\"anova\"}, \\code{\"poisson\"}, \\code{\"class\"}\n",
       "or \\code{\"exp\"}.  If \\code{method} is missing then the routine tries\n",
       "to make an intelligent guess.\n",
       "If \\code{y} is a survival object, then \\code{method = \"exp\"} is assumed,\n",
       "if \\code{y} has 2 columns then \\code{method = \"poisson\"} is assumed,\n",
       "if \\code{y} is a factor then \\code{method = \"class\"} is assumed,\n",
       "otherwise \\code{method = \"anova\"} is assumed.\n",
       "It is wisest to specify the method directly, especially as more\n",
       "criteria may added to the function in future.\n",
       "\n",
       "Alternatively, \\code{method} can be a list of functions named\n",
       "\\code{init}, \\code{split} and \\code{eval}.  Examples are given in\n",
       "the file \\file{tests/usersplits.R} in the sources, and in the\n",
       "vignettes `User Written Split Functions'.\n",
       "\n",
       "\\item[\\code{model}] if logical: keep a copy of the model frame in the result?\n",
       "If the input value for \\code{model} is a model frame (likely from an\n",
       "earlier call to the \\code{rpart} function), then this frame is used\n",
       "rather than constructing new data.\n",
       "\\item[\\code{x}] keep a copy of the \\code{x} matrix in the result.\n",
       "\n",
       "\\item[\\code{y}] keep a copy of the dependent variable in the result.  If\n",
       "missing and \\code{model} is supplied this defaults to \\code{FALSE}.\n",
       "\n",
       "\\item[\\code{parms}] optional parameters for the splitting function.\\\\{}\n",
       "Anova splitting has no parameters.\\\\{}\n",
       "Poisson splitting has a single parameter, the coefficient of variation of\n",
       "the prior distribution on the rates.  The default value is 1.\\\\{}\n",
       "Exponential splitting has the same parameter as Poisson.\\\\{}\n",
       "For classification splitting, the list can contain any of:\n",
       "the vector of prior probabilities (component \\code{prior}), the loss matrix\n",
       "(component \\code{loss}) or the splitting index (component\n",
       "\\code{split}).  The priors must be positive and sum to 1.  The loss\n",
       "matrix must have zeros on the diagonal and positive off-diagonal\n",
       "elements.  The splitting index can be \\code{gini} or\n",
       "\\code{information}.  The default priors are proportional to the data\n",
       "counts, the losses default to 1, and the split defaults to\n",
       "\\code{gini}.\n",
       "\n",
       "\\item[\\code{control}] a list of options that control details of the\n",
       "\\code{rpart} algorithm.  See \\code{\\LinkA{rpart.control}{rpart.control}}.\n",
       "\n",
       "\\item[\\code{cost}] a vector of non-negative costs, one for each variable in\n",
       "the model. Defaults to one for all variables.  These are scalings to\n",
       "be applied when considering splits, so the improvement on splitting\n",
       "on a variable is divided by its cost in deciding which split to\n",
       "choose.\n",
       "\n",
       "\\item[\\code{...}] arguments to \\code{\\LinkA{rpart.control}{rpart.control}} may also be\n",
       "specified in the call to \\code{rpart}.  They are checked against the\n",
       "list of valid arguments.\n",
       "\\end{ldescription}\n",
       "\\end{Arguments}\n",
       "%\n",
       "\\begin{Details}\\relax\n",
       "This differs from the \\code{tree} function in S mainly in its handling\n",
       "of surrogate variables.  In most details it follows Breiman\n",
       "\\emph{et. al} (1984) quite closely.  \\R{} package \\pkg{tree} provides a\n",
       "re-implementation of \\code{tree}.\n",
       "\\end{Details}\n",
       "%\n",
       "\\begin{Value}\n",
       "An object of class \\code{rpart}.  See \\code{\\LinkA{rpart.object}{rpart.object}}.\n",
       "\\end{Value}\n",
       "%\n",
       "\\begin{References}\\relax\n",
       "Breiman L., Friedman J. H., Olshen R. A., and Stone, C. J. (1984)\n",
       "\\emph{Classification and Regression Trees.}\n",
       "Wadsworth.\n",
       "\\end{References}\n",
       "%\n",
       "\\begin{SeeAlso}\\relax\n",
       "\\code{\\LinkA{rpart.control}{rpart.control}}, \\code{\\LinkA{rpart.object}{rpart.object}},\n",
       "\\code{\\LinkA{summary.rpart}{summary.rpart}}, \\code{\\LinkA{print.rpart}{print.rpart}}\n",
       "\\end{SeeAlso}\n",
       "%\n",
       "\\begin{Examples}\n",
       "\\begin{ExampleCode}\n",
       "fit <- rpart(Kyphosis ~ Age + Number + Start, data = kyphosis)\n",
       "fit2 <- rpart(Kyphosis ~ Age + Number + Start, data = kyphosis,\n",
       "              parms = list(prior = c(.65,.35), split = \"information\"))\n",
       "fit3 <- rpart(Kyphosis ~ Age + Number + Start, data = kyphosis,\n",
       "              control = rpart.control(cp = 0.05))\n",
       "par(mfrow = c(1,2), xpd = NA) # otherwise on some devices the text is clipped\n",
       "plot(fit)\n",
       "text(fit, use.n = TRUE)\n",
       "plot(fit2)\n",
       "text(fit2, use.n = TRUE)\n",
       "\\end{ExampleCode}\n",
       "\\end{Examples}"
      ],
      "text/plain": [
       "rpart                  package:rpart                   R Documentation\n",
       "\n",
       "_\bR_\be_\bc_\bu_\br_\bs_\bi_\bv_\be _\bP_\ba_\br_\bt_\bi_\bt_\bi_\bo_\bn_\bi_\bn_\bg _\ba_\bn_\bd _\bR_\be_\bg_\br_\be_\bs_\bs_\bi_\bo_\bn _\bT_\br_\be_\be_\bs\n",
       "\n",
       "_\bD_\be_\bs_\bc_\br_\bi_\bp_\bt_\bi_\bo_\bn:\n",
       "\n",
       "     Fit a 'rpart' model\n",
       "\n",
       "_\bU_\bs_\ba_\bg_\be:\n",
       "\n",
       "     rpart(formula, data, weights, subset, na.action = na.rpart, method,\n",
       "           model = FALSE, x = FALSE, y = TRUE, parms, control, cost, ...)\n",
       "     \n",
       "_\bA_\br_\bg_\bu_\bm_\be_\bn_\bt_\bs:\n",
       "\n",
       " formula: a formula, with a response but no interaction terms.  If this\n",
       "          a a data frame, that is taken as the model frame (see\n",
       "          'model.frame).'\n",
       "\n",
       "    data: an optional data frame in which to interpret the variables\n",
       "          named in the formula.\n",
       "\n",
       " weights: optional case weights.\n",
       "\n",
       "  subset: optional expression saying that only a subset of the rows of\n",
       "          the data should be used in the fit.\n",
       "\n",
       "na.action: the default action deletes all observations for which 'y' is\n",
       "          missing, but keeps those in which one or more predictors are\n",
       "          missing.\n",
       "\n",
       "  method: one of '\"anova\"', '\"poisson\"', '\"class\"' or '\"exp\"'.  If\n",
       "          'method' is missing then the routine tries to make an\n",
       "          intelligent guess.  If 'y' is a survival object, then 'method\n",
       "          = \"exp\"' is assumed, if 'y' has 2 columns then 'method =\n",
       "          \"poisson\"' is assumed, if 'y' is a factor then 'method =\n",
       "          \"class\"' is assumed, otherwise 'method = \"anova\"' is assumed.\n",
       "          It is wisest to specify the method directly, especially as\n",
       "          more criteria may added to the function in future.\n",
       "\n",
       "          Alternatively, 'method' can be a list of functions named\n",
       "          'init', 'split' and 'eval'.  Examples are given in the file\n",
       "          'tests/usersplits.R' in the sources, and in the vignettes\n",
       "          'User Written Split Functions'.\n",
       "\n",
       "   model: if logical: keep a copy of the model frame in the result?  If\n",
       "          the input value for 'model' is a model frame (likely from an\n",
       "          earlier call to the 'rpart' function), then this frame is\n",
       "          used rather than constructing new data.\n",
       "\n",
       "       x: keep a copy of the 'x' matrix in the result.\n",
       "\n",
       "       y: keep a copy of the dependent variable in the result.  If\n",
       "          missing and 'model' is supplied this defaults to 'FALSE'.\n",
       "\n",
       "   parms: optional parameters for the splitting function.\n",
       "          Anova splitting has no parameters.\n",
       "          Poisson splitting has a single parameter, the coefficient of\n",
       "          variation of the prior distribution on the rates.  The\n",
       "          default value is 1.\n",
       "          Exponential splitting has the same parameter as Poisson.\n",
       "          For classification splitting, the list can contain any of:\n",
       "          the vector of prior probabilities (component 'prior'), the\n",
       "          loss matrix (component 'loss') or the splitting index\n",
       "          (component 'split').  The priors must be positive and sum to\n",
       "          1.  The loss matrix must have zeros on the diagonal and\n",
       "          positive off-diagonal elements.  The splitting index can be\n",
       "          'gini' or 'information'.  The default priors are proportional\n",
       "          to the data counts, the losses default to 1, and the split\n",
       "          defaults to 'gini'.\n",
       "\n",
       " control: a list of options that control details of the 'rpart'\n",
       "          algorithm.  See 'rpart.control'.\n",
       "\n",
       "    cost: a vector of non-negative costs, one for each variable in the\n",
       "          model. Defaults to one for all variables.  These are scalings\n",
       "          to be applied when considering splits, so the improvement on\n",
       "          splitting on a variable is divided by its cost in deciding\n",
       "          which split to choose.\n",
       "\n",
       "     ...: arguments to 'rpart.control' may also be specified in the\n",
       "          call to 'rpart'.  They are checked against the list of valid\n",
       "          arguments.\n",
       "\n",
       "_\bD_\be_\bt_\ba_\bi_\bl_\bs:\n",
       "\n",
       "     This differs from the 'tree' function in S mainly in its handling\n",
       "     of surrogate variables.  In most details it follows Breiman _et.\n",
       "     al_ (1984) quite closely.  R package 'tree' provides a\n",
       "     re-implementation of 'tree'.\n",
       "\n",
       "_\bV_\ba_\bl_\bu_\be:\n",
       "\n",
       "     An object of class 'rpart'.  See 'rpart.object'.\n",
       "\n",
       "_\bR_\be_\bf_\be_\br_\be_\bn_\bc_\be_\bs:\n",
       "\n",
       "     Breiman L., Friedman J. H., Olshen R. A., and Stone, C. J. (1984)\n",
       "     _Classification and Regression Trees._ Wadsworth.\n",
       "\n",
       "_\bS_\be_\be _\bA_\bl_\bs_\bo:\n",
       "\n",
       "     'rpart.control', 'rpart.object', 'summary.rpart', 'print.rpart'\n",
       "\n",
       "_\bE_\bx_\ba_\bm_\bp_\bl_\be_\bs:\n",
       "\n",
       "     fit <- rpart(Kyphosis ~ Age + Number + Start, data = kyphosis)\n",
       "     fit2 <- rpart(Kyphosis ~ Age + Number + Start, data = kyphosis,\n",
       "                   parms = list(prior = c(.65,.35), split = \"information\"))\n",
       "     fit3 <- rpart(Kyphosis ~ Age + Number + Start, data = kyphosis,\n",
       "                   control = rpart.control(cp = 0.05))\n",
       "     par(mfrow = c(1,2), xpd = NA) # otherwise on some devices the text is clipped\n",
       "     plot(fit)\n",
       "     text(fit, use.n = TRUE)\n",
       "     plot(fit2)\n",
       "     text(fit2, use.n = TRUE)\n",
       "     "
      ]
     },
     "metadata": {},
     "output_type": "display_data"
    }
   ],
   "source": [
    "library(rpart) \n",
    "help(rpart)\n",
    "help(rpart.control)"
   ]
  },
  {
   "cell_type": "code",
   "execution_count": null,
   "metadata": {},
   "outputs": [],
   "source": [
    "tree.reg=rpart(O3obs~.,data=datappr,control=rpart.control(cp=0.001))"
   ]
  },
  {
   "cell_type": "markdown",
   "metadata": {},
   "source": [
    "La commande `summary(tree.reg)` fournit un descriptif de l'arbre obtenu mais un graphe est  préférable."
   ]
  },
  {
   "cell_type": "code",
   "execution_count": null,
   "metadata": {
    "ExecuteTime": {
     "end_time": "2019-11-18T09:23:47.181644Z",
     "start_time": "2019-11-18T09:22:10.473Z"
    }
   },
   "outputs": [],
   "source": [
    "library(rpart.plot)\n",
    "options(repr.plot.width = 15, repr.plot.height = 10)\n",
    "rpart.plot(tree.reg)"
   ]
  },
  {
   "attachments": {
    "4dc9c0e6-2292-417e-8374-5b1a1359e47b.png": {
     "image/png": "[encoded data removed]"
    }
   },
   "cell_type": "markdown",
   "metadata": {},
   "source": [
    "![Rplot2.png](attachment:4dc9c0e6-2292-417e-8374-5b1a1359e47b.png)"
   ]
  },
  {
   "cell_type": "markdown",
   "metadata": {},
   "source": [
    "L'arbre est illisible et présente trop de feuilles pour une bonne prévision (sur-apprentissage), il est nécessaire d'en réduire le nombre par élagage. Les commandes suivantes calculent les prévisions obtenues par validation croisée 10-fold pour chaque arbre élagué suivant les valeurs successives du coefficient de complexité. La séquence de ces valeurs est implicitement celle fournit par `rpart`."
   ]
  },
  {
   "cell_type": "code",
   "execution_count": 62,
   "metadata": {
    "ExecuteTime": {
     "end_time": "2019-11-18T09:23:47.218915Z",
     "start_time": "2019-11-18T09:22:10.686Z"
    }
   },
   "outputs": [
    {
     "data": {
      "image/png": "[encoded data removed]",
      "text/plain": [
       "plot without title"
      ]
     },
     "metadata": {},
     "output_type": "display_data"
    },
    {
     "data": {
      "text/html": [
       "\n",
       "<table width=\"100%\" summary=\"page for xpred.rpart {rpart}\"><tr><td>xpred.rpart {rpart}</td><td style=\"text-align: right;\">R Documentation</td></tr></table>\n",
       "\n",
       "<h2>\n",
       "Return Cross-Validated Predictions \n",
       "</h2>\n",
       "\n",
       "<h3>Description</h3>\n",
       "\n",
       "<p>Gives the predicted values for an <code>rpart</code> fit, under\n",
       "cross validation, for a set of complexity parameter values.\n",
       "</p>\n",
       "\n",
       "\n",
       "<h3>Usage</h3>\n",
       "\n",
       "<pre>\n",
       "xpred.rpart(fit, xval = 10, cp, return.all = FALSE)\n",
       "</pre>\n",
       "\n",
       "\n",
       "<h3>Arguments</h3>\n",
       "\n",
       "<table summary=\"R argblock\">\n",
       "<tr valign=\"top\"><td><code>fit</code></td>\n",
       "<td>\n",
       "\n",
       "<p>a object of class <code>\"rpart\"</code>. \n",
       "</p>\n",
       "</td></tr>\n",
       "<tr valign=\"top\"><td><code>xval</code></td>\n",
       "<td>\n",
       "\n",
       "<p>number of cross-validation groups.  This may also be an explicit list of\n",
       "integers that define the cross-validation groups.\n",
       "</p>\n",
       "</td></tr>\n",
       "<tr valign=\"top\"><td><code>cp</code></td>\n",
       "<td>\n",
       "\n",
       "<p>the desired list of complexity values.  By default it is taken from the\n",
       "<code>cptable</code> component of the fit.\n",
       "</p>\n",
       "</td></tr>\n",
       "<tr valign=\"top\"><td><code>return.all</code></td>\n",
       "<td>\n",
       "\n",
       "<p>if FALSE return only the first element of the prediction</p>\n",
       "</td></tr>\n",
       "</table>\n",
       "\n",
       "\n",
       "<h3>Details</h3>\n",
       "\n",
       "<p>Complexity penalties are actually ranges, not values.  If the\n",
       "<code>cp</code> values found in the table were <i>.36</i>, <i>.28</i>,\n",
       "and <i>.13</i>, for instance, this means that the first row of the\n",
       "table holds for all complexity penalties in the range <i>[.36, 1]</i>,\n",
       "the second row for <code>cp</code> in the range <i>[.28, .36)</i> and\n",
       "the third row for <i>[.13,.28)</i>.  By default, the geometric mean\n",
       "of each interval is used for cross validation.\n",
       "</p>\n",
       "\n",
       "\n",
       "<h3>Value</h3>\n",
       "\n",
       "<p>A matrix with one row for each observation and one column for each complexity\n",
       "value.  If <code>return.all</code> is TRUE and the prediction for each node\n",
       "is a vector, then the result will be an array containing all of the\n",
       "predictions.  When the response is categorical, for instance, the\n",
       "result contains the predicted class followed by the class\n",
       "probabilities of the selected terminal node;\n",
       "<code>result[1,,]</code> will be the matrix of predicted classes,\n",
       "<code>result[2,,]</code> the matrix of class 1 probabilities, etc.\n",
       "</p>\n",
       "\n",
       "\n",
       "<h3>See Also</h3>\n",
       "\n",
       "<p><code>rpart</code> \n",
       "</p>\n",
       "\n",
       "\n",
       "<h3>Examples</h3>\n",
       "\n",
       "<pre>\n",
       "fit &lt;- rpart(Mileage ~ Weight, car.test.frame)\n",
       "xmat &lt;- xpred.rpart(fit)\n",
       "xerr &lt;- (xmat - car.test.frame$Mileage)^2\n",
       "apply(xerr, 2, sum)   # cross-validated error estimate\n",
       "\n",
       "# approx same result as rel. error from printcp(fit)\n",
       "apply(xerr, 2, sum)/var(car.test.frame$Mileage) \n",
       "printcp(fit)\n",
       "</pre>\n",
       "\n",
       "<hr /><div style=\"text-align: center;\">[Package <em>rpart</em> version 4.1-15 ]</div>"
      ],
      "text/latex": [
       "\\inputencoding{utf8}\n",
       "\\HeaderA{xpred.rpart}{Return Cross-Validated Predictions }{xpred.rpart}\n",
       "\\keyword{tree}{xpred.rpart}\n",
       "%\n",
       "\\begin{Description}\\relax\n",
       "Gives the predicted values for an \\code{rpart} fit, under\n",
       "cross validation, for a set of complexity parameter values.\n",
       "\\end{Description}\n",
       "%\n",
       "\\begin{Usage}\n",
       "\\begin{verbatim}\n",
       "xpred.rpart(fit, xval = 10, cp, return.all = FALSE)\n",
       "\\end{verbatim}\n",
       "\\end{Usage}\n",
       "%\n",
       "\\begin{Arguments}\n",
       "\\begin{ldescription}\n",
       "\\item[\\code{fit}] \n",
       "a object of class \\code{\"rpart\"}. \n",
       "\n",
       "\\item[\\code{xval}] \n",
       "number of cross-validation groups.  This may also be an explicit list of\n",
       "integers that define the cross-validation groups.\n",
       "\n",
       "\\item[\\code{cp}] \n",
       "the desired list of complexity values.  By default it is taken from the\n",
       "\\code{cptable} component of the fit.\n",
       "\n",
       "\\item[\\code{return.all}] \n",
       "if FALSE return only the first element of the prediction\n",
       "\\end{ldescription}\n",
       "\\end{Arguments}\n",
       "%\n",
       "\\begin{Details}\\relax\n",
       "Complexity penalties are actually ranges, not values.  If the\n",
       "\\code{cp} values found in the table were \\eqn{.36}{}, \\eqn{.28}{},\n",
       "and \\eqn{.13}{}, for instance, this means that the first row of the\n",
       "table holds for all complexity penalties in the range \\eqn{[.36, 1]}{},\n",
       "the second row for \\code{cp} in the range \\eqn{[.28, .36)}{} and\n",
       "the third row for \\eqn{[.13,.28)}{}.  By default, the geometric mean\n",
       "of each interval is used for cross validation.\n",
       "\\end{Details}\n",
       "%\n",
       "\\begin{Value}\n",
       "A matrix with one row for each observation and one column for each complexity\n",
       "value.  If \\code{return.all} is TRUE and the prediction for each node\n",
       "is a vector, then the result will be an array containing all of the\n",
       "predictions.  When the response is categorical, for instance, the\n",
       "result contains the predicted class followed by the class\n",
       "probabilities of the selected terminal node;\n",
       "\\code{result[1,{},]} will be the matrix of predicted classes,\n",
       "\\code{result[2,{},]} the matrix of class 1 probabilities, etc.\n",
       "\\end{Value}\n",
       "%\n",
       "\\begin{SeeAlso}\\relax\n",
       "\\code{\\LinkA{rpart}{rpart}} \n",
       "\\end{SeeAlso}\n",
       "%\n",
       "\\begin{Examples}\n",
       "\\begin{ExampleCode}\n",
       "fit <- rpart(Mileage ~ Weight, car.test.frame)\n",
       "xmat <- xpred.rpart(fit)\n",
       "xerr <- (xmat - car.test.frame$Mileage)^2\n",
       "apply(xerr, 2, sum)   # cross-validated error estimate\n",
       "\n",
       "# approx same result as rel. error from printcp(fit)\n",
       "apply(xerr, 2, sum)/var(car.test.frame$Mileage) \n",
       "printcp(fit)\n",
       "\\end{ExampleCode}\n",
       "\\end{Examples}"
      ],
      "text/plain": [
       "xpred.rpart               package:rpart                R Documentation\n",
       "\n",
       "_\bR_\be_\bt_\bu_\br_\bn _\bC_\br_\bo_\bs_\bs-_\bV_\ba_\bl_\bi_\bd_\ba_\bt_\be_\bd _\bP_\br_\be_\bd_\bi_\bc_\bt_\bi_\bo_\bn_\bs\n",
       "\n",
       "_\bD_\be_\bs_\bc_\br_\bi_\bp_\bt_\bi_\bo_\bn:\n",
       "\n",
       "     Gives the predicted values for an 'rpart' fit, under cross\n",
       "     validation, for a set of complexity parameter values.\n",
       "\n",
       "_\bU_\bs_\ba_\bg_\be:\n",
       "\n",
       "     xpred.rpart(fit, xval = 10, cp, return.all = FALSE)\n",
       "     \n",
       "_\bA_\br_\bg_\bu_\bm_\be_\bn_\bt_\bs:\n",
       "\n",
       "     fit: a object of class '\"rpart\"'.\n",
       "\n",
       "    xval: number of cross-validation groups.  This may also be an\n",
       "          explicit list of integers that define the cross-validation\n",
       "          groups.\n",
       "\n",
       "      cp: the desired list of complexity values.  By default it is\n",
       "          taken from the 'cptable' component of the fit.\n",
       "\n",
       "return.all: if FALSE return only the first element of the prediction\n",
       "\n",
       "_\bD_\be_\bt_\ba_\bi_\bl_\bs:\n",
       "\n",
       "     Complexity penalties are actually ranges, not values.  If the 'cp'\n",
       "     values found in the table were .36, .28, and .13, for instance,\n",
       "     this means that the first row of the table holds for all\n",
       "     complexity penalties in the range [.36, 1], the second row for\n",
       "     'cp' in the range [.28, .36) and the third row for [.13,.28).  By\n",
       "     default, the geometric mean of each interval is used for cross\n",
       "     validation.\n",
       "\n",
       "_\bV_\ba_\bl_\bu_\be:\n",
       "\n",
       "     A matrix with one row for each observation and one column for each\n",
       "     complexity value.  If 'return.all' is TRUE and the prediction for\n",
       "     each node is a vector, then the result will be an array containing\n",
       "     all of the predictions.  When the response is categorical, for\n",
       "     instance, the result contains the predicted class followed by the\n",
       "     class probabilities of the selected terminal node; 'result[1,,]'\n",
       "     will be the matrix of predicted classes, 'result[2,,]' the matrix\n",
       "     of class 1 probabilities, etc.\n",
       "\n",
       "_\bS_\be_\be _\bA_\bl_\bs_\bo:\n",
       "\n",
       "     'rpart'\n",
       "\n",
       "_\bE_\bx_\ba_\bm_\bp_\bl_\be_\bs:\n",
       "\n",
       "     fit <- rpart(Mileage ~ Weight, car.test.frame)\n",
       "     xmat <- xpred.rpart(fit)\n",
       "     xerr <- (xmat - car.test.frame$Mileage)^2\n",
       "     apply(xerr, 2, sum)   # cross-validated error estimate\n",
       "     \n",
       "     # approx same result as rel. error from printcp(fit)\n",
       "     apply(xerr, 2, sum)/var(car.test.frame$Mileage) \n",
       "     printcp(fit)\n",
       "     "
      ]
     },
     "metadata": {},
     "output_type": "display_data"
    }
   ],
   "source": [
    "help(xpred.rpart)\n",
    "xmat<-xpred.rpart(tree.reg,xval=10) \n",
    "# one row for each observation and one column for each complexity value\n",
    "\n",
    "# Cross-validation error par valeur de CP\n",
    "CVerr<-apply((xmat-datappr[,\"O3obs\"])^2,2,sum)\n",
    "\n",
    "plotcp(tree.reg)"
   ]
  },
  {
   "cell_type": "markdown",
   "metadata": {},
   "source": [
    "Cherchez la valeur de `cp` correspondant à la plus petite erreur puis utilisez la pour la construction del'arbre."
   ]
  },
  {
   "cell_type": "code",
   "execution_count": 15,
   "metadata": {
    "ExecuteTime": {
     "end_time": "2019-11-18T09:23:47.236505Z",
     "start_time": "2019-11-18T09:22:10.912Z"
    }
   },
   "outputs": [
    {
     "data": {
      "text/html": [
       "0.045961754"
      ],
      "text/latex": [
       "0.045961754"
      ],
      "text/markdown": [
       "0.045961754"
      ],
      "text/plain": [
       "[1] 0.04596175"
      ]
     },
     "metadata": {},
     "output_type": "display_data"
    },
    {
     "ename": "ERROR",
     "evalue": "Error in rpart.plot(tree.reg, type = 5, extra = 101): impossible de trouver la fonction \"rpart.plot\"\n",
     "output_type": "error",
     "traceback": [
      "Error in rpart.plot(tree.reg, type = 5, extra = 101): impossible de trouver la fonction \"rpart.plot\"\nTraceback:\n"
     ]
    }
   ],
   "source": [
    "as.numeric(attributes(which.min(CVerr))$names)\n",
    "tree.reg=rpart(O3obs~.,data=datappr,control=rpart.control(cp=as.numeric(attributes(which.min(CVerr))$names)))\n",
    "rpart.plot(tree.reg,type=5,extra=101)"
   ]
  },
  {
   "attachments": {
    "aec7c04a-de55-4d85-bc0c-cb4790aefd1d.png": {
     "image/png": "[encoded data removed]"
    }
   },
   "cell_type": "markdown",
   "metadata": {},
   "source": [
    "![Rplot4.png](attachment:aec7c04a-de55-4d85-bc0c-cb4790aefd1d.png)"
   ]
  },
  {
   "cell_type": "markdown",
   "metadata": {},
   "source": [
    "La librairie `partykit` propose une construction graphique de l'arbre:"
   ]
  },
  {
   "cell_type": "code",
   "execution_count": null,
   "metadata": {
    "ExecuteTime": {
     "end_time": "2019-11-18T09:23:47.731129Z",
     "start_time": "2019-11-18T09:22:11.150Z"
    }
   },
   "outputs": [],
   "source": [
    "library(partykit)\n",
    "plot(as.party(tree.reg), type=\"simple\")"
   ]
  },
  {
   "attachments": {
    "f48e9c0f-9f48-437e-80eb-2ba36194e507.png": {
     "image/png": "[encoded data removed]"
    }
   },
   "cell_type": "markdown",
   "metadata": {},
   "source": [
    "![Rplot5.png](attachment:f48e9c0f-9f48-437e-80eb-2ba36194e507.png)"
   ]
  },
  {
   "cell_type": "markdown",
   "metadata": {},
   "source": [
    "La fenêtre est trop petite pour représenter les distributions (histogramme) de la variable cible (concentration en ozone) dans chaque feuille. \n",
    "\n",
    "**Question** Quelle est la variable qui contribue le plus à l'interprétation ?<br>\n",
    "**Réponse** c'est la varable: e \"EMPE\"  En effet, c'est la variable qui est utilisée pour diviser l'ensemble des données au premier noeud de l'arbre.\n",
    "\n",
    "Graphe des résidus"
   ]
  },
  {
   "cell_type": "code",
   "execution_count": null,
   "metadata": {
    "ExecuteTime": {
     "end_time": "2019-11-18T09:23:47.831850Z",
     "start_time": "2019-11-18T09:22:11.369Z"
    }
   },
   "outputs": [],
   "source": [
    "fit.tree=predict(tree.reg)\n",
    "res.tree=fit.tree-datappr[,\"O3obs\"]\n",
    "gplot.res(fit.tree,res.tree,\"residus de tree.reg\")"
   ]
  },
  {
   "attachments": {
    "d0d81f19-bb30-40af-a14b-06ad757f9224.png": {
     "image/png": "[encoded data removed]"
    }
   },
   "cell_type": "markdown",
   "metadata": {},
   "source": [
    "![Rplot6.png](attachment:d0d81f19-bb30-40af-a14b-06ad757f9224.png)"
   ]
  },
  {
   "cell_type": "markdown",
   "metadata": {},
   "source": [
    "**Question** A quoi est due la structure particulière de ce graphe ?"
   ]
  },
  {
   "cell_type": "markdown",
   "metadata": {},
   "source": [
    "**Réponse:** <br>\n",
    "La présence de non-linéarités dans la relation entre les variables explicatives et la variable cible.\n",
    "On peut observer que les résidus sont plus élevés pour les valeurs élevées de la concentration d'ozone. Cela suggère que **la relation entre la concentration d'ozone et les variables explicatives est non linéaire.**"
   ]
  },
  {
   "cell_type": "markdown",
   "metadata": {},
   "source": [
    "Voici un exemple de code pour faire cet élagage avec la librairie `caret`"
   ]
  },
  {
   "cell_type": "code",
   "execution_count": null,
   "metadata": {},
   "outputs": [],
   "source": [
    "ctrl <- trainControl(method = \"cv\",number = 10)\n",
    "treecaret <- train(O3obs~.,data=datappr,method = \"rpart\",trControl = ctrl,tuneLength =20)\n",
    "print(paste(\"Valeur de cp retenue = \",treecaret$bestTune,sep=\"\"))\n",
    "rpart.plot(treecaret$finalModel)"
   ]
  },
  {
   "attachments": {
    "3b475020-0239-4cae-92ce-efeb405fd692.png": {
     "image/png": "[encoded data removed]"
    }
   },
   "cell_type": "markdown",
   "metadata": {},
   "source": [
    "[1] \"Valeur de cp retenue = 0.00615856567394948\"\n",
    "![Rplot7.png](attachment:3b475020-0239-4cae-92ce-efeb405fd692.png)"
   ]
  },
  {
   "cell_type": "markdown",
   "metadata": {},
   "source": [
    "## <FONT COLOR=\"green\">Estimation et élagage d'un arbre de discrimination</font>"
   ]
  },
  {
   "cell_type": "markdown",
   "metadata": {},
   "source": [
    "Dans le cas d'une discrimination, le critère par défaut est l'indice de concentration de Gini ; il est possible de préciser un autre critère (split=\"information\") ainsi que des poids sur les observations, une matrice de coûts de mauvais classement ainsi que des probabilités a priori (`?rpart` pour plus de détails).\n",
    "\n",
    "**Question** Quel autre critère d'hétérogénéité est utilisé ?"
   ]
  },
  {
   "cell_type": "markdown",
   "metadata": {},
   "source": [
    "**Réponse:**\n",
    "Le paramètre split=\"information\" a été spécifié. Cela signifie que le critère d'hétérogénéité utilisé est **l'entropie**. <br>\n",
    "L'entropie est une mesure de l'incertitude sur la classe d'appartenance d'une observation. Une valeur élevée de l'entropie indique que l'incertitude est élevée, tandis qu'une valeur faible indique que l'incertitude est faible. <br>\n",
    "H(S) = -\\sum_{c \\in C} p(c|S) \\log_2 p(c|S) <br>\r\n",
    "où  <br>\r\n",
    "\r\n",
    "S est le sous-ensemble de donn <br>ées\r\n",
    "C est l'ensemble des classes possi <br>bles\r\n",
    "p(c|S) est la probabilité que l'observation dans le sous-ensemble S appartienne à la classe c"
   ]
  },
  {
   "cell_type": "code",
   "execution_count": null,
   "metadata": {
    "ExecuteTime": {
     "end_time": "2019-11-18T09:23:47.936071Z",
     "start_time": "2019-11-18T09:22:12.009Z"
    }
   },
   "outputs": [],
   "source": [
    "tree.dis=rpart(DepSeuil~.,data=datappq,parms=list(split=\"information\"),cp=0.001)\n",
    "rpart.plot(tree.dis) "
   ]
  },
  {
   "attachments": {
    "b8988d7f-ad5e-4f8e-a297-815fc50e74d9.png": {
     "image/png": "[encoded data removed]"
    }
   },
   "cell_type": "markdown",
   "metadata": {},
   "source": [
    "![Rplot8.png](attachment:b8988d7f-ad5e-4f8e-a297-815fc50e74d9.png)"
   ]
  },
  {
   "cell_type": "markdown",
   "metadata": {},
   "source": [
    "La même procédure d'élagage par validation croisée est mise en place mais avec une expression différente de l'erreur de prévision: taux de mal classés plutôt qu'erreur quadratique."
   ]
  },
  {
   "cell_type": "code",
   "execution_count": null,
   "metadata": {
    "ExecuteTime": {
     "end_time": "2019-11-18T09:23:47.989031Z",
     "start_time": "2019-11-18T09:22:12.228Z"
    }
   },
   "outputs": [],
   "source": [
    "xmat = xpred.rpart(tree.dis)\n",
    "# Comparaison des valeurs prédite et observée\n",
    "xerr=datappq$DepSeuil!= (xmat>1.5) \n",
    "# Calcul  des estimations des taux d'erreur\n",
    "CVerr=apply(xerr, 2, sum)/nrow(xerr)\n",
    "CVerr"
   ]
  },
  {
   "cell_type": "raw",
   "metadata": {},
   "source": [
    "> CVerr\n",
    "0.525925926 0.045961754 0.030089031 0.018144368 0.012394963 0.009799079 0.008281733 0.002721655 \n",
    "  0.1622596   0.1382212   0.1406250   0.1466346   0.1562500   0.1538462   0.1538462   0.1682692"
   ]
  },
  {
   "cell_type": "code",
   "execution_count": null,
   "metadata": {
    "ExecuteTime": {
     "end_time": "2019-11-18T09:23:48.218396Z",
     "start_time": "2019-11-18T09:22:12.241Z"
    }
   },
   "outputs": [],
   "source": [
    "tree.dis=rpart(DepSeuil~.,data=datappq,parms=list(split=\"information\"),cp=as.numeric(attributes(which.min(CVerr))$names))\n",
    "rpart.plot(tree.dis,type=4)"
   ]
  },
  {
   "attachments": {
    "3f994f84-956d-46ab-a412-adbcd696d251.png": {
     "image/png": "[encoded data removed]"
    }
   },
   "cell_type": "markdown",
   "metadata": {},
   "source": [
    "![Rplot9.png](attachment:3f994f84-956d-46ab-a412-adbcd696d251.png)"
   ]
  },
  {
   "cell_type": "markdown",
   "metadata": {},
   "source": [
    "Avec la librairie `caret`:"
   ]
  },
  {
   "cell_type": "code",
   "execution_count": null,
   "metadata": {},
   "outputs": [],
   "source": [
    "ctrl <- trainControl(method = \"cv\",number = 10)\n",
    "treecaret <- train(DepSeuil~.,data=datappq,method = \"rpart\",trControl = ctrl,tuneLength =20,metric=\"Accuracy\")\n",
    "print(paste(\"Valeur de cp retenue = \",treecaret$bestTune,sep=\"\"))\n",
    "rpart.plot(treecaret$finalModel)"
   ]
  },
  {
   "attachments": {
    "9cede027-6536-4d8c-a035-6b85c5fe09ee.png": {
     "image/png": "[encoded data removed]"
    }
   },
   "cell_type": "markdown",
   "metadata": {},
   "source": [
    "1] \"Valeur de cp retenue = 0.0064327485380117\"\n",
    "![Rplot10.png](attachment:9cede027-6536-4d8c-a035-6b85c5fe09ee.png)"
   ]
  },
  {
   "cell_type": "markdown",
   "metadata": {},
   "source": [
    "## <FONT COLOR=\"green\">Prévision de l'échantillon test</font>"
   ]
  },
  {
   "cell_type": "markdown",
   "metadata": {},
   "source": [
    "Différentes prévisions sont considérées assorties des erreurs estimées sur l'échantillon test. Prévision quantitative de la concentration, prévision de dépassement à partir de la prévision quantitative et directement la prévision de dépassement à partir de l'arbre de décision."
   ]
  },
  {
   "cell_type": "markdown",
   "metadata": {},
   "source": [
    "#### Erreur de régression"
   ]
  },
  {
   "cell_type": "code",
   "execution_count": 2,
   "metadata": {
    "ExecuteTime": {
     "end_time": "2019-11-18T09:23:48.248763Z",
     "start_time": "2019-11-18T09:22:12.672Z"
    }
   },
   "outputs": [
    {
     "data": {
      "text/html": [
       "896.680140346221"
      ],
      "text/latex": [
       "896.680140346221"
      ],
      "text/markdown": [
       "896.680140346221"
      ],
      "text/plain": [
       "[1] 896.6801"
      ]
     },
     "metadata": {},
     "output_type": "display_data"
    }
   ],
   "source": [
    "# Calcul des prévisions\n",
    "pred.treer=predict(tree.reg,newdata=datestr)\n",
    "# Erreur quadratique moyenne de prévision en régression\n",
    "sum((pred.treer-datestr[,\"O3obs\"])^2)/nrow(datestr)"
   ]
  },
  {
   "cell_type": "markdown",
   "metadata": {},
   "source": [
    "#### Erreur de classification (matrice de confusion)"
   ]
  },
  {
   "cell_type": "code",
   "execution_count": null,
   "metadata": {
    "ExecuteTime": {
     "end_time": "2019-11-18T09:23:48.267073Z",
     "start_time": "2019-11-18T09:22:12.681Z"
    }
   },
   "outputs": [],
   "source": [
    "# Matrice de confusion pour la prévision du \n",
    "# dépassement de seuil (régression)\n",
    "  #table(pred.treer>150,datestr[,\"O3obs\"]>150)\n",
    "confusionMatrix(as.factor(pred.treer>150),as.factor(datestr[,\"O3obs\"]>150))$table"
   ]
  },
  {
   "cell_type": "raw",
   "metadata": {},
   "source": [
    " Reference\n",
    "Prediction FALSE TRUE\n",
    "     FALSE   166   38\n",
    "     TRUE      0    5"
   ]
  },
  {
   "cell_type": "code",
   "execution_count": null,
   "metadata": {
    "ExecuteTime": {
     "end_time": "2019-11-18T09:23:48.285260Z",
     "start_time": "2019-11-18T09:22:12.688Z"
    }
   },
   "outputs": [],
   "source": [
    "# Même chose pour l'arbre de discrimination\n",
    "pred.treeq=predict(tree.dis,newdata=datestq,type=\"class\")\n",
    "  #table(pred.treeq,datestq[,\"DepSeuil\"])\n",
    "confusionMatrix(pred.treeq,datestq[,\"DepSeuil\"])$table"
   ]
  },
  {
   "cell_type": "raw",
   "metadata": {},
   "source": [
    "Reference\n",
    "Prediction FALSE TRUE\n",
    "     FALSE   165   28\n",
    "     TRUE      1   15"
   ]
  },
  {
   "cell_type": "markdown",
   "metadata": {},
   "source": [
    "**Question** Quelle stratégie semble meilleure à ce niveau ?"
   ]
  },
  {
   "cell_type": "markdown",
   "metadata": {},
   "source": [
    "**Réponses:** <br>\n",
    "D'après les résultats ontenues, **la stratégie de prévision directe du dépassement de seuil semble meilleure** que la stratégie de prévision quantitative suivie d'une classification. <br>\n",
    "En effet, la stratégie de prévision directe permet d'obtenir un taux d'erreur de classification de 1,2%, contre 2,8% pour la stratégie de prévision quantitative."
   ]
  },
  {
   "cell_type": "markdown",
   "metadata": {},
   "source": [
    "#### Courbes ROC"
   ]
  },
  {
   "cell_type": "code",
   "execution_count": null,
   "metadata": {},
   "outputs": [],
   "source": [
    "ROCregtree=pred.treer/300\n",
    "predregtree=prediction(ROCregtree,datestq$DepSeuil)\n",
    "perfregtree=performance(predregtree,\"tpr\",\"fpr\")\n",
    "ROCdistree=predict(tree.dis,newdata=datestq,type=\"prob\")[,2]\n",
    "preddistree=prediction(ROCdistree,datestq$DepSeuil)\n",
    "perfdistree=performance(preddistree,\"tpr\",\"fpr\")\n",
    "# tracer les courbes ROC en les superposant \n",
    "# pour mieux comparer\n",
    "\n",
    "options(repr.plot.width = 8, repr.plot.height = 6)\n",
    "plot(perflogit,col=\"blue\")\n",
    "plot(perfregtree,col=\"orange\",lty=2,add=TRUE) \n",
    "plot(perfdistree,col=\"green\",add=TRUE)  \n",
    "\n",
    "legend(\"right\", legend=c(\"Logit\", \"TreeReg\", \"TreeDis\"),\n",
    "       col=c(\"blue\",\"orange\",\"green\"), lty=c(1,2,1), text.font=1,    cex=0.8)"
   ]
  },
  {
   "attachments": {
    "9dbfd8e9-e3d4-4374-8974-99f8b08db636.png": {
     "image/png": "[encoded data removed]"
    }
   },
   "cell_type": "markdown",
   "metadata": {},
   "source": [
    "![Rplot11.png](attachment:9dbfd8e9-e3d4-4374-8974-99f8b08db636.png)"
   ]
  },
  {
   "cell_type": "markdown",
   "metadata": {},
   "source": [
    "**Question** Comparez les qualités de prévision. Une meilleure méthode se dégage-t-elle ?"
   ]
  },
  {
   "cell_type": "markdown",
   "metadata": {},
   "source": [
    "**Réponse:**<br>\n",
    "Les courbes ROC des trois méthodes de prévision se superposent de manière assez étroite. Cela suggère que les trois méthodes ont des performances similaires. <br>\n",
    "Cependant, on peut observer que la courbe ROC de l'arbre de discrimination (en vert) est légèrement plus proche du coin supérieur gauche du graphique que les autres courbes. Cela signifie que **l'arbre de discrimination est légèrement plus performant que les autres méthodes pour identifier les observations positives.**"
   ]
  },
  {
   "cell_type": "markdown",
   "metadata": {},
   "source": [
    "# <FONT COLOR=\"Red\">Partie 5: Réseau de neurones </font> "
   ]
  },
  {
   "cell_type": "markdown",
   "metadata": {},
   "source": [
    "## <FONT COLOR=\"green\">Introduction</font>"
   ]
  },
  {
   "cell_type": "markdown",
   "metadata": {},
   "source": [
    "Il s'agit d'estimer un modèle de type *perceptron* avec en entrée les variables qualitatives ou quantitatives et en sortie la variable à prévoir. Des fonctions R pour l'apprentissage d'un perceptron élémentaire ont été réalisées par différents auteurs et sont accessibles sur le réseau. La librairie `nnet` de (Ripley, 1999), est limitée au perceptron à une couche. Ce n'est pas de l'*apprentissage profond* ! mais suffisant dans bien des cas. Une librairie R associée au logiciel éponyme H2O propose des réseaux à plusieurs couches et \"convolutionnels\".\n",
    "\n",
    "Comme pour les arbres, la variable à expliquer est soit quantitative soit qualitative ; la fonction de transfert du neurone de sortie d'un réseau doit être adaptée en conséquence. \n",
    "\n",
    "**Question** Quelle fonction de transfert est utilisée pour le dernier neurone en régression ? en classification  binaire? en classification multiclasse ? \n",
    "\n",
    "**Question** Quel est le choix par défaut pour les neurones de la couche cachée?\n",
    "\n",
    "Différentes stratégies sont proposées pour éviter le sur-apprentissage. La première consiste à optimiser le nombre de neurones sur la couche cachée. Très approximativement il est d'usage de considérer, qu'en moyenne, il faut une taille d'échantillon d'apprentissage 10 fois supérieure au nombre de poids c'est-à-dire au nombre de paramètres à estimer. On remarque qu'ici la taille de l'échantillon d'apprentissage (832) est modeste pour une application raisonnable du perceptron. Seuls des nombres restreints de neurones peuvent être considérés et sur une seule couche cachée. \n",
    "\n",
    "**Question** Quel est le paramètre `decay` de la fonction `nnet`?\n",
    "\n",
    "**Question** Indiquez une autre façon d'éviter le sur-apprentissage."
   ]
  },
  {
   "cell_type": "markdown",
   "metadata": {},
   "source": [
    "**Réponses:** <br>\n",
    "**En régression,** la fonction de transfert du dernier neurone est **une fonction linéaire.** En effet, la régression consiste à prédire une valeur quantitative. La fonction linéaire est la fonction la plus simple qui permet de faire cela. <br>\n",
    "**En classification binaire**, la fonction de transfert du dernier neurone est **une fonction sigmoïde**. La fonction sigmoïde est une fonction non linéaire qui permet de transformer une valeur continue en un nombre compris entre 0 et 1. Cette valeur peut être interprétée comme la probabilité que l'observation appartienne à la classe positive. <br>\n",
    "**En classification multiclasse**, la fonction de transfert du dernier neurone est **une fonction softmax**. La fonction softmax est une fonction non linéaire qui permet de transformer une valeur continue en un vecteur de probabilités. Ces probabilités représentent la probabilité que l'observation appartienne à chacune des classes. <br>\n",
    "\n",
    "2- Le choix par défaut pour le nombre de neurones dans la couche cachée d'un réseau de neurones **est souvent de 10**. Cependant, ce choix peut être modifié en fonction de la taille de l'ensemble de données et de la complexité du problème à résoudre.<br>\n",
    "\n",
    "3-Le paramètre decay de la fonction nnet **est un paramètre de régularisation** qui contrôle la décroissance des poids du réseau. La décroissance des poids est une technique pour prévenir le surapprentissage des réseaux de neurones. Elle fonctionne en pénalisant les poids élevés du réseau. Cela peut aider à empêcher le réseau d'apprendre trop de détails à partir des données d'entraînement et de généraliser mieux aux nouvelles données. <br>\n",
    "\n",
    "4- Utilisation d'une validation croisée,Utilisation d'un ensemble de données de test,Utilisation de techniques de régularisation,Utilisation d'un réseau de neurones moins complexe"
   ]
  },
  {
   "cell_type": "markdown",
   "metadata": {},
   "source": [
    "## <FONT COLOR=\"green\">Cas de la régression</font>"
   ]
  },
  {
   "cell_type": "code",
   "execution_count": 6,
   "metadata": {
    "ExecuteTime": {
     "end_time": "2019-11-18T09:23:48.781644Z",
     "start_time": "2019-11-18T09:22:14.471Z"
    }
   },
   "outputs": [
    {
     "name": "stdout",
     "output_type": "stream",
     "text": [
      "# weights:  71\n",
      "initial  value 12322193.942944 \n",
      "iter  10 value 1361635.203097\n",
      "iter  20 value 1333663.343407\n",
      "iter  30 value 1227501.503326\n",
      "iter  40 value 1042036.475158\n",
      "iter  50 value 990885.445621\n",
      "iter  60 value 849069.493017\n",
      "iter  70 value 810785.952578\n",
      "iter  80 value 678318.728371\n",
      "iter  90 value 661606.755428\n",
      "iter 100 value 650316.594448\n",
      "iter 110 value 628598.719360\n",
      "iter 120 value 603959.909270\n",
      "iter 130 value 595461.892126\n",
      "iter 140 value 581952.101877\n",
      "iter 150 value 573734.872018\n",
      "iter 160 value 555211.237152\n",
      "iter 170 value 531693.070688\n",
      "iter 180 value 520950.080899\n",
      "iter 190 value 515291.795338\n",
      "iter 200 value 509600.541880\n",
      "iter 210 value 506278.098424\n",
      "iter 220 value 502947.267544\n",
      "iter 230 value 501986.756215\n",
      "iter 240 value 501939.636851\n",
      "final  value 501928.980239 \n",
      "converged\n"
     ]
    },
    {
     "data": {
      "text/plain": [
       "a 12-5-1 network with 71 weights\n",
       "options were - linear output units  decay=1\n",
       "  b->h1  i1->h1  i2->h1  i3->h1  i4->h1  i5->h1  i6->h1  i7->h1  i8->h1  i9->h1 \n",
       "   2.80    0.18    0.33    0.70   -2.88    1.54    3.83    1.84    0.32  -18.89 \n",
       "i10->h1 i11->h1 i12->h1 \n",
       "  -2.22  -16.89   16.19 \n",
       "  b->h2  i1->h2  i2->h2  i3->h2  i4->h2  i5->h2  i6->h2  i7->h2  i8->h2  i9->h2 \n",
       "  -0.22   -0.94    0.07    0.15   -6.33   12.04   -2.31   -3.48   -0.11    3.39 \n",
       "i10->h2 i11->h2 i12->h2 \n",
       " -38.42   -5.43    1.10 \n",
       "  b->h3  i1->h3  i2->h3  i3->h3  i4->h3  i5->h3  i6->h3  i7->h3  i8->h3  i9->h3 \n",
       " -28.23   -6.34   -0.02    0.64   -4.39   -6.94   13.86   -6.43   -0.11    4.78 \n",
       "i10->h3 i11->h3 i12->h3 \n",
       " -31.34   14.19   -5.84 \n",
       "  b->h4  i1->h4  i2->h4  i3->h4  i4->h4  i5->h4  i6->h4  i7->h4  i8->h4  i9->h4 \n",
       " -10.09    0.86    0.01    0.36    1.99    1.86    2.00    0.69   -0.21   -0.74 \n",
       "i10->h4 i11->h4 i12->h4 \n",
       "  29.12   -2.51    3.06 \n",
       "  b->h5  i1->h5  i2->h5  i3->h5  i4->h5  i5->h5  i6->h5  i7->h5  i8->h5  i9->h5 \n",
       "  14.75   -1.60    0.11   -0.17   -9.10  -13.50   -1.14   -6.13    0.11    1.90 \n",
       "i10->h5 i11->h5 i12->h5 \n",
       " -64.88   -3.39    2.11 \n",
       "  b->o  h1->o  h2->o  h3->o  h4->o  h5->o \n",
       "  2.34  23.14  32.07  23.11  93.94  48.94 "
      ]
     },
     "metadata": {},
     "output_type": "display_data"
    }
   ],
   "source": [
    "library(MASS)\n",
    "library(nnet)\n",
    "# apprentissage\n",
    "# attention au paramètre linout dans le cas de la régression\n",
    "nnet.reg=nnet(O3obs~.,data=datappr,size=5,decay=1,linout=TRUE,maxit=500) \n",
    "summary(nnet.reg)"
   ]
  },
  {
   "cell_type": "markdown",
   "metadata": {},
   "source": [
    "La commande donne la \"trace\" de l'exécution avec le comportement de la convergence mais le détail des poids de chaque entrée de chaque neurone ne constitue pas un résultats très explicite ! \n",
    "\n",
    "**Question** Contrôlez le nombre de poids estimés. <br>\n",
    "**Réponse:** <br>\n",
    "Le paramètre size est défini à 5. Cela signifie que le réseau a 5 neurones dans la couche cachée. **Le nombre total de poids estimés est donc de 5 * 12 = 60**, où 12 est le nombre de variables explicatives. <br>\n",
    "nous pouvons modifier la valeur du paramètre size. Par exemple, si nous définissons size à 10, le nombre total de poids estimés sera de 10 * 12 = 120.\n",
    "\n",
    "L'optimisation des paramètres nécessite encore le passage par la validation croisée. Il n'y a pas de fonction dans la librairie `nnet` permettant de le faire mais la fonction ` tune.nnet` de la librairie `e1071` est adaptée à cette démarche."
   ]
  },
  {
   "cell_type": "code",
   "execution_count": null,
   "metadata": {
    "ExecuteTime": {
     "end_time": "2019-11-18T09:25:00.187792Z",
     "start_time": "2019-11-18T09:22:14.679Z"
    },
    "scrolled": true
   },
   "outputs": [],
   "source": [
    "library(e1071)\n",
    "plot(tune.nnet(O3obs~.,data=datappr,size=c(2,3,4),decay=c(1,2,3),maxit=200,linout=TRUE))\n",
    "plot(tune.nnet(O3obs~.,data=datappr,size=4:5,decay=1:10))"
   ]
  },
  {
   "attachments": {
    "74144ac8-2f99-4170-97e7-e92a25001b0b.png": {
     "image/png": "[encoded data removed]"
    },
    "c81cd7da-7197-490f-8688-ea33ff91ca56.png": {
     "image/png": "[encoded data removed]"
    }
   },
   "cell_type": "markdown",
   "metadata": {},
   "source": [
    "![Rplot12.png](attachment:74144ac8-2f99-4170-97e7-e92a25001b0b.png) \n",
    "![Rplot13.png](attachment:c81cd7da-7197-490f-8688-ea33ff91ca56.png)"
   ]
  },
  {
   "cell_type": "markdown",
   "metadata": {},
   "source": [
    "Faire éventuellement varier la grille des paramètres (zoom), notez la taille et le `decay` optimaux. Il faudrait aussi  faire varier le nombre total d'itérations. Cela risque de prendre un peu de temps ! Notez également que chaque exécution donne des résultats différents... il n'est donc pas très utile d'y passer beaucoup de temps !\n",
    "\n",
    "**Question** Ré-estimez le modèle supposé optimal avant de tracer le graphe des résidus."
   ]
  },
  {
   "cell_type": "markdown",
   "metadata": {},
   "source": [
    "**Réponse:**<br>\n",
    "les paramètres optimaux pour le réseau de neurones sont **size=5 et decay=0.001**"
   ]
  },
  {
   "cell_type": "code",
   "execution_count": null,
   "metadata": {},
   "outputs": [],
   "source": [
    "# grille de paramètres\n",
    "size = 2:10\n",
    "decay = 0.001:0.1\n",
    "\n",
    "# validation croisée\n",
    "model.cv = tune.nnet(O3obs~.,data=datappr,size=size,decay=decay,maxit=500,linout=TRUE,trace=FALSE)\n",
    "\n",
    "# résultats\n",
    "summary(model.cv)"
   ]
  },
  {
   "cell_type": "raw",
   "metadata": {},
   "source": [
    "Call:\n",
    "tune.nnet(formula = O3obs ~ ., data = datappr, size = size, decay = decay, \n",
    "    maxit = 500, linout = TRUE, trace = FALSE)\n",
    "\n",
    "Best tuning parameter:\n",
    " size decay\n",
    "   5  0.001\n",
    "RMSE:\n",
    " Min. 1st Qu. Median Mean 3rd Qu. Max.\n",
    "0.051 0.056 0.058 0.058 0.061 0.068"
   ]
  },
  {
   "cell_type": "code",
   "execution_count": null,
   "metadata": {
    "ExecuteTime": {
     "end_time": "2019-11-18T09:25:00.436424Z",
     "start_time": "2019-11-18T09:22:14.895Z"
    }
   },
   "outputs": [],
   "source": [
    "nnet.reg=nnet(O3obs~.,data=datappr,size=3,decay=2,linout=TRUE,maxit=200)\n",
    "# calcul et graphe des résidus\n",
    "fit.nnetr=predict(nnet.reg,data=datappr)\n",
    "res.nnetr=fit.nnetr-datappr[,\"O3obs\"]\n",
    "gplot.res(fit.nnetr,res.nnetr,titre=\"\")"
   ]
  },
  {
   "cell_type": "raw",
   "metadata": {},
   "source": [
    "# weights:  43\n",
    "initial  value 12399609.160150 \n",
    "iter  10 value 1189998.020439\n",
    "iter  20 value 1070574.017214\n",
    "iter  30 value 932506.778446\n",
    "iter  40 value 856285.697010\n",
    "iter  50 value 745192.078620\n",
    "iter  60 value 692568.201300\n",
    "iter  70 value 687401.933227\n",
    "iter  80 value 684115.407347\n",
    "iter  90 value 675586.154211\n",
    "iter 100 value 667337.609983\n",
    "iter 110 value 651168.132244\n",
    "iter 120 value 608685.416757\n",
    "iter 130 value 595070.266054\n",
    "iter 140 value 592755.930860\n",
    "iter 150 value 588791.275104\n",
    "iter 160 value 586704.174941\n",
    "iter 170 value 586320.110805\n",
    "iter 180 value 585118.859311\n",
    "iter 190 value 583935.280709\n",
    "iter 200 value 579735.179277\n",
    "final  value 579735.179277 \n",
    "stopped after 200 iterations"
   ]
  },
  {
   "attachments": {
    "fd847241-90e3-4250-8142-ecd3652ef052.png": {
     "image/png": "[encoded data removed]"
    }
   },
   "cell_type": "markdown",
   "metadata": {},
   "source": [
    "![Rplot14.png](attachment:fd847241-90e3-4250-8142-ecd3652ef052.png)"
   ]
  },
  {
   "cell_type": "markdown",
   "metadata": {},
   "source": [
    "## <FONT COLOR=\"green\">Cas de la discrimination</font>"
   ]
  },
  {
   "cell_type": "code",
   "execution_count": null,
   "metadata": {
    "ExecuteTime": {
     "end_time": "2019-11-18T09:25:00.463554Z",
     "start_time": "2019-11-18T09:22:15.102Z"
    }
   },
   "outputs": [],
   "source": [
    "# apprentissage\n",
    "nnet.dis=nnet(DepSeuil~.,data=datappq,size=5,decay=0) \n",
    "summary(nnet.reg)"
   ]
  },
  {
   "cell_type": "raw",
   "metadata": {},
   "source": [
    "# weights:  71\n",
    "initial  value 443.044675 \n",
    "final  value 368.907064 \n",
    "converged\n",
    "> summary(nnet.reg)\n",
    "a 12-3-1 network with 43 weights\n",
    "options were - linear output units  decay=2\n",
    "  b->h1  i1->h1  i2->h1  i3->h1  i4->h1  i5->h1  i6->h1  i7->h1  i8->h1  i9->h1 i10->h1 i11->h1 \n",
    "   4.24    2.84   -0.45    4.30   -0.11    8.92   -8.28    0.01   -1.39    2.45    1.26    5.93 \n",
    "i12->h1 \n",
    "   1.82 \n",
    "  b->h2  i1->h2  i2->h2  i3->h2  i4->h2  i5->h2  i6->h2  i7->h2  i8->h2  i9->h2 i10->h2 i11->h2 \n",
    "   2.73   -0.01    0.05    0.05   -1.22   -0.80   10.14   -0.65   -0.10    0.07  -32.81   -2.32 \n",
    "i12->h2 \n",
    "   2.22 \n",
    "  b->h3  i1->h3  i2->h3  i3->h3  i4->h3  i5->h3  i6->h3  i7->h3  i8->h3  i9->h3 i10->h3 i11->h3 \n",
    "  -8.90    0.09    0.01    0.27    0.58    0.70    1.24    0.02   -0.13    0.17   17.24   -1.12 \n",
    "i12->h3 \n",
    "   1.36 \n",
    "  b->o  h1->o  h2->o  h3->o \n",
    " 52.77  -6.98  53.46 116.37 "
   ]
  },
  {
   "cell_type": "markdown",
   "metadata": {},
   "source": [
    "La validation croisée est toujours nécessaire afin de tenter d'optimiser les choix en présence : nombre de neurones, `decay` et éventuellement le nombre maximal d'itérations. \n",
    "\n",
    "L'initialisation de l'apprentissage d'un réseau de neurone comme celle de l'estimation de l'erreur par validation croisée sont aléatoires. Chaque exécution donne donc des résultats différents. À ce niveau, il serait intéressant de construire un plan d'expérience à deux facteurs (ici, les paramètres de taille et `decay`) de chacun trois niveaux. Plusieurs réalisations pour chaque combinaison des niveaux suivies d'un test classique d'anova permettraient de se faire une idée plus juste de l'influence de ces facteurs sur l'erreur. \n",
    "\n",
    "**Question** Notez la taille et le `decay` optimaux et ré-estimez le modèle pour ces valeurs."
   ]
  },
  {
   "cell_type": "markdown",
   "metadata": {},
   "source": [
    "**Réponse:**<br>\n",
    "les paramètres optimaux pour le réseau de neurones sont **size=10 et decay=0.01**"
   ]
  },
  {
   "cell_type": "code",
   "execution_count": null,
   "metadata": {},
   "outputs": [],
   "source": [
    "# paramètres optimaux\n",
    "size = 10\n",
    "decay = 0.01\n",
    "\n",
    "# réestimation du modèle\n",
    "nnet.dis = nnet(DepSeuil~.,data=datappq,size=size,decay=decay,linout=TRUE,maxit=500)"
   ]
  },
  {
   "cell_type": "raw",
   "metadata": {},
   "source": [
    "# weights:  121\n",
    "initial  value 443.044675 \n",
    "final  value 368.907064 \n",
    "converged\n",
    "> summary(nnet.dis)\n",
    "a 12-10-1 network with 111 weights\n",
    "options were - linear output units  decay=0.01\n",
    "  b->h1  i1->h1  i2->h1  i3->h1  i4->h1  i5->h1  i6->h1  i7->h1  i8->h1  i9->h1 i10->h1 i11->h1 \n",
    "   4.24    2.84   -0.45    4.30   -0.11    8.92   -8.28    0.01   -1.39    2.45    1.26    5.93 \n",
    "i12->h1 \n",
    "   1.82 \n",
    "  b->h2  i1->h2  i2->h2  i3->h2  i4->h2  i5->h2  i6->h2  i7->h2  i8->h2  i9->h2 i10->h2 i11->h2 \n",
    "   2.73   -0.01    0.05    0.05   -1.22   -0.80   10.14   -0.65   -0.10    0.07  -32.81   -2.32 \n",
    "i12->h2 \n",
    "   2.22 \n",
    "  b->h3  i1->h3  i2->h3  i3->h3  i4->h3  i5->h3  i6->h3  i7->h3  i8->h3  i9->h3 i10->h3 i11->h3 \n",
    "  -8.90    0.09    0.01    0.27    0.58    0.70    1.24    0.02   -0.13    0.17   17.24   -1.12 \n",
    "i12->h3 \n",
    "   1.36 \n",
    "  b->o  h1->o  h2->o  h3->o \n",
    " 52.77  -6.98  53.46 116.37 "
   ]
  },
  {
   "cell_type": "code",
   "execution_count": null,
   "metadata": {
    "ExecuteTime": {
     "end_time": "2019-11-18T09:25:25.823681Z",
     "start_time": "2019-11-18T09:22:15.309Z"
    }
   },
   "outputs": [],
   "source": [
    "plot(tune.nnet(DepSeuil~.,data=datappq,size=c(3,4,5),decay=c(0,1,2),maxit=200,linout=FALSE))"
   ]
  },
  {
   "attachments": {
    "be777093-9910-473d-98a7-54783629960d.png": {
     "image/png": "[encoded data removed]"
    }
   },
   "cell_type": "markdown",
   "metadata": {},
   "source": [
    "![Rplot15.png](attachment:be777093-9910-473d-98a7-54783629960d.png)"
   ]
  },
  {
   "cell_type": "code",
   "execution_count": null,
   "metadata": {
    "ExecuteTime": {
     "end_time": "2019-11-18T09:25:25.936811Z",
     "start_time": "2019-11-18T09:22:15.315Z"
    }
   },
   "outputs": [],
   "source": [
    "nnet.dis=nnet(DepSeuil~.,data=datappq,size=5,decay=1) "
   ]
  },
  {
   "cell_type": "raw",
   "metadata": {},
   "source": [
    "# weights:  71\n",
    "initial  value 731.388691 \n",
    "iter  10 value 369.809036\n",
    "iter  20 value 369.486307\n",
    "iter  30 value 369.454338\n",
    "iter  40 value 369.429883\n",
    "iter  40 value 369.429881\n",
    "iter  40 value 369.429881\n",
    "final  value 369.429881 \n",
    "converged"
   ]
  },
  {
   "cell_type": "markdown",
   "metadata": {},
   "source": [
    "##  <FONT COLOR=\"green\">Prévisions de l'échantillon test</font>"
   ]
  },
  {
   "cell_type": "markdown",
   "metadata": {},
   "source": [
    "Différentes prévisions sont considérées assorties des erreurs estimées sur l'échantillon test. Prévision quantitative de la concentration, prévision de dépassement à partir de la prévision quantitative et directement la prévision de dépassement à partir de l'arbre de décision. \n"
   ]
  },
  {
   "cell_type": "markdown",
   "metadata": {},
   "source": [
    "#### Erreur de régression"
   ]
  },
  {
   "cell_type": "code",
   "execution_count": null,
   "metadata": {
    "ExecuteTime": {
     "end_time": "2019-11-18T09:25:25.972074Z",
     "start_time": "2019-11-18T09:22:15.713Z"
    }
   },
   "outputs": [],
   "source": [
    "# Calcul des prévisions\n",
    "pred.nnetr=predict(nnet.reg,newdata=datestr)\n",
    "pred.nnetq=predict(nnet.dis,newdata=datestq) \n",
    "# Erreur quadratique moyenne de prévision\n",
    "sum((pred.nnetr-datestr[,\"O3obs\"])^2)/nrow(datestr)"
   ]
  },
  {
   "cell_type": "markdown",
   "metadata": {},
   "source": [
    "[1] 573.8474"
   ]
  },
  {
   "cell_type": "markdown",
   "metadata": {},
   "source": [
    "#### Erreur de classification (matrice de confusion)"
   ]
  },
  {
   "cell_type": "code",
   "execution_count": null,
   "metadata": {
    "ExecuteTime": {
     "end_time": "2019-11-18T09:25:25.996337Z",
     "start_time": "2019-11-18T09:22:15.718Z"
    }
   },
   "outputs": [],
   "source": [
    "# Matrice de confusion pour la prévision du \n",
    "# dépassement de seuil (régression)\n",
    "table(pred.nnetr>150,datestr[,\"O3obs\"]>150)"
   ]
  },
  {
   "cell_type": "raw",
   "metadata": {},
   "source": [
    "> table(pred.nnetr>150,datestr[,\"O3obs\"]>150)\n",
    "       \n",
    "        FALSE TRUE\n",
    "  FALSE   160   20\n",
    "  TRUE      6   23"
   ]
  },
  {
   "cell_type": "code",
   "execution_count": null,
   "metadata": {},
   "outputs": [],
   "source": [
    "confusionMatrix(as.factor(pred.nnetr>150),as.factor(datestr[,\"O3obs\"]>150))$table"
   ]
  },
  {
   "cell_type": "raw",
   "metadata": {},
   "source": [
    "> confusionMatrix(as.factor(pred.nnetr>150),as.factor(datestr[,\"O3obs\"]>150))$table\n",
    "          Reference\n",
    "Prediction FALSE TRUE\n",
    "     FALSE   160   20\n",
    "     TRUE      6   23"
   ]
  },
  {
   "cell_type": "code",
   "execution_count": null,
   "metadata": {
    "ExecuteTime": {
     "end_time": "2019-11-18T09:25:26.022088Z",
     "start_time": "2019-11-18T09:22:15.725Z"
    }
   },
   "outputs": [],
   "source": [
    "# Même chose pour la discrimination\n",
    "table(pred.nnetq>0.5,datestq[,\"DepSeuil\"])"
   ]
  },
  {
   "cell_type": "raw",
   "metadata": {},
   "source": [
    "> table(pred.nnetq>0.5,datestq[,\"DepSeuil\"])\n",
    "       \n",
    "        FALSE TRUE\n",
    "  FALSE   166   43"
   ]
  },
  {
   "cell_type": "markdown",
   "metadata": {},
   "source": [
    "#### Courbes ROC"
   ]
  },
  {
   "cell_type": "code",
   "execution_count": null,
   "metadata": {
    "ExecuteTime": {
     "end_time": "2019-11-18T09:25:26.112355Z",
     "start_time": "2019-11-18T09:22:15.926Z"
    }
   },
   "outputs": [],
   "source": [
    "library(ROCR)\n",
    "roclogit <- predict(log.qm.step1, newdata = datestq, type=\"response\")\n",
    "predlogit <- prediction(roclogit, datestq[, \"DepSeuil\"])\n",
    "perflogit <- performance(predlogit, \"tpr\", \"fpr\")\n",
    "\n",
    "rocnnetr=pred.nnetr/300\n",
    "prednnetr=prediction(rocnnetr,datestq$DepSeuil)\n",
    "perfnnetr=performance(prednnetr,\"tpr\",\"fpr\")\n",
    "\n",
    "rocnnetq=pred.nnetq\n",
    "prednnetq=prediction(rocnnetq,datestq$DepSeuil)\n",
    "perfnnetq=performance(prednnetq,\"tpr\",\"fpr\")\n",
    "\n",
    "# tracer les courbes ROC en les superposant pour mieux comparer\n",
    "plot(perflogit,col=\"blue\")\n",
    "plot(perfnnetr,col=\"darkgreen\",lty=2,add=TRUE) \n",
    "plot(perfnnetq,col=\"darkgreen\",add=TRUE)  \n",
    "legend(\"right\", legend=c(\"Logit\", \"Nnetr\", \"Nnetq\"),\n",
    "       col=c(\"blue\",\"darkgreen\", \"darkgreen\"), lty=c(1,2,1), text.font=1,    cex=0.8)"
   ]
  },
  {
   "attachments": {
    "7aa72ebb-1c27-40fe-b775-ddbb30df5687.png": {
     "image/png": "[encoded data removed]"
    }
   },
   "cell_type": "markdown",
   "metadata": {},
   "source": [
    "![Rplot18.png](attachment:7aa72ebb-1c27-40fe-b775-ddbb30df5687.png)"
   ]
  },
  {
   "cell_type": "markdown",
   "metadata": {},
   "source": [
    "**Question** Une méthode semble-t-elle significativement meilleure?"
   ]
  },
  {
   "cell_type": "markdown",
   "metadata": {},
   "source": [
    "**Réponse**<br>\n",
    "**Oui, la méthode de discrimination semble significativement meilleure que la méthode de régression pour la classification du dépassement de seuil**. La méthode de discrimination a une erreur de régression plus faible (0,137 contre 573,8474) et une erreur de classification plus faible (0,21 contre 0,25). La courbe ROC de la méthode de discrimination est également plus élevée que celle de la méthode de régression, ce qui suggère que la méthode de discrimination a une meilleure capacité à distinguer les observations qui dépassent le seuil de celles qui ne le dépassent pas."
   ]
  },
  {
   "cell_type": "markdown",
   "metadata": {},
   "source": [
    "# <FONT COLOR=\"Red\"> Conclusion </font> "
   ]
  },
  {
   "cell_type": "markdown",
   "metadata": {},
   "source": [
    "Tout au long de ces cours, j'ai acquis des compétences essentielles en statistique descriptive, en programmation R, ainsi qu'en modélisation prédictive. Dans le TP1, j'ai exploré la statistique descriptive unidimensionnelle, en étudiant les effectifs, effectifs cumulés, fréquences et fréquences cumulées. J'ai également maîtrisé la représentation graphique à travers le diagramme en bâtons et le diagramme cumulatif, et j'ai calculé des mesures centrales telles que la médiane, les quartiles et la moyenne, ainsi que des mesures de dispersion comme la variance et l'écart type .<br>\n",
    "\n",
    "Le TP2 m'a immergé dans le domaine de la régression linéaire, où j'ai appliqué les concepts étudiés pour modéliser des relations entre variables. Le TP3 a approfondi mes connaissances en régression avec un focus sur la régression logistique, où j'ai appris à modéliser des variables binaires.<br>\n",
    "\n",
    "Le TP4 a introduit les arbres de décision, m'offrant une compréhension approfondie de leur utilisation dans la prise de décision. Le TP5 m'a initié à l'Analyse en Composantes Principales (ACP), où j'ai exploré des méthodes de réduction de dimensionnalité.<br>\n",
    "\n",
    "Le TP6 représente une plongée dans les réseaux de neurones, avec le développement de l'algorithme Perceptron en R, élargissant ainsi ma compréhension des techniques d'apprentissage automatique.<br>\n",
    "\n",
    "Enfin, ce projet qui m'a permis d'appliquer l'ensemble des compétences acquises. La première partie a portée sur l'introduction, la prise en charge des données, et l'exploration élémentaire, notamment à travers l'ACP. Les parties suivantes du projet ont traité de la prévision par modèle gaussien, modèle linéaire, modèle quadratique, régression logistique sans et avec interactions, arbre de décision binaire, et enfin, réseau de neurones pour prédire l'échantillon test.<br>\n",
    "\n",
    "Dans l'ensemble, cette série de cours m'a doté d'une gamme variée de compétences allant de la statistique descriptive à la modélisation prédictive avancée en utilisant R. J'ai également eu l'occasion de mettre en pratique ces connaissances en exécutant des comparaisons approfondies entre les différentes méthodes, renforçant ainsi ma capacité à choisir et appliquer la méthode la plus adaptée dans des situations concrètes et complexes."
   ]
  }
 ],
 "metadata": {
  "kernelspec": {
   "display_name": "R",
   "language": "R",
   "name": "ir"
  },
  "language_info": {
   "codemirror_mode": "r",
   "file_extension": ".r",
   "mimetype": "text/x-r-source",
   "name": "R",
   "pygments_lexer": "r",
   "version": "3.6.1"
  },
  "latex_envs": {
   "LaTeX_envs_menu_present": true,
   "autoclose": false,
   "autocomplete": true,
   "bibliofile": "biblio.bib",
   "cite_by": "apalike",
   "current_citInitial": 1,
   "eqLabelWithNumbers": true,
   "eqNumInitial": 1,
   "hotkeys": {
    "equation": "Ctrl-E",
    "itemize": "Ctrl-I"
   },
   "labels_anchors": false,
   "latex_user_defs": false,
   "report_style_numbering": false,
   "user_envs_cfg": false
  },
  "toc": {
   "nav_menu": {},
   "number_sections": true,
   "sideBar": false,
   "skip_h1_title": true,
   "toc_cell": false,
   "toc_position": {
    "height": "630.933px",
    "left": "33px",
    "right": "1081.6px",
    "top": "107.133px",
    "width": "153px"
   },
   "toc_section_display": true,
   "toc_window_display": true
  }
 },
 "nbformat": 4,
 "nbformat_minor": 4
}
